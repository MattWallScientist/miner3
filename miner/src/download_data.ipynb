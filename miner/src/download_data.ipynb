{
 "cells": [
  {
   "cell_type": "markdown",
   "metadata": {},
   "source": [
    "## Before you start"
   ]
  },
  {
   "cell_type": "raw",
   "metadata": {},
   "source": [
    "This notebook will download the necessary data to run the miner tutorial notebooks.\n",
    "\n",
    "You must first complete the following steps:\n",
    "1. Download the miner3 package from Github: https://github.com/MattWallScientist/miner3\n",
    "2. Define the local path to the miner3 package download as miner_directory (see below)\n",
    "\n",
    "This notebook will save data to folders named \"expression\", \"survival\", and \"mutations\" in miner3-master/data."
   ]
  },
  {
   "cell_type": "markdown",
   "metadata": {},
   "source": [
    "## Install essential libraries"
   ]
  },
  {
   "cell_type": "code",
   "execution_count": 1,
   "metadata": {},
   "outputs": [],
   "source": [
    "import os\n",
    "import pandas as pd\n",
    "import numpy as np\n",
    "import matplotlib.pyplot as plt\n",
    "%matplotlib inline\n",
    "plt.style.use('ggplot')\n",
    "\n",
    "import miner_py3 as miner"
   ]
  },
  {
   "cell_type": "code",
   "execution_count": 4,
   "metadata": {},
   "outputs": [
    {
     "data": {
      "text/plain": [
       "<module 'miner_py3' from '/Users/mwall/Desktop/miner3-master/miner/src/miner_py3.py'>"
      ]
     },
     "execution_count": 4,
     "metadata": {},
     "output_type": "execute_result"
    }
   ],
   "source": [
    "from importlib import reload\n",
    "reload(miner)"
   ]
  },
  {
   "cell_type": "markdown",
   "metadata": {},
   "source": [
    "## Define  local path to miner package"
   ]
  },
  {
   "cell_type": "code",
   "execution_count": 6,
   "metadata": {},
   "outputs": [],
   "source": [
    "#local path to miner download\n",
    "miner_directory = os.path.join(os.path.expanduser('~'),\n",
    "                               'Desktop','miner3-master')\n",
    "#local path to miner data directory   \n",
    "miner_package_data = os.path.join(miner_directory,'miner','data')"
   ]
  },
  {
   "cell_type": "markdown",
   "metadata": {},
   "source": [
    "## Download expression data"
   ]
  },
  {
   "cell_type": "code",
   "execution_count": 8,
   "metadata": {},
   "outputs": [],
   "source": [
    "#create expression folder\n",
    "expression_folder = os.path.join(miner_package_data,'expression')\n",
    "if not os.path.isdir(expression_folder):\n",
    "    os.mkdir(expression_folder)"
   ]
  },
  {
   "cell_type": "code",
   "execution_count": 9,
   "metadata": {},
   "outputs": [
    {
     "name": "stdout",
     "output_type": "stream",
     "text": [
      "downloading 1RVl-RpIMWbYSmW0IBZftg8PUyRR1XQ4z\n",
      "download complete\n",
      "downloading 1-xFso88ujTcYcinHUyvvAxoOxyMJJFAp\n",
      "download complete\n",
      "downloading 1GrzJZ2yCTkZG4TipydCQTMZikkITT8OE\n",
      "download complete\n",
      "downloading 1LuL6mwPz2q8aqzB1lNaqy5rXFi2fyRlJ\n",
      "download complete\n"
     ]
    }
   ],
   "source": [
    "#download processed mmrf expression data\n",
    "mmrf_file_id = '1RVl-RpIMWbYSmW0IBZftg8PUyRR1XQ4z'\n",
    "destination = os.path.join(expression_folder,\"IA12Zscore.csv\")\n",
    "miner.download_file_from_google_drive(mmrf_file_id, destination)\n",
    "\n",
    "## UAMS expression\n",
    "uams_file_id = '1-xFso88ujTcYcinHUyvvAxoOxyMJJFAp'\n",
    "destination = os.path.join(expression_folder,\"GSE24080UAMSentrezIDlevel.csv\")\n",
    "miner.download_file_from_google_drive(uams_file_id, destination)\n",
    "\n",
    "## HOVON65 expression\n",
    "hovon_file_id = '1GrzJZ2yCTkZG4TipydCQTMZikkITT8OE'\n",
    "destination = os.path.join(expression_folder,\"GSE19784HOVON65entrezIDlevel.csv\")\n",
    "miner.download_file_from_google_drive(hovon_file_id, destination)\n",
    "\n",
    "## EMTAB expression\n",
    "emtab_file_id = '1LuL6mwPz2q8aqzB1lNaqy5rXFi2fyRlJ'\n",
    "destination = os.path.join(expression_folder,\"EMTAB4032entrezIDlevel.csv\")\n",
    "miner.download_file_from_google_drive(emtab_file_id, destination)"
   ]
  },
  {
   "cell_type": "code",
   "execution_count": 14,
   "metadata": {},
   "outputs": [
    {
     "name": "stdout",
     "output_type": "stream",
     "text": [
      "downloading 1yFmn76cMQmhC7CTUWABRWlgkAVALyHz_\n",
      "download complete\n"
     ]
    }
   ],
   "source": [
    "#download processed mmrf pathway nes data\n",
    "mmrf_pathways_file_id = '1yFmn76cMQmhC7CTUWABRWlgkAVALyHz_'\n",
    "destination = os.path.join(expression_folder,\"MMRF_Pathways.csv\")\n",
    "miner.download_file_from_google_drive(mmrf_pathways_file_id, destination)"
   ]
  },
  {
   "cell_type": "markdown",
   "metadata": {},
   "source": [
    "## Download mutation data"
   ]
  },
  {
   "cell_type": "code",
   "execution_count": 10,
   "metadata": {},
   "outputs": [],
   "source": [
    "#create mutations folder\n",
    "mutations_folder = os.path.join(miner_package_data,'mutations')\n",
    "if not os.path.isdir(mutations_folder):\n",
    "    os.mkdir(mutations_folder)"
   ]
  },
  {
   "cell_type": "code",
   "execution_count": 11,
   "metadata": {},
   "outputs": [
    {
     "name": "stdout",
     "output_type": "stream",
     "text": [
      "downloading 1fr5BpMKNl_krHZDY-J276EtqkOF_qVlT\n",
      "download complete\n",
      "downloading 1x9w_u9n8F0hmNBBixJTA98G0QgoF0p4g\n",
      "download complete\n",
      "downloading 1veCHkh5THbxAOfHqX-hRdyrqKuOZ-oqC\n",
      "download complete\n",
      "downloading 18pG63QrESNBxTH-hoyRDo_Tc50lIHbFY\n",
      "download complete\n"
     ]
    }
   ],
   "source": [
    "#download processed mmrf common somatic mutations data\n",
    "common_mutations_file_id = '1fr5BpMKNl_krHZDY-J276EtqkOF_qVlT'\n",
    "destination = os.path.join(mutations_folder,\"commonMutations.csv\")\n",
    "miner.download_file_from_google_drive(common_mutations_file_id, destination)\n",
    "\n",
    "#download processed mmrf rare somatic mutations data\n",
    "rare_mutations_file_id = '1x9w_u9n8F0hmNBBixJTA98G0QgoF0p4g'\n",
    "destination = os.path.join(mutations_folder,\"rareMutations.csv\")\n",
    "miner.download_file_from_google_drive(rare_mutations_file_id, destination)\n",
    "\n",
    "#download processed mmrf translocations data\n",
    "translocations_file_id = '1veCHkh5THbxAOfHqX-hRdyrqKuOZ-oqC'\n",
    "destination = os.path.join(mutations_folder,\"translocationsIA12.csv\")\n",
    "miner.download_file_from_google_drive(translocations_file_id, destination)\n",
    "\n",
    "#download processed mmrf cytogenetics data\n",
    "cytogenetics_file_id = '18pG63QrESNBxTH-hoyRDo_Tc50lIHbFY'\n",
    "destination = os.path.join(mutations_folder,\"cytogenetics.csv\")\n",
    "miner.download_file_from_google_drive(cytogenetics_file_id, destination)"
   ]
  },
  {
   "cell_type": "markdown",
   "metadata": {},
   "source": [
    "## Download survival data"
   ]
  },
  {
   "cell_type": "code",
   "execution_count": 12,
   "metadata": {},
   "outputs": [],
   "source": [
    "#create mutations folder\n",
    "survival_folder = os.path.join(miner_package_data,'survival')\n",
    "if not os.path.isdir(survival_folder):\n",
    "    os.mkdir(survival_folder)"
   ]
  },
  {
   "cell_type": "code",
   "execution_count": 13,
   "metadata": {},
   "outputs": [
    {
     "name": "stdout",
     "output_type": "stream",
     "text": [
      "downloading 10TEDuD8_BR9TUdDFXQos_bMjYU1oFsiu\n",
      "download complete\n",
      "downloading 1QnfKxLDJQwW4JXpGOQwbFHwoTaFh7ACK\n",
      "download complete\n",
      "downloading 1ZVqWs_1hr-eSsSneoW-CuPfigqQXPdt6\n",
      "download complete\n",
      "downloading 1xAAnJHmb-guLoq8DXt6Jy-HPMNiy0qJr\n",
      "download complete\n"
     ]
    }
   ],
   "source": [
    "#download processed mmrf survival data\n",
    "mmrf_survival_file_id = '10TEDuD8_BR9TUdDFXQos_bMjYU1oFsiu'\n",
    "destination = os.path.join(survival_folder,\"survivalIA12.csv\")\n",
    "miner.download_file_from_google_drive(mmrf_survival_file_id, destination)\n",
    "\n",
    "## UAMS survival\n",
    "uams_survival_file_id = '1QnfKxLDJQwW4JXpGOQwbFHwoTaFh7ACK'\n",
    "destination = os.path.join(survival_folder,\"survivalGSE24080UAMS.csv\")\n",
    "miner.download_file_from_google_drive(uams_survival_file_id, destination)\n",
    "\n",
    "## HOVON65 survival\n",
    "hovon_survival_file_id = '1ZVqWs_1hr-eSsSneoW-CuPfigqQXPdt6'\n",
    "destination = os.path.join(survival_folder,\"survivalHOVON65.csv\")\n",
    "miner.download_file_from_google_drive(hovon_survival_file_id, destination)\n",
    "\n",
    "## EMTAB survival\n",
    "emtab_survival_file_id = '1xAAnJHmb-guLoq8DXt6Jy-HPMNiy0qJr'\n",
    "destination = os.path.join(survival_folder,\"survivalEMTAB4032.csv\")\n",
    "miner.download_file_from_google_drive(emtab_survival_file_id, destination)"
   ]
  },
  {
   "cell_type": "code",
   "execution_count": null,
   "metadata": {},
   "outputs": [],
   "source": []
  }
 ],
 "metadata": {
  "kernelspec": {
   "display_name": "Python 3",
   "language": "python",
   "name": "python3"
  },
  "language_info": {
   "codemirror_mode": {
    "name": "ipython",
    "version": 3
   },
   "file_extension": ".py",
   "mimetype": "text/x-python",
   "name": "python",
   "nbconvert_exporter": "python",
   "pygments_lexer": "ipython3",
   "version": "3.8.5"
  }
 },
 "nbformat": 4,
 "nbformat_minor": 4
}
