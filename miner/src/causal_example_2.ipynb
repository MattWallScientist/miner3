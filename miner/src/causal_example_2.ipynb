{
 "cells": [
  {
   "cell_type": "markdown",
   "metadata": {},
   "source": [
    "## Import essential libraries"
   ]
  },
  {
   "cell_type": "code",
   "execution_count": 1,
   "metadata": {},
   "outputs": [],
   "source": [
    "import os\n",
    "import pandas as pd\n",
    "import numpy as np\n",
    "from scipy import stats\n",
    "import matplotlib.pyplot as plt\n",
    "import time\n",
    "from collections import Counter\n",
    "\n",
    "%matplotlib inline\n",
    "plt.style.use('ggplot')\n",
    "\n",
    "import miner_py3 as miner"
   ]
  },
  {
   "cell_type": "markdown",
   "metadata": {},
   "source": [
    "## Define paths to data and results"
   ]
  },
  {
   "cell_type": "code",
   "execution_count": 2,
   "metadata": {},
   "outputs": [],
   "source": [
    "# Path to the miner directory\n",
    "input_path = os.path.join(os.path.expanduser('~'),'Desktop','GitHub','miner','miner')\n",
    "\n",
    "# create name for results folder where output files will be saved\n",
    "resultsFolder = \"state_clustering_results_tmp\"\n",
    "\n",
    "# name of the folder containing the miner network\n",
    "#networkFolder = \"miner_network_results\"\n",
    "networkFolder = \"results_minCorrelation_0o2_50_allFiles\"\n",
    "\n",
    "# create results directory\n",
    "resultsDirectory = os.path.join(os.path.split(os.getcwd())[0],resultsFolder)\n",
    "if not os.path.isdir(resultsDirectory):\n",
    "    os.mkdir(resultsDirectory)"
   ]
  },
  {
   "cell_type": "markdown",
   "metadata": {},
   "source": [
    "## Load causal flows dataframe"
   ]
  },
  {
   "cell_type": "code",
   "execution_count": null,
   "metadata": {},
   "outputs": [],
   "source": [
    "# Load Causal Mechanistic Network\n",
    "filtered_causal_results = pd.read_csv(os.path.join(input_path,networkFolder,\"filteredCausalResults.csv\"),index_col=0,header=0)"
   ]
  },
  {
   "cell_type": "code",
   "execution_count": null,
   "metadata": {},
   "outputs": [],
   "source": [
    "filtered_causal_results.head()"
   ]
  },
  {
   "cell_type": "markdown",
   "metadata": {},
   "source": [
    "## Load data"
   ]
  },
  {
   "cell_type": "code",
   "execution_count": 3,
   "metadata": {},
   "outputs": [
    {
     "name": "stdout",
     "output_type": "stream",
     "text": [
      "completed identifier conversion.\n",
      "16216 genes were converted.\n"
     ]
    }
   ],
   "source": [
    "# Load expression Data\n",
    "expressionFile = os.path.join(input_path,\"data\",\"expression\",\"IA12Zscore.csv\")\n",
    "#expressionData = pd.read_csv(expressionFile,index_col=0,header=0)\n",
    "expressionData, conversionTable = miner.preprocess(expressionFile)\n",
    "\n",
    "# Load mutations\n",
    "common_mutations = pd.read_csv(os.path.join(input_path,'data','mutations','commonMutations.csv'),index_col=0,header=0)\n",
    "translocations = pd.read_csv(os.path.join(input_path,'data','mutations','translocationsIA12.csv'),index_col=0,header=0)\n",
    "cytogenetics = pd.read_csv(os.path.join(input_path,'data','mutations','cytogenetics.csv'),index_col=0,header=0)\n",
    "cytogenetics = cytogenetics.loc[:,list(set(cytogenetics.columns)&set(expressionData.columns))]\n",
    "common_patients_mutations_translocations = list(set(translocations.columns)&set(common_mutations.columns))\n",
    "mutation_matrix = pd.concat([common_mutations.loc[:,common_patients_mutations_translocations],translocations.loc[:,common_patients_mutations_translocations]],axis=0)\n",
    "\n",
    "#If previous results exist, use miner.read_json to load them\n",
    "revisedClusters = miner.read_json(os.path.join(input_path,networkFolder,\"coexpressionDictionary.json\"))\n",
    "coexpressionModules = miner.read_json(os.path.join(input_path,networkFolder,\"coexpressionModules.json\"))\n",
    "regulonModules = miner.read_json(os.path.join(input_path,networkFolder,\"regulons.json\"))\n",
    "mechanisticOutput = miner.read_json(os.path.join(input_path,networkFolder,\"mechanisticOutput.json\"))\n",
    "regulonDf = pd.read_csv(os.path.join(input_path,networkFolder,\"regulonDf.csv\"),index_col=0,header=0)\n",
    "overExpressedMembersMatrix = pd.read_csv(os.path.join(input_path,networkFolder,\"overExpressedMembers.csv\"),index_col=0,header=0)\n",
    "overExpressedMembersMatrix.index = np.array(overExpressedMembersMatrix.index).astype(str)\n",
    "underExpressedMembersMatrix = pd.read_csv(os.path.join(input_path,networkFolder,\"underExpressedMembers.csv\"),index_col=0,header=0)\n",
    "underExpressedMembersMatrix.index = np.array(underExpressedMembersMatrix.index).astype(str)\n",
    "eigengenes = pd.read_csv(os.path.join(input_path,networkFolder,\"eigengenes.csv\"),index_col=0,header=0)\n",
    "eigengenes.index = np.array(underExpressedMembersMatrix.index).astype(str)\n",
    "\n",
    "#Load table for converting gene names\n",
    "id_table_path = os.path.join(os.path.expanduser(\"~\"),\"Desktop\",\"GitHub\",\"miner\",\"miner\",\"data\",\"identifier_mappings.txt\")\n",
    "id_table = pd.read_csv(id_table_path,sep=\"\\t\")\n",
    "id_table = id_table[id_table[\"Source\"] == \"Gene Name\"]\n",
    "id_table.index = id_table.iloc[:,0]"
   ]
  },
  {
   "cell_type": "markdown",
   "metadata": {},
   "source": [
    "## Format transcriptional program and states data for analysis"
   ]
  },
  {
   "cell_type": "code",
   "execution_count": 4,
   "metadata": {},
   "outputs": [
    {
     "name": "stdout",
     "output_type": "stream",
     "text": [
      "Baseline: 779 First relapse: 56 \n",
      "Any relapse: 102\n"
     ]
    },
    {
     "data": {
      "text/html": [
       "<div>\n",
       "<style scoped>\n",
       "    .dataframe tbody tr th:only-of-type {\n",
       "        vertical-align: middle;\n",
       "    }\n",
       "\n",
       "    .dataframe tbody tr th {\n",
       "        vertical-align: top;\n",
       "    }\n",
       "\n",
       "    .dataframe thead th {\n",
       "        text-align: right;\n",
       "    }\n",
       "</style>\n",
       "<table border=\"1\" class=\"dataframe\">\n",
       "  <thead>\n",
       "    <tr style=\"text-align: right;\">\n",
       "      <th></th>\n",
       "      <th>state</th>\n",
       "    </tr>\n",
       "  </thead>\n",
       "  <tbody>\n",
       "    <tr>\n",
       "      <th>MMRF_1270_1_BM</th>\n",
       "      <td>16.0</td>\n",
       "    </tr>\n",
       "    <tr>\n",
       "      <th>MMRF_1037_1_BM</th>\n",
       "      <td>4.0</td>\n",
       "    </tr>\n",
       "    <tr>\n",
       "      <th>MMRF_2644_1_BM</th>\n",
       "      <td>1.0</td>\n",
       "    </tr>\n",
       "    <tr>\n",
       "      <th>MMRF_1235_1_BM</th>\n",
       "      <td>9.0</td>\n",
       "    </tr>\n",
       "    <tr>\n",
       "      <th>MMRF_1621_1_BM</th>\n",
       "      <td>4.0</td>\n",
       "    </tr>\n",
       "  </tbody>\n",
       "</table>\n",
       "</div>"
      ],
      "text/plain": [
       "                state\n",
       "MMRF_1270_1_BM   16.0\n",
       "MMRF_1037_1_BM    4.0\n",
       "MMRF_2644_1_BM    1.0\n",
       "MMRF_1235_1_BM    9.0\n",
       "MMRF_1621_1_BM    4.0"
      ]
     },
     "execution_count": 4,
     "metadata": {},
     "output_type": "execute_result"
    }
   ],
   "source": [
    "# Identify baseline and relapse patients\n",
    "baseline_patients = [name for name in expressionData.columns if name.split(\"_\")[2]=='1']\n",
    "relapse_patients = [name for name in expressionData.columns if name.split(\"_\")[2]=='2']\n",
    "all_relapse_patients = [name for name in expressionData.columns if name.split(\"_\")[2]!='1']\n",
    "print('Baseline:',len(baseline_patients),'First relapse:',len(relapse_patients),'\\nAny relapse:',len(all_relapse_patients))\n",
    "\n",
    "# Load transcriptional programs\n",
    "transcriptional_programs = miner.read_json(os.path.join(input_path,networkFolder,'transcriptional_programs.json'))\n",
    "program_list = [transcriptional_programs[str(key)] for key in range(len(transcriptional_programs.keys()))]\n",
    "\n",
    "# Load transcriptional states\n",
    "transcriptional_states = miner.read_json(os.path.join(input_path,networkFolder,'transcriptional_states.json'))\n",
    "states_list = [transcriptional_states[str(key)] for key in range(len(transcriptional_states.keys()))]\n",
    "final_state = list(set(expressionData.columns)-set(np.hstack(states_list)))\n",
    "if len(final_state)>0:\n",
    "    states_list.append(final_state)\n",
    "states = states_list.copy()\n",
    "diff_matrix_MMRF = overExpressedMembersMatrix-underExpressedMembersMatrix\n",
    "\n",
    "states_df = pd.DataFrame(np.zeros((len(states),expressionData.shape[1])))\n",
    "states_df.index = list(range(1,len(states)+1))\n",
    "states_df.columns = expressionData.columns\n",
    "\n",
    "for i in range(len(states)):\n",
    "    states_df.loc[i+1,states[i]] = 1\n",
    "\n",
    "\n",
    "state_labels = pd.DataFrame(np.zeros((expressionData.shape[1],1)))\n",
    "state_labels.index = expressionData.columns\n",
    "state_labels.columns = [\"state\"]\n",
    "for j in range(states_df.shape[0]):\n",
    "    s = states_df.index[j]\n",
    "    state_labels.loc[states[j],\"state\"] = int(s)\n",
    "\n",
    "state_labels.head()"
   ]
  },
  {
   "cell_type": "code",
   "execution_count": null,
   "metadata": {},
   "outputs": [],
   "source": [
    "#Calculate network activity\n",
    "network_activity_diff = miner.networkActivity(regulon_matrix=regulonDf.copy(),\n",
    "                                                 reference_matrix=diff_matrix_MMRF.copy(),\n",
    "                                                 minRegulons = 2)"
   ]
  },
  {
   "cell_type": "code",
   "execution_count": null,
   "metadata": {},
   "outputs": [],
   "source": [
    "# Create dictionary of program genes\n",
    "# make dictionary of genes by program\n",
    "pr_genes = {}\n",
    "for i in range(len(program_list)):\n",
    "    rgns = program_list[i]\n",
    "    genes = []\n",
    "    for r in rgns:\n",
    "        genes.append(regulonModules[r])\n",
    "    genes = list(set(np.hstack(genes)))\n",
    "    pr_genes[i] = genes\n",
    "    \n",
    "# select reference dictionary for downstream analysis (revisedClusters, coexpressionModules, or regulonModules)\n",
    "referenceDictionary = pr_genes\n",
    "# create a background matrix used for statistical hypothesis testing\n",
    "bkgd = miner.backgroundDf(expressionData)\n",
    "# for each cluster, give samples that show high coherent cluster activity\n",
    "overExpressedMembers_pr = miner.biclusterMembershipDictionary(referenceDictionary,bkgd,label=2,p=0.05)\n",
    "# for each clus|ter, give samples that show low coherent cluster activity\n",
    "underExpressedMembers_pr = miner.biclusterMembershipDictionary(referenceDictionary,bkgd,label=0,p=0.05)\n",
    "\n",
    "# write membership matrices to .csv file\n",
    "overExpressedProgramsMatrix_pr = miner.membershipToIncidence(overExpressedMembers_pr,expressionData)\n",
    "#overExpressedMembersMatrix.to_csv(os.path.join(resultsDirectory,\"overExpressedMembers.csv\"))\n",
    "underExpressedProgramsMatrix_pr = miner.membershipToIncidence(underExpressedMembers_pr,expressionData)\n",
    "#underExpressedMembersMatrix.to_csv(os.path.join(resultsDirectory,\"underExpressedMembers.csv\"))\n",
    "\n",
    "# Generate program activity difference matrix\n",
    "dfr_pr = overExpressedProgramsMatrix_pr - underExpressedProgramsMatrix_pr"
   ]
  },
  {
   "cell_type": "markdown",
   "metadata": {},
   "source": [
    "## Load causal anchor matrices"
   ]
  },
  {
   "cell_type": "code",
   "execution_count": 5,
   "metadata": {},
   "outputs": [],
   "source": [
    "# Load mutation matrices\n",
    "common_mutations_file = os.path.join(input_path,\"data\",\"mutations\",\"commonMutations.csv\")\n",
    "common_mutations = pd.read_csv(common_mutations_file,index_col=0,header=0)\n",
    "\n",
    "translocations_file = os.path.join(input_path,\"data\",\"mutations\",\"translocationsIA12.csv\")\n",
    "translocations = pd.read_csv(translocations_file,index_col=0,header=0)\n",
    "\n",
    "cytogenetics_file = os.path.join(input_path,\"data\",\"mutations\",\"cytogenetics.csv\")\n",
    "cytogenetics = pd.read_csv(cytogenetics_file,index_col=0,header=0)"
   ]
  },
  {
   "cell_type": "markdown",
   "metadata": {},
   "source": [
    "## Perform causal analysis"
   ]
  },
  {
   "cell_type": "code",
   "execution_count": null,
   "metadata": {},
   "outputs": [],
   "source": [
    "# Define reference information for causal analysis\n",
    "referenceDictionary = regulonModules\n",
    "referenceRegulonDf = regulonDf\n",
    "referenceDf = eigengenes\n",
    "reference_patients = expressionData.columns\n",
    "\n",
    "#Identify reference genotype or phenotype matrix as \"mut_matrix\"\n",
    "#Using states_df is akin to differential expression analysis of states\n",
    "#The causal results will show regulons that are perturbed in each state\n",
    "\n",
    "mut_matrix = states_df.copy()\n",
    "mut_matrix.index = np.array(mut_matrix.index).astype(str)"
   ]
  },
  {
   "cell_type": "code",
   "execution_count": null,
   "metadata": {},
   "outputs": [],
   "source": [
    "#Perform causal analysis using mut_matrix for anchors\n",
    "causal_results_directory = os.path.join(resultsDirectory,\"causal_analysis\")\n",
    "causal_subdirectory = \"causal_results_o2\"\n",
    "causal_states = miner.causalNetworkAnalysis(regulon_matrix=referenceRegulonDf.copy(),\n",
    "                                            expression_matrix=expressionData.copy(),\n",
    "                                            reference_matrix=referenceDf.copy(),\n",
    "                                            mutation_matrix=mut_matrix,\n",
    "                                            resultsDirectory=causal_results_directory,\n",
    "                                            minRegulons=1,significance_threshold=0.05,\n",
    "                                            causalFolder=causal_subdirectory)\n"
   ]
  },
  {
   "cell_type": "code",
   "execution_count": null,
   "metadata": {},
   "outputs": [],
   "source": [
    "# compile all causal results\n",
    "# If states_df was passed as mut_matrix, the state is under the \"Mutation\" heading\n",
    "causal_directory = os.path.join(causal_results_directory,causal_subdirectory)\n",
    "causal_results = miner.readCausalFiles(causal_directory)\n",
    "causal_results.to_csv(os.path.join(causal_directory,\"CausalStates0o2.csv\"))\n",
    "print(causal_results.shape)\n",
    "causal_results.head()"
   ]
  },
  {
   "cell_type": "code",
   "execution_count": null,
   "metadata": {},
   "outputs": [],
   "source": [
    "causal_results_directory = os.path.join(resultsDirectory,\"causal_analysis\")\n",
    "causal_subdirectory = \"causal_results_o2\"\n",
    "causal_directory = os.path.join(causal_results_directory,causal_subdirectory)\n",
    "causal_results_states = miner.readCausalFiles(causal_directory)"
   ]
  },
  {
   "cell_type": "code",
   "execution_count": null,
   "metadata": {},
   "outputs": [],
   "source": [
    "causal_results_states.shape"
   ]
  },
  {
   "cell_type": "markdown",
   "metadata": {},
   "source": [
    "## Perform permutation analysis"
   ]
  },
  {
   "cell_type": "code",
   "execution_count": null,
   "metadata": {},
   "outputs": [],
   "source": [
    "#Generate permutation matrix\n",
    "permuted_mutations = pd.DataFrame(np.zeros(mut_matrix.shape))\n",
    "permuted_mutations.index = mut_matrix.index\n",
    "permuted_mutations.columns = mut_matrix.columns\n",
    "num_muts = list(mut_matrix.sum(axis=1))\n",
    "\n",
    "for i in range(permuted_mutations.shape[0]):\n",
    "    ix = permuted_mutations.index[i]\n",
    "    rand_muts = miner.sample(mut_matrix.columns,int(num_muts[i]),replace=False)\n",
    "    permuted_mutations.loc[ix,rand_muts] = 1"
   ]
  },
  {
   "cell_type": "code",
   "execution_count": null,
   "metadata": {},
   "outputs": [],
   "source": [
    "#Generate causal analysis null distribution\n",
    "mut_matrix = permuted_mutations.copy()\n",
    "mut_matrix.index = np.array(mut_matrix.index).astype(str)\n",
    "#Perform causal analysis using mut_matrix for anchors\n",
    "causal_results_directory = os.path.join(resultsDirectory,\"causal_null\")\n",
    "causal_subdirectory = \"causal_permutation_test\"\n",
    "causal_null = miner.causalNetworkAnalysis(regulon_matrix=referenceRegulonDf.copy(),\n",
    "                                            expression_matrix=expressionData.copy(),\n",
    "                                            reference_matrix=referenceDf.copy(),\n",
    "                                            mutation_matrix=mut_matrix,\n",
    "                                            resultsDirectory=causal_results_directory,\n",
    "                                            minRegulons=1,significance_threshold=0.05,\n",
    "                                            causalFolder=causal_subdirectory)\n",
    "# compile all causal results\n",
    "# If states_df was passed as mut_matrix, the state is under the \"Mutation\" heading\n",
    "causal_null_directory = os.path.join(causal_results_directory,causal_subdirectory)\n",
    "causal_null = miner.readCausalFiles(causal_null_directory)"
   ]
  },
  {
   "cell_type": "code",
   "execution_count": null,
   "metadata": {},
   "outputs": [],
   "source": [
    "#Repeat this with gridsearch and visualize with color/size indicating number of flows\n",
    "#et minimum number of differentially expressed regulons (default = 1)\n",
    "n_diff_exp = 1\n",
    "\n",
    "filter_range = np.arange(0,1,0.05)\n",
    "perm_ps = []\n",
    "num_flows = []\n",
    "for aligned_fraction in filter_range:\n",
    "    causal_null_filtered = causal_null[causal_null.Fraction_of_aligned_and_diff_exp_edges>=aligned_fraction]\n",
    "    causal_null_filtered = causal_null_filtered[causal_null_filtered.number_differentially_expressed_regulons>=n_diff_exp]\n",
    "    #_=plt.hist(causal_null_filtered.Fraction_of_aligned_and_diff_exp_edges,bins=50)   \n",
    "\n",
    "    causal_results_filtered = causal_results[causal_results.Fraction_of_aligned_and_diff_exp_edges>=aligned_fraction]\n",
    "    causal_results_filtered = causal_results_filtered[causal_results_filtered.number_differentially_expressed_regulons>=n_diff_exp]\n",
    "    #_=plt.hist(causal_results_filtered.Fraction_of_aligned_and_diff_exp_edges,bins=50,alpha=0.3)   \n",
    "\n",
    "    perm_ps.append(float(causal_null_filtered.shape[0])/causal_results_filtered.shape[0])\n",
    "    num_flows.append(causal_results_filtered.shape[0])\n",
    "\n",
    "#Instantiate figure\n",
    "fig, (ax1, ax2) = plt.subplots(2,1,sharex=True)\n",
    "fig.set_figheight(8)\n",
    "fig.set_figwidth(8)\n",
    "\n",
    "#p-value plot\n",
    "ax1.scatter(filter_range,perm_ps)\n",
    "ax1.set_ylabel(\"Permuted p-value\",fontsize=14)\n",
    "ax1.set_xlabel(\"Aligned fraction cutoff\",fontsize=14)\n",
    "ax1.axhline(0.1,color=\"red\")\n",
    "ax1.axhline(0.05,color=\"blue\")\n",
    "\n",
    "#p-value plot\n",
    "ax2.scatter(filter_range,num_flows)\n",
    "ax2.set_ylabel(\"Number of causal flows\",fontsize=14)\n",
    "ax2.set_xlabel(\"Aligned fraction cutoff\",fontsize=14)\n"
   ]
  },
  {
   "cell_type": "code",
   "execution_count": null,
   "metadata": {},
   "outputs": [],
   "source": [
    "p_threshold = 0.05\n",
    "\n",
    "#Set parameters\n",
    "aligned_fraction = filter_range[np.where(np.array(perm_ps)<=p_threshold)[0][0]]\n",
    "n_diff_exp = 1\n",
    "aligned_fraction = 0.20\n",
    "\n",
    "#Filter causal results\n",
    "causal_results_filtered = causal_results[causal_results.Fraction_of_aligned_and_diff_exp_edges>=aligned_fraction]\n",
    "causal_results_filtered = causal_results_filtered[causal_results_filtered.number_differentially_expressed_regulons>=n_diff_exp]\n",
    "print(\"Optimized cutoff: {:.2f}\".format(aligned_fraction))"
   ]
  },
  {
   "cell_type": "code",
   "execution_count": null,
   "metadata": {},
   "outputs": [],
   "source": [
    "fig, (ax1, ax2,) = plt.subplots(2,2,sharex=False)\n",
    "fig.tight_layout()\n",
    "fig.set_figheight(8)\n",
    "fig.set_figwidth(8)\n",
    "\n",
    "# Edges aligned\n",
    "_=ax1[0].hist(causal_results_filtered.Fraction_of_edges_correctly_aligned,bins=50)\n",
    "_=ax1[0].set_title(\"Edges aligned\")\n",
    "_=ax1[0].set_xlabel(\"Proportion\")\n",
    "\n",
    "# Edges aligned and diff exp\n",
    "_=ax1[1].hist(causal_results_filtered.Fraction_of_aligned_and_diff_exp_edges,bins=50)\n",
    "_=ax1[1].set_title(\"Edges aligned and diff. exp.\")\n",
    "_=ax1[1].set_xlabel(\"Proportion\")\n",
    "\n",
    "# Edges aligned\n",
    "_=ax2[0].hist(causal_results_filtered.loc[:,\"-log10(p)_MutationRegulatorEdge\"],bins=50)\n",
    "_=ax2[0].set_title(\"Mutation-regulator significance\")\n",
    "_=ax2[0].set_xlabel(\"-log10(p)\")\n",
    "\n",
    "# Edges aligned\n",
    "_=ax2[1].hist(causal_results_filtered.loc[:,\"-log10(p)_Regulon_stratification\"],bins=50)\n",
    "_=ax2[1].set_title(\"Regulon stratification\")\n",
    "_=ax2[1].set_xlabel(\"-log10(p)\")\n",
    "\n",
    "# Save plot\n",
    "plt.savefig(os.path.join(resultsDirectory,\"Causal_states_significance\"))"
   ]
  },
  {
   "cell_type": "code",
   "execution_count": null,
   "metadata": {},
   "outputs": [],
   "source": [
    "fig, (ax1, ax2) = plt.subplots(2,3,sharex=False)\n",
    "fig.tight_layout()\n",
    "fig.set_figheight(7)\n",
    "fig.set_figwidth(11)\n",
    "\n",
    "# Edges aligned\n",
    "_=ax1[0].hist(causal_results_filtered.Fraction_of_edges_correctly_aligned,bins=50)\n",
    "_=ax1[0].set_title(\"Edges aligned\",fontsize=12)\n",
    "_=ax1[0].set_xlabel(\"Proportion\",fontsize=12)\n",
    "_=ax1[0].set_ylabel(\"Number of edges\",fontsize=12)\n",
    "\n",
    "# Edges aligned and diff exp\n",
    "_=ax1[1].hist(causal_results_filtered.Fraction_of_aligned_and_diff_exp_edges,bins=50)\n",
    "_=ax1[1].set_title(\"Edges aligned and diff. exp.\",fontsize=12)\n",
    "_=ax1[1].set_xlabel(\"Proportion\",fontsize=12)\n",
    "_=ax1[1].set_ylabel(\"Number of edges\",fontsize=12)\n",
    "\n",
    "# Edges aligned\n",
    "_=ax1[2].hist(causal_results_filtered.loc[:,\"-log10(p)_MutationRegulatorEdge\"],bins=50)\n",
    "_=ax1[2].set_title(\"Mutation-regulator significance\",fontsize=12)\n",
    "_=ax1[2].set_xlabel(\"-log10(p)\",fontsize=12)\n",
    "_=ax1[2].set_ylabel(\"Number of edges\",fontsize=12)\n",
    "\n",
    "# Edges aligned\n",
    "_=ax2[0].hist(causal_results_filtered.loc[:,\"-log10(p)_Regulon_stratification\"],bins=50)\n",
    "_=ax2[0].set_title(\"Regulon stratification\",fontsize=12)\n",
    "_=ax2[0].set_xlabel(\"-log10(p)\",fontsize=12)\n",
    "_=ax2[0].set_ylabel(\"Number of regulons\",fontsize=12)\n",
    "\n",
    "# Permuted p-values\n",
    "_=ax2[1].scatter(filter_range,perm_ps)\n",
    "_=ax2[1].set_ylabel(\"Permuted p-value\",fontsize=12)\n",
    "_=ax2[1].set_xlabel(\"Aligned fraction cutoff\",fontsize=12)\n",
    "#_=ax2[1].axhline(0.1,color=\"red\")\n",
    "_=ax2[1].axhline(0.05,color=\"red\")\n",
    "_=ax2[1].set_title(\"Causal significance\",fontsize=12)\n",
    "\n",
    "# Number of causal flows\n",
    "_=ax2[2].scatter(filter_range,num_flows)\n",
    "_=ax2[2].set_ylabel(\"Number of causal flows\",fontsize=12)\n",
    "_=ax2[2].set_xlabel(\"Aligned fraction cutoff\",fontsize=12)\n",
    "_=ax2[2].set_title(\"Causal flows\",fontsize=12)\n",
    "\n",
    "axs = [ax1[0],ax1[1],ax1[2],ax2[0],ax2[1],ax2[2]]\n",
    "for n, ax in enumerate(axs):\n",
    "    ax.text(-0.3, 1.05, string.ascii_uppercase[n], transform=ax.transAxes, \n",
    "            size=16, weight='bold')\n",
    "    \n",
    "# Save plot\n",
    "plt.savefig(os.path.join(resultsDirectory,\"Causal_states_significance.pdf\"),bbox_inches=\"tight\")"
   ]
  },
  {
   "cell_type": "markdown",
   "metadata": {},
   "source": [
    "## Load databases for TF-TF network inference"
   ]
  },
  {
   "cell_type": "code",
   "execution_count": null,
   "metadata": {},
   "outputs": [],
   "source": [
    "#Index network dataframe with regulon id\n",
    "regulonDf_regid = regulonDf.copy()\n",
    "regulonDf_regid.index = regulonDf_regid.Regulon_ID\n",
    "\n",
    "#Load reference TFBSDB database oriented from targets to tfs\n",
    "tfbsdb_genes_to_tf = miner.read_pkl(os.path.join(input_path,\"data\",\"network_dictionaries\",\"tfbsdb_genes_to_tf.pkl\"))\n",
    "\n",
    "#Load reference chip-seq database\n",
    "chea_genes_to_tf = miner.read_pkl(os.path.join(input_path,\"data\",\"network_dictionaries\",\"chea_reciprocal.pkl\"))\n"
   ]
  },
  {
   "cell_type": "markdown",
   "metadata": {},
   "source": [
    "## Filter causal results to generate high-confidence network"
   ]
  },
  {
   "cell_type": "code",
   "execution_count": null,
   "metadata": {},
   "outputs": [],
   "source": [
    "#Select state or mutation ID to perform further analysis\n",
    "anchor_id = 15\n",
    "\n",
    "#Subset causal results to anchor_id\n",
    "causal_subset = causal_results.iloc[np.where(causal_results.Mutation==anchor_id)[0],:]\n",
    "\n",
    "#Filter causal results to generate high-confidence network\n",
    "#The \"Fraction_of_aligned_and_diff_exp_edges\" parameter controls which regulons are kept\n",
    "#If a regulator is differentially expressed, and its targeted regulons are differentially\n",
    "#expressed in the direction consistent with the regulator-target regulon edge, a causal link\n",
    "#is drawn from the state or mutation to the regulator and regulons. We do not require that\n",
    "#every regulon downstream of a regulator is differentially expressed. The proportion that\n",
    "#must be differentially expressed is defined by the \"Fraction_of_aligned_and_diff_exp_edges\" parameter. \n",
    "\n",
    "#Apply default parameter of 0.5, or customize between [0,1] (1 is most stringent)\n",
    "#0.555 and 0.666 correspond to p = 0.1 and p = 0.05, respectively, by permutation analysis\n",
    "fraction_of_impacted_regulons = aligned_fraction\n",
    "causal_subset = causal_subset.iloc[np.where(causal_subset.Fraction_of_aligned_and_diff_exp_edges>fraction_of_impacted_regulons)[0],:]\n",
    "causal_subset.sort_values(by=\"Fraction_of_aligned_and_diff_exp_edges\",ascending=False,inplace=True)\n",
    "\n",
    "#Separate TFs that are activated or repressed in causal subset\n",
    "mut_act = causal_subset[causal_subset.MutationRegulatorEdge==1].Regulator.unique()\n",
    "mut_rep = causal_subset[causal_subset.MutationRegulatorEdge==-1].Regulator.unique()\n",
    "\n",
    "print(\"{:d} causal flows specific to subset\".format(causal_subset.shape[0]))"
   ]
  },
  {
   "cell_type": "markdown",
   "metadata": {},
   "source": [
    "## List regulators specific to causal subset"
   ]
  },
  {
   "cell_type": "code",
   "execution_count": null,
   "metadata": {},
   "outputs": [],
   "source": [
    "#List regulators specific to causal subset\n",
    "from collections import Counter\n",
    "regulator_count = Counter(causal_subset.Regulator)\n",
    "reglist = [g[0] for g in regulator_count.most_common()]\n",
    "regulator_count.most_common()[0:10]"
   ]
  },
  {
   "cell_type": "markdown",
   "metadata": {},
   "source": [
    "## Define output directory for TF-TF network inference"
   ]
  },
  {
   "cell_type": "code",
   "execution_count": null,
   "metadata": {},
   "outputs": [],
   "source": [
    "#Create results directory\n",
    "if not os.path.isdir(os.path.join(resultsDirectory,str(anchor_id))):\n",
    "    os.mkdir(os.path.join(resultsDirectory,str(anchor_id)))\n",
    "tf_network_directory = os.path.join(resultsDirectory,str(anchor_id),\"tf-epi_network\")\n",
    "\n",
    "if not os.path.isdir(tf_network_directory):\n",
    "    os.mkdir(tf_network_directory)"
   ]
  },
  {
   "cell_type": "markdown",
   "metadata": {},
   "source": [
    "## Predict TF-TF network"
   ]
  },
  {
   "cell_type": "code",
   "execution_count": null,
   "metadata": {
    "scrolled": false
   },
   "outputs": [],
   "source": [
    "# Predict expression of each TF in network from other TFs in network\n",
    "# Require that predictor TFs have binding site for target TF\n",
    "# Supply TFBSDB and CHiP-seq database information for binding sites\n",
    "\n",
    "from sklearn.linear_model import Lasso\n",
    "import warnings\n",
    "\n",
    "#Suppress warnings\n",
    "warnings.filterwarnings(\"ignore\")\n",
    "\n",
    "#Set parameters for LASSO model\n",
    "lambda_min = 0.1\n",
    "n_iter = 50\n",
    "reference_database = tfbsdb_genes_to_tf\n",
    "reference_database2 = chea_genes_to_tf\n",
    "\n",
    "#Create list to collect predictive performance measures\n",
    "predictive_performance = []\n",
    "for tf_ix in range(len(reglist)):\n",
    "    #Identify TFs with binding sites in target TF promoter\n",
    "    tf = reglist[tf_ix]\n",
    "    \n",
    "    matches = []\n",
    "    if tf in reference_database.keys():\n",
    "        matches = reference_database[tf]\n",
    " \n",
    "    matches_2 = []\n",
    "    if reference_database2 is not None:\n",
    "        if tf in reference_database2.keys():\n",
    "            matches_2 = reference_database2[tf]\n",
    "        \n",
    "    matches = list(set(matches)|set(matches_2))    \n",
    "    hits = miner.intersect(reglist,matches)\n",
    "\n",
    "    #Remove target TF from predictors\n",
    "    hits = miner.setdiff(hits,[tf])\n",
    "    if len(hits) == 0:\n",
    "        print(tf+\" has no upstream tfs\")\n",
    "        continue\n",
    "\n",
    "    #Loop over coefficient thresholds to identify optimal model\n",
    "    mean_rs = []\n",
    "    mean_coefs = []\n",
    "    hitlist = []\n",
    "    hitlist.append(hits)\n",
    "    for threshold in np.arange(0.01,0.21,0.01):\n",
    "        #Generate matrices for TF-TF network inferences\n",
    "        if len(hits)>0:\n",
    "            tmp_x = np.array(expressionData.loc[hits,reference_patients])\n",
    "            tmp_y = np.array(expressionData.loc[tf,reference_patients])\n",
    "\n",
    "        # Perform n_iter bootstrap iterations of predicting TF expression\n",
    "        coefs = []\n",
    "        rs = []\n",
    "        for iter in range(n_iter):\n",
    "            #Split data into training and test sets\n",
    "            train_test_dict = miner.train_test(tmp_x,tmp_y,reference_patients)\n",
    "            X = train_test_dict[\"x_train\"].T\n",
    "            y = train_test_dict[\"y_train\"]\n",
    "\n",
    "            #Generate LASSO model to predict TF expression\n",
    "            clf = Lasso(random_state=0,alpha=lambda_min,fit_intercept=True)\n",
    "            clf.fit(X, y) \n",
    "\n",
    "            #Retrieve model coefficients for weight of each TF in predicting target TF\n",
    "            coef = clf.coef_\n",
    "            coefs.append(coef)\n",
    "\n",
    "            #Evaluate performace of predictor\n",
    "            y_ = train_test_dict[\"y_test\"]\n",
    "            decision_function_score = clf.predict(train_test_dict[\"x_test\"].T)\n",
    "            r, p = stats.spearmanr(decision_function_score,train_test_dict[\"y_test\"])\n",
    "            rs.append(r)\n",
    "\n",
    "        #Use the mean coefficient of all bootstrap runs for the final TF coefficients\n",
    "        mean_coef = np.mean(np.vstack(coefs),axis=0)\n",
    "        mean_coefs.append(mean_coef)\n",
    "\n",
    "        #Use the mean correlation coefficient as the final performace metric\n",
    "        mean_r = np.mean(np.vstack(rs),axis=0)\n",
    "        #print(\"Mean Spearman correlation of model to target expression: {:.3f}\".format(mean_r[0]))\n",
    "        mean_rs.append(mean_r)\n",
    "\n",
    "        #Restrict hits by thresholding coefficients for the next iteration\n",
    "        hits = np.array(hits)[np.abs(mean_coef)>threshold]\n",
    "        hitlist.append(hits)\n",
    "\n",
    "        if len(hits) == 0:\n",
    "            break\n",
    "\n",
    "    #Set cut-off model performance\n",
    "    #This makes the model as sparse as possible while maintaing\n",
    "    #performance > thresh\n",
    "    thresh = 0.975*mean_rs[0]\n",
    "\n",
    "    #Identify optimal model\n",
    "    filter_ = np.where(mean_rs<thresh)[0]\n",
    "    if len(filter_) > 0:\n",
    "        selection = np.where(mean_rs<thresh)[0][0]-1\n",
    "    \n",
    "    elif len(filter_)==0:\n",
    "        selection = len(mean_rs)-1\n",
    "\n",
    "    #Convert the ensembl ids to hgnc\n",
    "    tf_names = miner.gene_conversion(hitlist[selection],id_table=id_table,list_symbols=True)\n",
    "    target_name = miner.gene_conversion(tf,id_table=id_table,list_symbols=True)\n",
    "\n",
    "    #List number of coefficients in each model\n",
    "    len_coefs = [len(c) for c in mean_coefs]\n",
    "\n",
    "    #Define output directory to save optimized model\n",
    "    output_dir = os.path.join(tf_network_directory,target_name[0])\n",
    "    if not os.path.isdir(output_dir):\n",
    "        os.mkdir(output_dir)\n",
    "    \n",
    "    #Write model to file\n",
    "    tmp_output = pd.DataFrame(mean_coefs[selection])\n",
    "    tmp_output.columns = [\"Coefficient\"]\n",
    "    tmp_output.index = tf_names\n",
    "    tmp_output.to_csv(os.path.join(output_dir,\"model.csv\"))\n",
    "    \n",
    "    predictive_performance.append(mean_rs[selection][0])\n",
    "    print(\"completed \",target_name[0],\" model\")\n"
   ]
  },
  {
   "cell_type": "code",
   "execution_count": null,
   "metadata": {},
   "outputs": [],
   "source": [
    "#Plot histogram of predictive performace\n",
    "plt.figure(figsize=(8,8))\n",
    "plt.hist(predictive_performance,bins=25,edgecolor='w')\n",
    "plt.ylabel(\"Frequency\",fontsize=16)\n",
    "plt.xlabel(\"Spearman correlation\",fontsize=16)\n",
    "plt.yticks(fontsize=16)\n",
    "plt.xticks(fontsize=16)\n",
    "plt.title(\"Predicted vs. observed TF expression\",\n",
    "         fontsize=16)\n",
    "plt.text(0.19, 12, \n",
    "         \"Median correlation = {:.2f}\".format(\n",
    "             np.nanmedian(predictive_performance)),\n",
    "        fontsize=16)\n",
    "\n",
    "#Save figure\n",
    "plt.savefig(os.path.join(tf_network_directory,\"predictive_performace.pdf\"),bbox_inches=\"tight\")"
   ]
  },
  {
   "cell_type": "markdown",
   "metadata": {},
   "source": [
    "## Compile tf-tf network from individual models"
   ]
  },
  {
   "cell_type": "code",
   "execution_count": null,
   "metadata": {},
   "outputs": [],
   "source": [
    "#List filenames from tf_network_directory\n",
    "filenames = [x[0] for x in os.walk(tf_network_directory)]\n",
    "\n",
    "#Read predictive models for each TF in network\n",
    "lines = []\n",
    "for filename in filenames[1:]:\n",
    "    target = os.path.basename(os.path.normpath(filename))\n",
    "    if target == 'epi-tf_network':\n",
    "        continue\n",
    "    if target == 'tf-tf_network':\n",
    "        continue\n",
    "    if target == os.path.basename(os.path.normpath(tf_network_directory)):\n",
    "        continue\n",
    "    \n",
    "    model_df = pd.read_csv(os.path.join(filename,\"model.csv\"),index_col=0,header=0)\n",
    "    \n",
    "    for ix in model_df.index:\n",
    "        tmp = [ix,model_df.loc[ix,\"Coefficient\"],target]\n",
    "        lines.append(tmp)\n",
    "\n",
    "#Write edges into a TF network\n",
    "tf_network = pd.DataFrame(np.vstack(lines))\n",
    "tf_network.columns = [\"Source\",\"Edge\",\"Target\"]\n",
    "tf_network = tf_network[np.abs(np.array(tf_network.Edge).astype(float))>0.0]\n",
    "tf_network.to_csv(os.path.join(tf_network_directory,\"tf_tf_network.csv\"))\n",
    "tf_network.head()"
   ]
  },
  {
   "cell_type": "markdown",
   "metadata": {},
   "source": [
    "## Calculate network parameters for each TF"
   ]
  },
  {
   "cell_type": "code",
   "execution_count": null,
   "metadata": {},
   "outputs": [],
   "source": [
    "#Create Table of in- and out-degrees\n",
    "out_degree = []\n",
    "in_degree = []\n",
    "\n",
    "for tf in tf_network.Target.unique():\n",
    "    tmp_in = sum(1*(tf_network.Target==tf))\n",
    "    tmp_out = sum(1*(tf_network.Source==tf))\n",
    "    out_degree.append(tmp_out)\n",
    "    in_degree.append(tmp_in)\n",
    "    \n",
    "#Calculate ratio of out-degree to in-degree\n",
    "out_over_in = list(np.array(out_degree)/np.array(in_degree).astype(float))\n",
    "\n",
    "#Format information as dataframe\n",
    "network_degrees = pd.DataFrame(np.vstack([in_degree,out_degree,out_over_in]).T)\n",
    "network_degrees.columns = [\"in_degree\",\"out_degree\",\"out/in\"]\n",
    "network_degrees.index = tf_network.Target.unique()\n",
    "network_degrees.sort_values(by=\"out/in\",ascending=False,inplace=True)\n",
    "\n",
    "#Reconvert index to ensembl\n",
    "ensembl_index = miner.gene_conversion(network_degrees.index,\n",
    "                      input_type=\"symbol\",\n",
    "                      output_type=\"ensembl.gene\",\n",
    "                      id_table=id_table,\n",
    "                      list_symbols=True)\n",
    "\n",
    "#Format ensembl index for integration\n",
    "alt_id = pd.DataFrame(ensembl_index)\n",
    "alt_id.columns = [\"Alt_ID\"]\n",
    "alt_id.index = network_degrees.index\n",
    "\n",
    "#Append ensembl index to network output\n",
    "network_degrees = pd.concat([alt_id,network_degrees],axis=1)\n",
    "\n",
    "#Write to file\n",
    "network_degrees.to_csv(os.path.join(tf_network_directory,\"tf_tf_network_degrees.csv\"))\n",
    "network_degrees.head()"
   ]
  },
  {
   "cell_type": "markdown",
   "metadata": {},
   "source": [
    "## Probe TFs in TF-TF network"
   ]
  },
  {
   "cell_type": "code",
   "execution_count": null,
   "metadata": {
    "scrolled": false
   },
   "outputs": [],
   "source": [
    "#Investigate regulators of a specific TF in the TF-TF network\n",
    "myc_upstream = tf_network[tf_network.Target==\"MYC\"]\n",
    "print(myc_upstream)\n",
    "\n",
    "#Investigate targets of a specific TF in the TF-TF network\n",
    "myc_downstream = tf_network[tf_network.Source==\"MYC\"]\n",
    "print(\"\\n\",myc_downstream)"
   ]
  },
  {
   "cell_type": "markdown",
   "metadata": {},
   "source": [
    "## Generate initial TF-target tfs dictionary for master regulator analysis"
   ]
  },
  {
   "cell_type": "code",
   "execution_count": null,
   "metadata": {},
   "outputs": [],
   "source": [
    "#Reconvert index to ensembl\n",
    "ensembl_source = miner.gene_conversion(list(tf_network.Source),\n",
    "                      input_type=\"symbol\",\n",
    "                      output_type=\"ensembl.gene\",\n",
    "                      id_table=id_table,\n",
    "                      list_symbols=True)\n",
    "\n",
    "#Format for integration\n",
    "alt_source = pd.DataFrame(ensembl_source)\n",
    "alt_source.columns = [\"Source\"]\n",
    "alt_source.index = tf_network.index\n",
    "\n",
    "#Reconvert index to ensembl\n",
    "ensembl_target = miner.gene_conversion(list(tf_network.Target),\n",
    "                      input_type=\"symbol\",\n",
    "                      output_type=\"ensembl.gene\",\n",
    "                      id_table=id_table,\n",
    "                      list_symbols=True)\n",
    "\n",
    "#Format for integration\n",
    "alt_target = pd.DataFrame(ensembl_target)\n",
    "alt_target.columns = [\"Target\"]\n",
    "alt_target.index = tf_network.index\n",
    "\n",
    "#Binarize edges\n",
    "bin_edges = [1 if edge>0 else -1 for edge in np.array(tf_network.Edge).astype(float)]\n",
    "\n",
    "#Format for integration\n",
    "alt_edge = pd.DataFrame(bin_edges)\n",
    "alt_edge.columns = [\"Edge\"]\n",
    "alt_edge.index = tf_network.index\n",
    "\n",
    "#Append to network output\n",
    "tf_network_ensembl = pd.concat([alt_source,alt_edge,alt_target],axis=1)\n",
    "\n",
    "#Create dictionary with TF as keys and direct targets as elements\n",
    "tf_tf_dictionary = {tf:miner.get_downstream_tfs(tf,tf_network_ensembl) for tf in reglist}"
   ]
  },
  {
   "cell_type": "markdown",
   "metadata": {},
   "source": [
    "## Generate expanded TF-target tfs dictionary for master regulator analysis"
   ]
  },
  {
   "cell_type": "code",
   "execution_count": null,
   "metadata": {},
   "outputs": [],
   "source": [
    "#Create dictionary of TF:target tfs that further requires TF-target edge aligns\n",
    "#with causal edge (i.e., if target is up-regulated, but TF down-regulates target,\n",
    "#the TF-target pair is NOT included)\n",
    "aligned_tfs_primary = miner.downstream_tf_analysis(reglist,tf_network_ensembl,causal_subset)\n",
    "\n",
    "#Create dataframe of TFs and number of aligned direct targets\n",
    "len_primaries = [len(aligned_tfs_primary[tf]) for tf in aligned_tfs_primary.keys()]\n",
    "len_primaries = pd.DataFrame(len_primaries)\n",
    "len_primaries.columns = [\"out_degree_aligned\"]\n",
    "len_primaries.index = miner.gene_conversion(list(aligned_tfs_primary.keys()),\n",
    "                                           id_table=id_table,\n",
    "                                           list_symbols=True)\n",
    "len_primaries.sort_values(by=\"out_degree_aligned\",ascending=False,inplace=True)\n",
    "\n",
    "#Subset to regulators that drive toward state\n",
    "master_attractors = len_primaries.loc[miner.gene_conversion(mut_act,id_table=id_table,list_symbols=True),:]\n",
    "master_attractors.sort_values(by=\"out_degree_aligned\",ascending=False,inplace=True)\n",
    "print(\"Master attractors\")\n",
    "print(master_attractors.head(10))\n",
    "\n",
    "#Write to file\n",
    "master_attractors.to_csv(os.path.join(tf_network_directory,\"master_attractors.csv\"))\n",
    "\n",
    "#Subset to regulators that drive away from state\n",
    "master_repellers = len_primaries.loc[miner.gene_conversion(mut_rep,id_table=id_table,list_symbols=True),:]\n",
    "master_repellers.sort_values(by=\"out_degree_aligned\",ascending=False,inplace=True)\n",
    "print(\"\\nMaster repellers\")\n",
    "print(master_repellers.head(10))\n",
    "\n",
    "#Write to file\n",
    "master_repellers.to_csv(os.path.join(tf_network_directory,\"master_repellers.csv\"))\n",
    "print(\"\\n\")\n",
    "\n",
    "#Generate dictionary of TF-downstream tfs, where n_propagate=2 includes the direct targets of \n",
    "#the TF's direct targets (i.e., children and grandchildren)\n",
    "n_propagate = 2\n",
    "coverage_dict_act, span_dict_act = miner.propagate_network(mut_act,aligned_tfs_primary,n_propagate=n_propagate)\n",
    "coverage_dict_rep, span_dict_rep = miner.propagate_network(mut_rep,aligned_tfs_primary,n_propagate=n_propagate)"
   ]
  },
  {
   "cell_type": "markdown",
   "metadata": {},
   "source": [
    "## Draw TF network"
   ]
  },
  {
   "cell_type": "code",
   "execution_count": null,
   "metadata": {
    "scrolled": false
   },
   "outputs": [],
   "source": [
    "import networkx as nx\n",
    "\n",
    "# instantiate graph and add edge information\n",
    "G = nx.Graph()\n",
    "elist = []\n",
    "for i in range(tf_network.shape[0]):\n",
    "    src = tf_network.iloc[i,0]\n",
    "    tgt = tf_network.iloc[i,-1]\n",
    "    edg = tf_network.iloc[i,1]\n",
    "    elist.append((src,tgt,edg))\n",
    "    \n",
    "# create graph\n",
    "G.add_weighted_edges_from(elist)\n",
    "\n",
    "#Get positions of nodes\n",
    "pos = nx.spring_layout(G)\n",
    "\n",
    "#Node list\n",
    "node_list = G.nodes()\n",
    "\n",
    "#Node weights\n",
    "node_list = G.nodes()\n",
    "\n",
    "#Plot network\n",
    "plt.figure(figsize=(12,12))\n",
    "ec = nx.draw_networkx_edges(G, pos, color='gray',alpha=0.1)\n",
    "nc = nx.draw_networkx_nodes(G, pos, nodelist=node_list, node_color=np.array(node_weights), \n",
    "                            with_labels=True, node_size=200, cmap=plt.cm.bwr)\n",
    "labels = {node:node for node in node_list}\n",
    "lc = nx.draw_networkx_labels(G, pos, labels, font_size=5)\n",
    "\n",
    "plt.colorbar(nc,shrink=0.25,fraction=0.05,label=\"Out degree\")\n",
    "plt.axis('off')\n",
    "plt.savefig(os.path.join(resultsDirectory,\"tf-tf_network_state15.pdf\"),bbox_inches=\"tight\")\n",
    "plt.show()"
   ]
  },
  {
   "cell_type": "code",
   "execution_count": null,
   "metadata": {},
   "outputs": [],
   "source": [
    "import networkx as nx\n",
    "\n",
    "# instantiate graph and add edge information\n",
    "G = nx.Graph()\n",
    "elist = []\n",
    "for i in range(tf_network.shape[0]):\n",
    "    src = tf_network.iloc[i,0]\n",
    "    tgt = tf_network.iloc[i,-1]\n",
    "    edg = tf_network.iloc[i,1]\n",
    "    elist.append((src,tgt,edg))\n",
    "    \n",
    "# create graph\n",
    "G.add_weighted_edges_from(elist)\n",
    "\n",
    "#Get positions of nodes\n",
    "pos = nx.spring_layout(G)\n",
    "\n",
    "#Plot network\n",
    "plt.figure(figsize=(12,12))\n",
    "ec = nx.draw_networkx_edges(G, pos, color='gray',alpha=0.1)\n",
    "nc = nx.draw_networkx_nodes(G, pos, nodelist=node_list, node_color=np.array(node_weights), \n",
    "                            with_labels=True, node_size=200, cmap=plt.cm.bwr)\n",
    "labels = {node:node for node in node_list}\n",
    "lc = nx.draw_networkx_labels(G, pos, labels, font_size=5)\n",
    "\n",
    "plt.colorbar(nc,shrink=0.25,fraction=0.05,label=\"Out degree\")\n",
    "plt.axis('off')"
   ]
  },
  {
   "cell_type": "code",
   "execution_count": null,
   "metadata": {},
   "outputs": [],
   "source": [
    "tf_network_directory = os.path.join(resultsDirectory,str(15),\"tf-epi_network\")\n",
    "tf_network = pd.read_csv(os.path.join(tf_network_directory,\"tf_tf_network.csv\"),index_col=0)\n",
    "tf_network.head()"
   ]
  },
  {
   "cell_type": "code",
   "execution_count": null,
   "metadata": {},
   "outputs": [],
   "source": [
    "master_attractors = pd.read_csv(os.path.join(tf_network_directory,\"master_attractors.csv\"),index_col=0)\n",
    "master_repellers = pd.read_csv(os.path.join(tf_network_directory,\"master_repellers.csv\"),index_col=0)\n"
   ]
  },
  {
   "cell_type": "code",
   "execution_count": null,
   "metadata": {},
   "outputs": [],
   "source": [
    "master_repellers.head()"
   ]
  },
  {
   "cell_type": "code",
   "execution_count": null,
   "metadata": {},
   "outputs": [],
   "source": [
    "#Node list\n",
    "node_list = list(G.nodes())\n",
    "\n",
    "#node_weights\n",
    "node_weights = []\n",
    "for node in node_list:\n",
    "    if node in master_attractors.index:\n",
    "        node_weights.append(master_attractors.loc[node,\"out_degree_aligned\"])\n",
    "    elif node in master_repellers.index:\n",
    "        node_weights.append(-1*master_repellers.loc[node,\"out_degree_aligned\"])\n",
    "      \n"
   ]
  },
  {
   "cell_type": "code",
   "execution_count": null,
   "metadata": {},
   "outputs": [],
   "source": [
    "import networkx as nx\n",
    "\n",
    "# instantiate graph and add edge information\n",
    "G = nx.Graph()\n",
    "elist = []\n",
    "for i in range(tf_network.shape[0]):\n",
    "    src = tf_network.iloc[i,0]\n",
    "    tgt = tf_network.iloc[i,-1]\n",
    "    edg = tf_network.iloc[i,1]\n",
    "    elist.append((src,tgt,edg))\n",
    "    \n",
    "# create graph\n",
    "G.add_weighted_edges_from(elist)\n",
    "\n",
    "#Get positions of nodes\n",
    "pos = nx.spring_layout(G)\n",
    "\n",
    "#Node list\n",
    "node_list = G.nodes()\n",
    "\n",
    "#Plot network\n",
    "plt.figure(figsize=(12,12))\n",
    "ec = nx.draw_networkx_edges(G, pos, color='gray',alpha=0.1)\n",
    "nc = nx.draw_networkx_nodes(G, pos, nodelist=node_list, node_color=np.array(node_weights), \n",
    "                            with_labels=True, node_size=200, cmap=plt.cm.bwr)\n",
    "labels = {node:node for node in node_list}\n",
    "lc = nx.draw_networkx_labels(G, pos, labels, font_size=5)\n",
    "\n",
    "plt.colorbar(nc,shrink=0.25,fraction=0.05,label=\"Out degree\")\n",
    "plt.axis('off')\n",
    "plt.savefig(os.path.join(resultsDirectory,\"tf-tf_network_state15.png\"),\n",
    "            dpi=400,\n",
    "            bbox_inches=\"tight\")\n",
    "plt.show()"
   ]
  },
  {
   "cell_type": "markdown",
   "metadata": {},
   "source": [
    "## Cluster regulators by common targets"
   ]
  },
  {
   "cell_type": "code",
   "execution_count": null,
   "metadata": {},
   "outputs": [],
   "source": [
    "#Generate pairwise matrix of Jaccard distance between TFs in network, using activated TFs\n",
    "jaccard_matrix_act = miner.dict_to_jaccard(coverage_dict_act)\n",
    "print(\"Jaccard activators\")\n",
    "print(jaccard_matrix_act.iloc[0:5,0:3],\"\\n\")\n",
    " \n",
    "#Generate pairwise matrix of Jaccard distance between TFs in network, using repressed TFs\n",
    "print(\"Jaccard repressors\")\n",
    "jaccard_matrix_rep = miner.dict_to_jaccard(coverage_dict_rep)\n",
    "print(jaccard_matrix_act.iloc[0:5,0:3])\n",
    "\n",
    "#Plot Jaccard matrices\n",
    "fig, (ax1,ax2) = plt.subplots(1,2)\n",
    "fig.set_figheight(6)\n",
    "fig.set_figwidth(12)\n",
    "\n",
    "#Activated TFs subplot\n",
    "ax1.imshow(jaccard_matrix_act,aspect=\"auto\",cmap=\"bwr\",vmin=0,vmax=0.5)\n",
    "ax1.grid(False)\n",
    "ax1.set_ylabel(\"TFs\")\n",
    "ax1.set_xlabel(\"TFs\")\n",
    "ax1.set_title(\"Activated TFs (unclustered)\")\n",
    "\n",
    "#Repressed TFs subplot\n",
    "ax2.imshow(jaccard_matrix_rep,aspect=\"auto\",cmap=\"bwr\",vmin=0,vmax=0.5)\n",
    "ax2.grid(False)\n",
    "ax2.set_ylabel(\"TFs\")\n",
    "ax2.set_xlabel(\"TFs\")\n",
    "ax2.set_title(\"Repressed TFs (unclustered)\")"
   ]
  },
  {
   "cell_type": "code",
   "execution_count": null,
   "metadata": {},
   "outputs": [],
   "source": [
    "#Binarize and cluster Jaccard matrices\n",
    "unmix_act = miner.cluster_distance_matrix(jaccard_matrix_act)\n",
    "unmix_rep = miner.cluster_distance_matrix(jaccard_matrix_rep)\n",
    "\n",
    "#Plot Jaccard matrices\n",
    "fig, (ax1,ax2) = plt.subplots(1,2)\n",
    "fig.set_figheight(6)\n",
    "fig.set_figwidth(12)\n",
    "\n",
    "#Activated TFs subplot\n",
    "ax1.imshow(jaccard_matrix_act.loc[np.hstack(unmix_act),np.hstack(unmix_act)],\n",
    "           aspect=\"auto\",cmap=\"bwr\",vmin=0,vmax=0.5)\n",
    "ax1.grid(False)\n",
    "ax1.set_ylabel(\"TFs\")\n",
    "ax1.set_xlabel(\"TFs\")\n",
    "ax1.set_title(\"Target similarity (Activators)\")\n",
    "\n",
    "#Repressed TFs subplot\n",
    "ax2.imshow(jaccard_matrix_rep.loc[np.hstack(unmix_rep),np.hstack(unmix_rep)],\n",
    "           aspect=\"auto\",cmap=\"bwr\",vmin=0,vmax=0.5)\n",
    "ax2.grid(False)\n",
    "ax2.set_ylabel(\"TFs\")\n",
    "ax2.set_xlabel(\"TFs\")\n",
    "ax2.set_title(\"Target similarity (Repressors)\")\n",
    "\n",
    "#Save figure to file\n",
    "plt.savefig(os.path.join(tf_network_directory,\"clustered_tf_jaccard_matrices.pdf\"),bbox_inches=\"tight\")"
   ]
  },
  {
   "cell_type": "markdown",
   "metadata": {},
   "source": [
    "## Infer master regulators"
   ]
  },
  {
   "cell_type": "code",
   "execution_count": null,
   "metadata": {},
   "outputs": [],
   "source": [
    "#Infer master regulators from the tf:downstream targets dictionary, network degree information, and tf clusters\n",
    "master_act_list, master_act_dict, selected_acts = miner.infer_master_regulators(coverage_dict_act, network_degrees, unmix_act)\n",
    "master_rep_list, master_rep_dict, selected_reps = miner.infer_master_regulators(coverage_dict_rep, network_degrees, unmix_rep)"
   ]
  },
  {
   "cell_type": "code",
   "execution_count": null,
   "metadata": {},
   "outputs": [],
   "source": [
    "#Write shortlist of TFs to file\n",
    "selected_acts.to_csv(os.path.join(tf_network_directory,\"selected_activators.csv\"))\n",
    "selected_reps.to_csv(os.path.join(tf_network_directory,\"selected_repressors.csv\"))\n",
    "\n",
    "#Write master regulators to file\n",
    "master_regulator_df = pd.DataFrame([(\";\").join(master_act_list),(\";\").join(master_rep_list)])\n",
    "master_regulator_df.columns = [\"master_regulators\"]\n",
    "master_regulator_df.index = [\"activators\",\"repressors\"]\n",
    "master_regulator_df.to_csv(os.path.join(tf_network_directory,\"master_regulators.csv\"))\n",
    "\n",
    "#Write master regulators and downstream targets (children + grandchildren) to file\n",
    "miner.write_json(master_act_dict,os.path.join(tf_network_directory,\"master_activators.json\"))\n",
    "miner.write_json(master_rep_dict,os.path.join(tf_network_directory,\"master_repressors.json\"))"
   ]
  },
  {
   "cell_type": "markdown",
   "metadata": {},
   "source": [
    "## Investigate tf-tf network for master regulator partners"
   ]
  },
  {
   "cell_type": "code",
   "execution_count": null,
   "metadata": {},
   "outputs": [],
   "source": [
    "#If a tf both activates and is activated by a master regulator, it is a partner\n",
    "master_act_partners = miner.c(master_act_list,tf_network)\n",
    "master_rep_partners = miner.master_partners(master_rep_list,tf_network)"
   ]
  },
  {
   "cell_type": "code",
   "execution_count": null,
   "metadata": {},
   "outputs": [],
   "source": [
    "#Format master partners for inclusion in dataframe\n",
    "master_pairs_act = [(\";\").join(p) for p in master_act_partners if len(master_act_partners)>0]\n",
    "master_pairs_rep = [(\";\").join(p) for p in master_rep_partners if len(master_rep_partners)>0]\n",
    "\n",
    "#Write master partners to file\n",
    "master_pairs = list(np.hstack([master_pairs_act,master_pairs_rep]))\n",
    "if len(master_pairs)>0:\n",
    "    master_pairs_df = pd.DataFrame(master_pairs)\n",
    "    master_pairs_df.columns = [\"master_regulator_pair\"]\n",
    "    master_pair_types = pd.DataFrame([np.hstack([[\"activator\" for i in range(len(master_pairs_act))],\n",
    "                                                [\"repressor\" for i in range(len(master_pairs_rep))]])]).T\n",
    "    master_pair_types.columns = [\"type\"]\n",
    "    master_pairs_df = pd.concat([master_pair_types,master_pairs_df],axis=1)\n",
    "    print(master_pairs_df)\n",
    "    master_pairs_df.to_csv(os.path.join(tf_network_directory,\"master_regulator_partners.csv\"))"
   ]
  },
  {
   "cell_type": "markdown",
   "metadata": {},
   "source": [
    "## Summary figure"
   ]
  },
  {
   "cell_type": "code",
   "execution_count": null,
   "metadata": {},
   "outputs": [],
   "source": [
    "import string\n",
    "\n",
    "fig3 = plt.figure(figsize=(10,11),constrained_layout=True)\n",
    "gs = fig3.add_gridspec(4, 3)\n",
    "\n",
    "#Draw network\n",
    "f3_ax1 = fig3.add_subplot(gs[0:3, :])\n",
    "\n",
    "plt.sca(f3_ax1)\n",
    "ec = nx.draw_networkx_edges(G, pos, color='gray',alpha=0.1)\n",
    "nc = nx.draw_networkx_nodes(G, pos, nodelist=node_list, node_color=np.array(node_weights), \n",
    "                            with_labels=True, node_size=200, cmap=plt.cm.bwr)\n",
    "labels = {node:node for node in node_list}\n",
    "lc = nx.draw_networkx_labels(G, pos, labels, font_size=5)\n",
    "\n",
    "plt.colorbar(nc,shrink=0.25,fraction=0.05,label=\"out degree\")\n",
    "plt.axis('off')\n",
    "\n",
    "#Histogram of predictiion vs observed tf expression\n",
    "f3_ax2 = fig3.add_subplot(gs[3, 0])\n",
    "plt.sca(f3_ax2)\n",
    "#Plot histogram of predictive performace\n",
    "plt.hist(predictive_performance,bins=25,edgecolor='w')\n",
    "plt.ylabel(\"Frequency\",fontsize=10)\n",
    "plt.xlabel(\"Spearman correlation\",fontsize=10)\n",
    "plt.yticks(fontsize=10)\n",
    "plt.xticks(fontsize=10)\n",
    "plt.title(\"Predicted vs. observed TF expression\",\n",
    "         fontsize=10)\n",
    "plt.text(0.20, 10.5, \n",
    "         \"Mean correlation = {:.2f}\".format(\n",
    "             np.nanmean(predictive_performance)),\n",
    "        fontsize=8)\n",
    "\n",
    "\n",
    "#Master attractors\n",
    "f3_ax3 = fig3.add_subplot(gs[3,1])\n",
    "plt.sca(f3_ax3)\n",
    "\n",
    "#Activated TFs subplot\n",
    "plt.imshow(jaccard_matrix_act.loc[np.hstack(unmix_act),np.hstack(unmix_act)],\n",
    "           aspect=\"auto\",cmap=\"bwr\",vmin=0,vmax=0.5)\n",
    "plt.grid(False)\n",
    "plt.ylabel(\"TFs\",fontsize=10)\n",
    "plt.xlabel(\"TFs\",fontsize=10)\n",
    "plt.title(\"Target similarity (Activators)\",fontsize=10)\n",
    "\n",
    "#Master repellers\n",
    "f3_ax4= fig3.add_subplot(gs[3,2])\n",
    "plt.sca(f3_ax4)\n",
    "#Repressed TFs subplot\n",
    "plt.imshow(jaccard_matrix_rep.loc[np.hstack(unmix_rep),np.hstack(unmix_rep)],\n",
    "           aspect=\"auto\",cmap=\"bwr\",vmin=0,vmax=0.5)\n",
    "plt.grid(False)\n",
    "plt.ylabel(\"TFs\",fontsize=10)\n",
    "plt.xlabel(\"TFs\",fontsize=10)\n",
    "plt.title(\"Target similarity (Repressors)\",fontsize=10)\n",
    "\n",
    "#Add letters\n",
    "import string\n",
    "f3_ax1.text(-0.05, 1.00, string.ascii_uppercase[0], transform=f3_ax1.transAxes, \n",
    "            size=16, weight='bold')\n",
    "\n",
    "axs = [f3_ax2,f3_ax3,f3_ax4]\n",
    "for n, ax in enumerate(axs):\n",
    "    ax.text(-0.2, 1.05, string.ascii_uppercase[n+1], transform=ax.transAxes, \n",
    "            size=16, weight='bold')\n",
    "\n",
    "#Save figure\n",
    "plt.savefig(os.path.join(resultsDirectory,\"master_regulator_summary.pdf\"),bbox_inches=\"tight\")"
   ]
  },
  {
   "cell_type": "markdown",
   "metadata": {},
   "source": [
    "# Perform causal analysis on mutations"
   ]
  },
  {
   "cell_type": "markdown",
   "metadata": {},
   "source": [
    "## Perform causal analysis"
   ]
  },
  {
   "cell_type": "code",
   "execution_count": null,
   "metadata": {},
   "outputs": [],
   "source": [
    "# Define reference information for causal analysis\n",
    "referenceDictionary = regulonModules\n",
    "referenceRegulonDf = regulonDf\n",
    "referenceDf = eigengenes\n",
    "reference_patients = expressionData.columns\n",
    "\n",
    "#Identify reference genotype or phenotype matrix as \"mut_matrix\"\n",
    "#Using states_df is akin to differential expression analysis of states\n",
    "#The causal results will show regulons that are perturbed in each state\n",
    "\n",
    "mut_matrix = translocations.copy()\n",
    "mut_matrix.index = np.array(mut_matrix.index).astype(str)"
   ]
  },
  {
   "cell_type": "code",
   "execution_count": null,
   "metadata": {},
   "outputs": [],
   "source": [
    "#Perform causal analysis using mut_matrix for anchors\n",
    "causal_results_directory = os.path.join(resultsDirectory,\"causal_analysis\")\n",
    "causal_subdirectory = \"causal_results_translocations_only\"\n",
    "causal_mutations = miner.causalNetworkAnalysis(regulon_matrix=referenceRegulonDf.copy(),\n",
    "                                            expression_matrix=expressionData.copy(),\n",
    "                                            reference_matrix=referenceDf.copy(),\n",
    "                                            mutation_matrix=mut_matrix,\n",
    "                                            resultsDirectory=causal_results_directory,\n",
    "                                            minRegulons=1,significance_threshold=0.05,\n",
    "                                            causalFolder=causal_subdirectory)\n"
   ]
  },
  {
   "cell_type": "code",
   "execution_count": null,
   "metadata": {},
   "outputs": [],
   "source": [
    "# compile all causal results\n",
    "# If states_df was passed as mut_matrix, the state is under the \"Mutation\" heading\n",
    "causal_directory = os.path.join(causal_results_directory,causal_subdirectory)\n",
    "causal_mutations = miner.readCausalFiles(causal_directory)\n",
    "#causal_mutations.to_csv(os.path.join(causal_directory,\"CausalResults.csv\"))\n",
    "print(causal_mutations.shape)\n",
    "causal_mutations.head()"
   ]
  },
  {
   "cell_type": "markdown",
   "metadata": {},
   "source": [
    "## Perform permutation analysis"
   ]
  },
  {
   "cell_type": "code",
   "execution_count": null,
   "metadata": {},
   "outputs": [],
   "source": [
    "#Generate permutation matrix\n",
    "permuted_mutations = pd.DataFrame(np.zeros(mut_matrix.shape))\n",
    "permuted_mutations.index = mut_matrix.index\n",
    "permuted_mutations.columns = mut_matrix.columns\n",
    "num_muts = list(mut_matrix.sum(axis=1))\n",
    "\n",
    "for i in range(permuted_mutations.shape[0]):\n",
    "    ix = permuted_mutations.index[i]\n",
    "    rand_muts = miner.sample(mut_matrix.columns,int(num_muts[i]),replace=False)\n",
    "    permuted_mutations.loc[ix,rand_muts] = 1"
   ]
  },
  {
   "cell_type": "code",
   "execution_count": null,
   "metadata": {},
   "outputs": [],
   "source": [
    "#Generate causal analysis null distribution\n",
    "mut_matrix = permuted_mutations.copy()\n",
    "mut_matrix.index = np.array(mut_matrix.index).astype(str)\n",
    "#Perform causal analysis using mut_matrix for anchors\n",
    "causal_results_directory = os.path.join(resultsDirectory,\"causal_null_mutations\")\n",
    "causal_subdirectory = \"causal_results_translocations_only_null\"\n",
    "causal_null_mutations = miner.causalNetworkAnalysis(regulon_matrix=referenceRegulonDf.copy(),\n",
    "                                            expression_matrix=expressionData.copy(),\n",
    "                                            reference_matrix=referenceDf.copy(),\n",
    "                                            mutation_matrix=mut_matrix,\n",
    "                                            resultsDirectory=causal_results_directory,\n",
    "                                            minRegulons=1,significance_threshold=0.05,\n",
    "                                            causalFolder=causal_subdirectory)\n",
    "# compile all causal results\n",
    "# If states_df was passed as mut_matrix, the state is under the \"Mutation\" heading\n",
    "causal_null_directory = os.path.join(causal_results_directory,causal_subdirectory)\n",
    "causal_null_mutations = miner.readCausalFiles(causal_null_directory)\n",
    "causal_null_mutations.shape"
   ]
  },
  {
   "cell_type": "code",
   "execution_count": null,
   "metadata": {},
   "outputs": [],
   "source": [
    "#Repeat this with gridsearch and visualize with color/size indicating number of flows\n",
    "n_diff_exp = 1\n",
    "\n",
    "filter_range = np.arange(0,1,0.05)\n",
    "perm_ps_mutations = []\n",
    "num_flows_mutations = []\n",
    "for aligned_fraction in filter_range:\n",
    "    causal_null_filtered = causal_null_mutations[causal_null_mutations.Fraction_of_aligned_and_diff_exp_edges>=aligned_fraction]\n",
    "    causal_null_filtered = causal_null_filtered[causal_null_filtered.number_differentially_expressed_regulons>=n_diff_exp]\n",
    "    #_=plt.hist(causal_null_filtered.Fraction_of_aligned_and_diff_exp_edges,bins=50)   \n",
    "\n",
    "    causal_mutations_filtered = causal_mutations[causal_mutations.Fraction_of_aligned_and_diff_exp_edges>=aligned_fraction]\n",
    "    causal_mutations_filtered = causal_mutations_filtered[causal_mutations_filtered.number_differentially_expressed_regulons>=n_diff_exp]\n",
    "    #_=plt.hist(causal_results_filtered.Fraction_of_aligned_and_diff_exp_edges,bins=50,alpha=0.3)   \n",
    "\n",
    "    perm_ps_mutations.append(float(causal_null_filtered.shape[0])/causal_mutations_filtered.shape[0])\n",
    "    num_flows_mutations.append(causal_mutations_filtered.shape[0])\n",
    "\n",
    "#Instantiate figure\n",
    "fig, (ax1, ax2) = plt.subplots(2,1,sharex=True)\n",
    "fig.set_figheight(8)\n",
    "fig.set_figwidth(8)\n",
    "\n",
    "#p-value plot\n",
    "ax1.scatter(filter_range,perm_ps_mutations)\n",
    "ax1.set_ylabel(\"Permuted p-value\",fontsize=14)\n",
    "ax1.set_xlabel(\"Aligned fraction cutoff\",fontsize=14)\n",
    "ax1.axhline(0.1,color=\"red\")\n",
    "ax1.axhline(0.05,color=\"blue\")\n",
    "\n",
    "#p-value plot\n",
    "ax2.scatter(filter_range,num_flows_mutations)\n",
    "ax2.set_ylabel(\"Number of causal flows\",fontsize=14)\n",
    "ax2.set_xlabel(\"Aligned fraction cutoff\",fontsize=14)\n"
   ]
  },
  {
   "cell_type": "code",
   "execution_count": null,
   "metadata": {},
   "outputs": [],
   "source": [
    "p_threshold = 0.05\n",
    "\n",
    "#Set parameters\n",
    "aligned_fraction = filter_range[np.where(np.array(perm_ps_mutations)<=p_threshold)[0][0]]\n",
    "#aligned_fraction = 0.55\n",
    "n_diff_exp = 1\n",
    "\n",
    "#Filter causal results\n",
    "causal_mutations_filtered = causal_mutations[causal_mutations.Fraction_of_aligned_and_diff_exp_edges>=aligned_fraction]\n",
    "causal_mutations_filtered = causal_mutations_filtered[causal_mutations_filtered.number_differentially_expressed_regulons>=n_diff_exp]\n",
    "print(\"Optimized cutoff: {:.2f}\".format(aligned_fraction))"
   ]
  },
  {
   "cell_type": "code",
   "execution_count": null,
   "metadata": {},
   "outputs": [],
   "source": [
    "fig, (ax1, ax2,) = plt.subplots(2,2,sharex=False)\n",
    "fig.tight_layout()\n",
    "fig.set_figheight(8)\n",
    "fig.set_figwidth(8)\n",
    "\n",
    "# Edges aligned\n",
    "_=ax1[0].hist(causal_mutations_filtered.Fraction_of_edges_correctly_aligned,bins=50)\n",
    "_=ax1[0].set_title(\"Edges aligned\")\n",
    "_=ax1[0].set_xlabel(\"Proportion\")\n",
    "\n",
    "# Edges aligned and diff exp\n",
    "_=ax1[1].hist(causal_mutations_filtered.Fraction_of_aligned_and_diff_exp_edges,bins=50)\n",
    "_=ax1[1].set_title(\"Edges aligned and diff. exp.\")\n",
    "_=ax1[1].set_xlabel(\"Proportion\")\n",
    "\n",
    "# Edges aligned\n",
    "_=ax2[0].hist(causal_mutations_filtered.loc[:,\"-log10(p)_MutationRegulatorEdge\"],bins=50)\n",
    "_=ax2[0].set_title(\"Mutation-regulator significance\")\n",
    "_=ax2[0].set_xlabel(\"-log10(p)\")\n",
    "\n",
    "# Edges aligned\n",
    "_=ax2[1].hist(causal_mutations_filtered.loc[:,\"-log10(p)_Regulon_stratification\"],bins=50)\n",
    "_=ax2[1].set_title(\"Regulon stratification\")\n",
    "_=ax2[1].set_xlabel(\"-log10(p)\")\n"
   ]
  },
  {
   "cell_type": "markdown",
   "metadata": {},
   "source": [
    "## Filter causal mutations to empirical p < 0.05"
   ]
  },
  {
   "cell_type": "code",
   "execution_count": null,
   "metadata": {},
   "outputs": [],
   "source": [
    "tmp_muts = causal_mutations_filtered[causal_mutations_filtered.Mutation==\"TP53\"]\n",
    "reg_symbols = miner.gene_conversion(tmp_muts.Regulator,id_table=id_table,list_symbols=True)\n",
    "tmp_muts.Mutation = reg_symbols\n",
    "tmp_muts.shape"
   ]
  },
  {
   "cell_type": "code",
   "execution_count": null,
   "metadata": {},
   "outputs": [],
   "source": []
  },
  {
   "cell_type": "code",
   "execution_count": null,
   "metadata": {},
   "outputs": [],
   "source": [
    "# Perform causal analysis for each mutation matrix\n",
    "mut_matrix = common_mutations.copy()\n",
    "referenceDictionary = regulonModules\n",
    "referenceRegulonDf = regulonDf\n",
    "referenceDf = eigengenes\n",
    "\n",
    "miner.causalNetworkAnalysis(regulon_matrix=referenceRegulonDf.copy(),expression_matrix=expressionData.copy(),reference_matrix=referenceDf.copy(),mutation_matrix=mut_matrix,resultsDirectory=os.path.join(resultsDirectory,\"miner_causal\"),minRegulons=1,significance_threshold=0.05,causalFolder=\"causal_results_common_mutations\")\n",
    "\n",
    "mut_matrix = translocations.copy()\n",
    "miner.causalNetworkAnalysis(regulon_matrix=referenceRegulonDf.copy(),expression_matrix=expressionData.copy(),reference_matrix=referenceDf.copy(),mutation_matrix=mut_matrix,resultsDirectory=os.path.join(resultsDirectory,\"miner_causal\"),minRegulons=1,significance_threshold=0.05,causalFolder=\"causal_results_translocations\")\n",
    "\n",
    "mut_matrix = cytogenetics.copy()\n",
    "miner.causalNetworkAnalysis(regulon_matrix=referenceRegulonDf.copy(),expression_matrix=expressionData.copy(),reference_matrix=referenceDf.copy(),mutation_matrix=mut_matrix,resultsDirectory=os.path.join(resultsDirectory,\"miner_causal\"),minRegulons=1,significance_threshold=0.05,causalFolder=\"causal_results_cytogenetics\")\n",
    "\n",
    "# compile all causal results\n",
    "causal_directory = os.path.join(resultsDirectory,\"miner_causal\")\n",
    "causal_results = miner.readCausalFiles(causal_directory)\n",
    "#causal_results.to_csv(os.path.join(resultsDirectory,\"completeCausalResults.csv\"))\n",
    "causal_results.head()"
   ]
  },
  {
   "cell_type": "code",
   "execution_count": null,
   "metadata": {},
   "outputs": [],
   "source": [
    "# compile all causal results\n",
    "causal_directory = os.path.join(resultsDirectory,\"miner_causal\")\n",
    "causal_results = miner.readCausalFiles(causal_directory)\n",
    "#causal_results.to_csv(os.path.join(resultsDirectory,\"completeCausalResults.csv\"))\n",
    "causal_results.head()"
   ]
  },
  {
   "cell_type": "code",
   "execution_count": null,
   "metadata": {},
   "outputs": [],
   "source": [
    "causal_results.shape"
   ]
  },
  {
   "cell_type": "code",
   "execution_count": null,
   "metadata": {},
   "outputs": [],
   "source": [
    "# Perform causal analysis for each mutation matrix\n",
    "mut_matrix = miner.permute_matrix(common_mutations.copy())\n",
    "referenceDictionary = regulonModules\n",
    "referenceRegulonDf = regulonDf\n",
    "referenceDf = eigengenes\n",
    "\n",
    "miner.causalNetworkAnalysis(regulon_matrix=referenceRegulonDf.copy(),expression_matrix=expressionData.copy(),reference_matrix=referenceDf.copy(),mutation_matrix=mut_matrix,resultsDirectory=os.path.join(resultsDirectory,\"miner_causal_perm\"),minRegulons=1,significance_threshold=0.05,causalFolder=\"causal_results_common_mutations_perm\")\n",
    "\n",
    "mut_matrix = miner.permute_matrix(translocations.copy())\n",
    "miner.causalNetworkAnalysis(regulon_matrix=referenceRegulonDf.copy(),expression_matrix=expressionData.copy(),reference_matrix=referenceDf.copy(),mutation_matrix=mut_matrix,resultsDirectory=os.path.join(resultsDirectory,\"miner_causal_perm\"),minRegulons=1,significance_threshold=0.05,causalFolder=\"causal_results_translocations_perm\")\n",
    "\n",
    "mut_matrix = miner.permute_matrix(cytogenetics.copy())\n",
    "miner.causalNetworkAnalysis(regulon_matrix=referenceRegulonDf.copy(),expression_matrix=expressionData.copy(),reference_matrix=referenceDf.copy(),mutation_matrix=mut_matrix,resultsDirectory=os.path.join(resultsDirectory,\"miner_causal_perm\"),minRegulons=1,significance_threshold=0.05,causalFolder=\"causal_results_cytogenetics_perm\")\n",
    "\n",
    "# compile all causal results\n",
    "causal_directory_perm = os.path.join(resultsDirectory,\"miner_causal_perm\")\n",
    "causal_results_perm = miner.readCausalFiles(causal_directory_perm)\n",
    "#causal_results.to_csv(os.path.join(resultsDirectory,\"completeCausalResults.csv\"))\n",
    "causal_results_perm.head()"
   ]
  },
  {
   "cell_type": "code",
   "execution_count": null,
   "metadata": {},
   "outputs": [],
   "source": [
    "#Repeat this with gridsearch and visualize with color/size indicating number of flows\n",
    "n_diff_exp = 1\n",
    "\n",
    "filter_range = np.arange(0,1,0.05)\n",
    "perm_ps_mutations = []\n",
    "num_flows_mutations = []\n",
    "for aligned_fraction in filter_range:\n",
    "    causal_null_filtered = causal_results_perm[causal_results_perm.Fraction_of_aligned_and_diff_exp_edges>=aligned_fraction]\n",
    "    causal_null_filtered = causal_null_filtered[causal_null_filtered.number_differentially_expressed_regulons>=n_diff_exp]\n",
    "    #_=plt.hist(causal_null_filtered.Fraction_of_aligned_and_diff_exp_edges,bins=50)   \n",
    "\n",
    "    causal_mutations_filtered = causal_results[causal_results.Fraction_of_aligned_and_diff_exp_edges>=aligned_fraction]\n",
    "    causal_mutations_filtered = causal_mutations_filtered[causal_mutations_filtered.number_differentially_expressed_regulons>=n_diff_exp]\n",
    "    #_=plt.hist(causal_results_filtered.Fraction_of_aligned_and_diff_exp_edges,bins=50,alpha=0.3)   \n",
    "\n",
    "    perm_ps_mutations.append(float(causal_null_filtered.shape[0])/causal_mutations_filtered.shape[0])\n",
    "    num_flows_mutations.append(causal_mutations_filtered.shape[0])\n",
    "\n",
    "#Instantiate figure\n",
    "fig, (ax1, ax2) = plt.subplots(2,1,sharex=True)\n",
    "fig.set_figheight(8)\n",
    "fig.set_figwidth(8)\n",
    "\n",
    "#p-value plot\n",
    "ax1.scatter(filter_range,perm_ps_mutations)\n",
    "ax1.set_ylabel(\"Permuted p-value\",fontsize=14)\n",
    "ax1.set_xlabel(\"Aligned fraction cutoff\",fontsize=14)\n",
    "ax1.axhline(0.1,color=\"red\")\n",
    "ax1.axhline(0.05,color=\"blue\")\n",
    "\n",
    "#p-value plot\n",
    "ax2.scatter(filter_range,num_flows_mutations)\n",
    "ax2.set_ylabel(\"Number of causal flows\",fontsize=14)\n",
    "ax2.set_xlabel(\"Aligned fraction cutoff\",fontsize=14)\n"
   ]
  },
  {
   "cell_type": "code",
   "execution_count": null,
   "metadata": {},
   "outputs": [],
   "source": [
    "causal_subset.sort_values(by=\"Regulon_stratification_t-statistic\",ascending=False,inplace=True)\n",
    "causal_subset.head(20)"
   ]
  },
  {
   "cell_type": "code",
   "execution_count": null,
   "metadata": {},
   "outputs": [],
   "source": [
    "causal_results.head()"
   ]
  },
  {
   "cell_type": "code",
   "execution_count": null,
   "metadata": {},
   "outputs": [],
   "source": [
    "top_regulons = list(causal_subset.Regulon[0:20])"
   ]
  },
  {
   "cell_type": "code",
   "execution_count": null,
   "metadata": {},
   "outputs": [],
   "source": [
    "causal_results[causal_results.Regulon==top_regulons[1]]"
   ]
  },
  {
   "cell_type": "code",
   "execution_count": null,
   "metadata": {},
   "outputs": [],
   "source": [
    "#From this, draw links: MUT(MAX; ZNF208) --> ENSG00000071564 (TCF3) --> R-2046"
   ]
  },
  {
   "cell_type": "code",
   "execution_count": null,
   "metadata": {},
   "outputs": [],
   "source": [
    "miner.gene_conversion(['ENSG00000071564'])"
   ]
  },
  {
   "cell_type": "code",
   "execution_count": null,
   "metadata": {},
   "outputs": [],
   "source": [
    "miner.intersect(states[14],miner.getMutations(\"MAX\",common_mutations))"
   ]
  },
  {
   "cell_type": "code",
   "execution_count": null,
   "metadata": {
    "scrolled": true
   },
   "outputs": [],
   "source": [
    "mut = \"MAX\"\n",
    "for state in states:\n",
    "    print(miner.intersect(state,miner.getMutations(\"TTN\",common_mutations)))\n"
   ]
  },
  {
   "cell_type": "code",
   "execution_count": null,
   "metadata": {},
   "outputs": [],
   "source": [
    "m_mat = mutation_matrix.copy()\n",
    "mut_states_dict = {i+1:[] for i in range(states_df.shape[0])}\n",
    "for mut in m_mat.index:\n",
    "    for i in range(states_df.shape[0]):\n",
    "        tmp_state = states_df.columns[states_df.iloc[i,:]==1]\n",
    "        tmp_mut = miner.getMutations(mut,m_mat)\n",
    "        pval = miner.hyper(m_mat.shape[1],\n",
    "                    len(tmp_state),\n",
    "                    len(tmp_mut),\n",
    "                    len(miner.intersect(tmp_state,tmp_mut)))\n",
    "        if pval < 1e-2:\n",
    "            #print(mut,i+1,pval)\n",
    "            mut_states_dict[i+1].append([mut,pval])\n",
    "            \n",
    "print(mut_states_dict)"
   ]
  },
  {
   "cell_type": "code",
   "execution_count": null,
   "metadata": {},
   "outputs": [],
   "source": [
    "len(miner.intersect(states_df.columns[states_df.loc[24,:]==1],common_mutations.columns))"
   ]
  },
  {
   "cell_type": "code",
   "execution_count": null,
   "metadata": {},
   "outputs": [],
   "source": [
    "len(miner.getMutations(\"MAX\",c))"
   ]
  },
  {
   "cell_type": "code",
   "execution_count": null,
   "metadata": {},
   "outputs": [],
   "source": [
    "\n"
   ]
  },
  {
   "cell_type": "code",
   "execution_count": null,
   "metadata": {},
   "outputs": [],
   "source": [
    "# Perform causal analysis for each mutation matrix\n",
    "mut=\"MAX\"\n",
    "regulon_subset = list(causal_results[causal_results.Mutation==mut].index)\n",
    "\n",
    "mut_matrix = pd.DataFrame(common_mutations.loc[mut,:]).T\n",
    "referenceDictionary = {r:regulonModules[r] for r in regulon_subset}\n",
    "referenceRegulonDf = regulonDf\n",
    "referenceDf = eigengenes\n",
    "\n",
    "folder_tst = \"miner_causal_tst\"\n",
    "miner.causalNetworkAnalysis(regulon_matrix=referenceRegulonDf.copy(),expression_matrix=expressionData.copy(),reference_matrix=referenceDf.copy(),mutation_matrix=mut_matrix,resultsDirectory=os.path.join(resultsDirectory,folder_tst),minRegulons=1,significance_threshold=0.05,causalFolder=\"causal_results_\"+mut)\n",
    "\n",
    "causal_directory_tst = os.path.join(resultsDirectory,folder_tst)\n",
    "causal_results_tst = miner.readCausalFiles(causal_directory_tst)"
   ]
  },
  {
   "cell_type": "code",
   "execution_count": null,
   "metadata": {},
   "outputs": [],
   "source": [
    "mut = \"MAX\"\n",
    "m_mat = pd.DataFrame(common_mutations.loc[mut,:]).T\n",
    "regulon_subset = list(causal_results[causal_results.Mutation==mut].index)\n",
    "n_perm = 25\n",
    "\n",
    "mutation_matrix = pd.DataFrame(np.zeros((n_perm,m_mat.shape[1])))\n",
    "mutation_matrix.columns = m_mat.columns\n",
    "\n",
    "for i in range(n_perm):\n",
    "    tmp_mut_pats = m_mat.columns[m_mat.loc[mut,:]==1]\n",
    "    tmp_suffled_pats = miner.sample(m_mat.columns,n=len(tmp_mut_pats),replace=False)\n",
    "    mutation_matrix.loc[i,tmp_suffled_pats] = 1\n",
    "\n",
    "mutation_matrix  "
   ]
  },
  {
   "cell_type": "code",
   "execution_count": null,
   "metadata": {},
   "outputs": [],
   "source": []
  },
  {
   "cell_type": "code",
   "execution_count": null,
   "metadata": {},
   "outputs": [],
   "source": [
    "mut=\"MAX\"\n",
    "regulon_subset = list(causal_results[causal_results.Mutation==mut].index)\n",
    "\n",
    "mut_matrix = mutation_matrix\n",
    "mut_matrix.index = np.array(mut_matrix.index).astype(str)\n",
    "referenceDictionary = {r:regulonModules[r] for r in regulon_subset}\n",
    "referenceRegulonDf = regulonDf\n",
    "referenceDf = eigengenes\n",
    "\n",
    "folder_tst = \"miner_causal_tst_perm\"\n",
    "miner.causalNetworkAnalysis(regulon_matrix=referenceRegulonDf.copy(),expression_matrix=expressionData.copy(),reference_matrix=referenceDf.copy(),mutation_matrix=mut_matrix,resultsDirectory=os.path.join(resultsDirectory,folder_tst),minRegulons=1,significance_threshold=0.05,causalFolder=\"causal_results_\"+mut)\n",
    "\n",
    "causal_directory_tst = os.path.join(resultsDirectory,folder_tst)\n",
    "causal_results_tst = miner.readCausalFiles(causal_directory_tst)"
   ]
  },
  {
   "cell_type": "code",
   "execution_count": null,
   "metadata": {},
   "outputs": [],
   "source": [
    "sns.kdeplot(causal_results_tst.Fraction_of_aligned_and_diff_exp_edges.values)\n",
    "sns.kdeplot(causal_results[causal_results.Mutation==mut].Fraction_of_aligned_and_diff_exp_edges.values)"
   ]
  },
  {
   "cell_type": "code",
   "execution_count": null,
   "metadata": {
    "scrolled": true
   },
   "outputs": [],
   "source": [
    "stats.ranksums(causal_results[causal_results.Mutation==mut].Fraction_of_aligned_and_diff_exp_edges.values,\n",
    "              causal_results_tst.Fraction_of_aligned_and_diff_exp_edges.values)"
   ]
  },
  {
   "cell_type": "code",
   "execution_count": null,
   "metadata": {},
   "outputs": [],
   "source": [
    "#Calculate network activity\n",
    "network_activity_diff = miner.networkActivity(regulon_matrix=regulonDf.copy(),\n",
    "                                                 reference_matrix=diff_matrix_MMRF.copy(),\n",
    "                                                 minRegulons = 2)"
   ]
  },
  {
   "cell_type": "code",
   "execution_count": null,
   "metadata": {
    "scrolled": false
   },
   "outputs": [],
   "source": [
    "#Inputs: mutation, regulon, regulonDf, network_activity_diff\n",
    "#start timer\n",
    "t1 = time.time()\n",
    "\n",
    "mut=\"RNASeq_MAF_Call\"\n",
    "m_matrix = translocations.copy()\n",
    "causal_results_subset = causal_results[causal_results.Mutation==mut]\n",
    "regulon_subset = list(causal_results_subset.index)\n",
    "n_iter = 10\n",
    "\n",
    "aligned_results = []\n",
    "diff_aligned_results = []\n",
    "for iteration in range(n_iter):\n",
    "    #identify subtypes\n",
    "    mut_pats = miner.getMutations(mut,m_matrix)\n",
    "\n",
    "    #randomize patients\n",
    "    mut_pats = miner.sample(m_matrix.columns,n=len(mut_pats),replace=False)\n",
    "    wt_pats = miner.setdiff(m_matrix.columns,mut_pats)\n",
    "\n",
    "    tmp_aligned_results = []\n",
    "    tmp_diff_aligned_results = []\n",
    "    for reg in regulon_subset:\n",
    "\n",
    "        #get regulator\n",
    "        regulator = regulonDf[regulonDf.Regulon_ID==int(reg)].Regulator.unique()[0]\n",
    "        #get regulons downstream of regulator\n",
    "        downstream_regulons = regulonDf[regulonDf.Regulator==regulator].Regulon_ID.unique().astype(str)\n",
    "\n",
    "        #downstream differential expression\n",
    "        diff_exp_stat = []\n",
    "        diff_exp_p = []\n",
    "        regreg_r = []\n",
    "        regreg_p = []\n",
    "        for dr in downstream_regulons:\n",
    "            #differential expression\n",
    "            s, p = stats.ranksums(eigengenes.loc[dr,mut_pats],\n",
    "                           eigengenes.loc[dr,wt_pats])\n",
    "            diff_exp_stat.append(s)\n",
    "            diff_exp_p.append(p)\n",
    "            #correlation to regulator\n",
    "            if regulator in network_activity_diff.index:\n",
    "                r, pval = stats.spearmanr(network_activity_diff.loc[regulator,:],\n",
    "                                         eigengenes.loc[dr,:])\n",
    "            else:\n",
    "                r, pval = stats.spearmanr(expressionData.loc[regulator,:],\n",
    "                                         eigengenes.loc[dr,:])\n",
    "            regreg_r.append(r)\n",
    "            regreg_p.append(pval)\n",
    "\n",
    "        #mutation regulator edge\n",
    "        if regulator in network_activity_diff.index:\n",
    "            mutreg_stat, mutreg_p = stats.ranksums(network_activity_diff.loc[regulator,mut_pats],\n",
    "                               network_activity_diff.loc[regulator,wt_pats]) \n",
    "        else:\n",
    "            mutreg_stat, mutreg_p = stats.ranksums(expressionData.loc[regulator,mut_pats],\n",
    "                               expressionData.loc[regulator,wt_pats]) \n",
    "\n",
    "        mutreg_edge = np.sign(mutreg_stat)\n",
    "\n",
    "        #regulator regulon edge\n",
    "        regreg_edge = np.sign(regreg_r)\n",
    "\n",
    "        #mutation-regulator-regulon edge\n",
    "        mut_reg_reg = mutreg_edge*regreg_edge\n",
    "\n",
    "        #alignment mask\n",
    "        aligned = np.array(mut_reg_reg==np.sign(diff_exp_stat))\n",
    "\n",
    "        #diff exp mask\n",
    "        diff_mask = np.array(np.array(diff_exp_p)<0.05)\n",
    "\n",
    "        #diff exp and aligned mask\n",
    "        diff_aligned = aligned*diff_mask\n",
    "\n",
    "        #Fraction differentially expressed and aligned\n",
    "        fraction_diff_aligned = np.mean(diff_aligned)\n",
    "\n",
    "        #Fraction aligned, regardless of differential expression\n",
    "        fraction_aligned = np.mean(aligned)\n",
    "\n",
    "        #append tmp results\n",
    "        tmp_aligned_results.append(fraction_aligned)\n",
    "        tmp_diff_aligned_results.append(fraction_diff_aligned)\n",
    "    \n",
    "    #append results\n",
    "    aligned_results.append(tmp_aligned_results)\n",
    "    diff_aligned_results.append(tmp_diff_aligned_results)\n",
    "    \n",
    "\n",
    "aligned_results_df = pd.DataFrame(np.vstack(aligned_results).T)\n",
    "aligned_results_df.index = regulon_subset\n",
    "diff_aligned_results_df = pd.DataFrame(np.vstack(diff_aligned_results).T)\n",
    "diff_aligned_results_df.index = regulon_subset\n",
    "\n",
    "t2 = time.time()\n",
    "\n",
    "print((t2-t1)/60.)\n",
    "\n",
    "#calculate permutation statistics\n",
    "perm_mean = diff_aligned_results_df.mean(axis=1)\n",
    "perm_std = diff_aligned_results_df.std(axis=1)\n",
    "perm_95 = perm_mean+2*perm_std\n",
    "\n",
    "#collect results\n",
    "results = pd.concat([perm_mean,perm_std,perm_95,causal_results_subset.Fraction_of_aligned_and_diff_exp_edges],axis=1)\n",
    "results.columns = [\"mean\",\"std\",\"upper_95\",\"Fraction_of_aligned_and_diff_exp_edges\"]\n",
    "\n",
    "#filter significant calls\n",
    "significant_calls = results[results.Fraction_of_aligned_and_diff_exp_edges>results.upper_95]\n",
    "\n"
   ]
  },
  {
   "cell_type": "code",
   "execution_count": null,
   "metadata": {},
   "outputs": [],
   "source": [
    "cutoff = 0.2\n",
    "tmp_results = results[results.Fraction_of_aligned_and_diff_exp_edges>cutoff]\n",
    "tmp_significant_calls = tmp_results[tmp_results.Fraction_of_aligned_and_diff_exp_edges>tmp_results.upper_95]\n",
    "\n",
    "\n",
    "#Plot results\n",
    "plt.figure(figsize=(8,8))\n",
    "sns.set(font_scale=1.4)\n",
    "sns.kdeplot(tmp_results.upper_95.values,label=\"95% bound \\npermutations\",shade=True)\n",
    "sns.kdeplot(tmp_results.Fraction_of_aligned_and_diff_exp_edges.values,label=\"Observed Values\",shade=True)\n",
    "plt.xlabel(\"Edges aligned and differentially expressed\")\n",
    "plt.ylabel(\"Kernel density estimate\")\n",
    "plt.title(mut+\" ({:.1f}% of calls significant)\".format(\n",
    "    100*tmp_significant_calls.shape[0]/float(tmp_results.shape[0])))\n",
    "#plt.savefig(os.path.join(resultsDirectory,\"t(14;16)_causal_kde_3.pdf\"),bbox_inches=\"tight\")\n",
    "plt.show()"
   ]
  },
  {
   "cell_type": "code",
   "execution_count": null,
   "metadata": {},
   "outputs": [],
   "source": [
    "tmp_results.head()"
   ]
  },
  {
   "cell_type": "code",
   "execution_count": null,
   "metadata": {},
   "outputs": [],
   "source": []
  },
  {
   "cell_type": "code",
   "execution_count": null,
   "metadata": {},
   "outputs": [],
   "source": []
  },
  {
   "cell_type": "code",
   "execution_count": null,
   "metadata": {},
   "outputs": [],
   "source": [
    "#Plot results\n",
    "plt.figure(figsize=(8,8))\n",
    "sns.set(font_scale=1.4)\n",
    "sns.kdeplot(results.upper_95.values,label=\"95% bound \\npermutations\",shade=True)\n",
    "sns.kdeplot(results.Fraction_of_aligned_and_diff_exp_edges.values,label=\"t(4;14) Values\",shade=True)\n",
    "plt.xlabel(\"Edges aligned and differentially expressed\")\n",
    "plt.ylabel(\"Kernel density estimate\")\n",
    "plt.title(\"t(4;14) ({:.1f}% of calls significant)\".format(\n",
    "    100*significant_calls.shape[0]/float(results.shape[0])))\n",
    "plt.savefig(os.path.join(resultsDirectory,\"t(4;14)_causal_kde.pdf\"),bbox_inches=\"tight\")\n",
    "plt.show()"
   ]
  },
  {
   "cell_type": "code",
   "execution_count": null,
   "metadata": {},
   "outputs": [],
   "source": [
    "#Wilcoxon rank-sum test of distributions\n",
    "stats.ranksums(results.Fraction_of_aligned_and_diff_exp_edges.values,\n",
    "               results.upper_95.values)"
   ]
  },
  {
   "cell_type": "markdown",
   "metadata": {},
   "source": [
    "# Generate final causal figure"
   ]
  },
  {
   "cell_type": "code",
   "execution_count": null,
   "metadata": {},
   "outputs": [],
   "source": [
    "fig, (ax1, ax2) = plt.subplots(2,3,sharex=False)\n",
    "fig.tight_layout()\n",
    "fig.set_figheight(7)\n",
    "fig.set_figwidth(11)\n",
    "\n",
    "# Edges aligned\n",
    "_=ax1[0].hist(causal_results_filtered.Fraction_of_edges_correctly_aligned,bins=50)\n",
    "_=ax1[0].set_title(\"Edges aligned\",fontsize=12)\n",
    "_=ax1[0].set_xlabel(\"Proportion\",fontsize=12)\n",
    "_=ax1[0].set_ylabel(\"Number of edges\",fontsize=12)\n",
    "\n",
    "# Edges aligned and diff exp\n",
    "_=ax1[1].hist(causal_results_filtered.Fraction_of_aligned_and_diff_exp_edges,bins=50)\n",
    "_=ax1[1].set_title(\"Edges aligned and diff. exp.\",fontsize=12)\n",
    "_=ax1[1].set_xlabel(\"Proportion\",fontsize=12)\n",
    "_=ax1[1].set_ylabel(\"Number of edges\",fontsize=12)\n",
    "\n",
    "# Edges aligned\n",
    "_=ax1[2].hist(causal_results_filtered.loc[:,\"-log10(p)_MutationRegulatorEdge\"],bins=50)\n",
    "_=ax1[2].set_title(\"Mutation-regulator significance\",fontsize=12)\n",
    "_=ax1[2].set_xlabel(\"-log10(p)\",fontsize=12)\n",
    "_=ax1[2].set_ylabel(\"Number of edges\",fontsize=12)\n",
    "\n",
    "# Edges aligned\n",
    "_=ax2[0].hist(causal_results_filtered.loc[:,\"-log10(p)_Regulon_stratification\"],bins=50)\n",
    "_=ax2[0].set_title(\"Regulon stratification\",fontsize=12)\n",
    "_=ax2[0].set_xlabel(\"-log10(p)\",fontsize=12)\n",
    "_=ax2[0].set_ylabel(\"Number of regulons\",fontsize=12)\n",
    "\n",
    "# Permuted p-values\n",
    "_=ax2[1].scatter(filter_range,perm_ps)\n",
    "_=ax2[1].set_ylabel(\"Permuted p-value\",fontsize=12)\n",
    "_=ax2[1].set_xlabel(\"Aligned fraction cutoff\",fontsize=12)\n",
    "#_=ax2[1].axhline(0.1,color=\"red\")\n",
    "_=ax2[1].axhline(0.05,color=\"red\")\n",
    "_=ax2[1].set_title(\"Causal significance\",fontsize=12)\n",
    "\n",
    "# Number of causal flows\n",
    "_=ax2[2].scatter(filter_range,num_flows)\n",
    "_=ax2[2].set_ylabel(\"Number of causal flows\",fontsize=12)\n",
    "_=ax2[2].set_xlabel(\"Aligned fraction cutoff\",fontsize=12)\n",
    "_=ax2[2].set_title(\"Causal flows\",fontsize=12)\n",
    "\n",
    "axs = [ax1[0],ax1[1],ax1[2],ax2[0],ax2[1],ax2[2]]\n",
    "for n, ax in enumerate(axs):\n",
    "    ax.text(-0.3, 1.05, string.ascii_uppercase[n], transform=ax.transAxes, \n",
    "            size=16, weight='bold')\n",
    "    \n",
    "# Save plot\n",
    "plt.savefig(os.path.join(resultsDirectory,\"Causal_states_significance.pdf\"),bbox_inches=\"tight\")"
   ]
  },
  {
   "cell_type": "code",
   "execution_count": null,
   "metadata": {},
   "outputs": [],
   "source": []
  },
  {
   "cell_type": "code",
   "execution_count": null,
   "metadata": {},
   "outputs": [],
   "source": []
  },
  {
   "cell_type": "code",
   "execution_count": null,
   "metadata": {},
   "outputs": [],
   "source": []
  },
  {
   "cell_type": "code",
   "execution_count": null,
   "metadata": {},
   "outputs": [],
   "source": [
    "#set aligned edge thresholds\n",
    "cutoffs = [0.0,0.1,0.2,0.3]\n",
    "\n",
    "#instantiate lists\n",
    "lbls = []\n",
    "vals = []\n",
    "thresh = []\n",
    "sig = []\n",
    "flows = []\n",
    "\n",
    "for cutoff in cutoffs:\n",
    "    #subset results by cutoff\n",
    "    tmp_results = results[results.Fraction_of_aligned_and_diff_exp_edges>cutoff]\n",
    "    tmp_significant_calls = tmp_results[tmp_results.Fraction_of_aligned_and_diff_exp_edges>tmp_results.upper_95]\n",
    "\n",
    "    #retrieve permutation and observed values\n",
    "    tmp_results.upper_95.values\n",
    "    tmp_results.Fraction_of_aligned_and_diff_exp_edges.values\n",
    "\n",
    "    #calculate proportion of significant hits\n",
    "    passed = tmp_significant_calls.shape[0]/tmp_results.shape[0]\n",
    "\n",
    "    #stack labels\n",
    "    kind = np.hstack([[\"Permutation\" for i in range(len(tmp_results.upper_95.values))],\n",
    "                     [\"Observed\" for i in range(len(tmp_results.Fraction_of_aligned_and_diff_exp_edges.values))]])\n",
    "    lbls.extend(kind)\n",
    "\n",
    "    #stack values\n",
    "    values = np.hstack([tmp_results.upper_95.values,\n",
    "                        tmp_results.Fraction_of_aligned_and_diff_exp_edges.values])\n",
    "    vals.extend(values)\n",
    "\n",
    "    #stack cutoff\n",
    "    cut = [cutoff for i in range(len(values))]\n",
    "    thresh.extend(cut)\n",
    "\n",
    "    #stack number of flows\n",
    "    n_flow = tmp_results.shape[0]\n",
    "    num_flows = [n_flow for i in range(len(values))]\n",
    "    flows.extend(num_flows)\n",
    "    \n",
    "    #stack fraction passed\n",
    "    sig_fraction = [passed for i in range(len(values))]\n",
    "    sig.extend(sig_fraction)\n",
    "\n",
    "    \n",
    "data_df = pd.DataFrame(np.vstack([vals,lbls,thresh,flows,sig]).T)\n",
    "data_df.columns = [\"value\",\"type\",\"cutoff\",\"flows\",\"significant\"]\n",
    "data_df[\"value\"] = pd.to_numeric(data_df[\"value\"])\n",
    "#data_df[\"cutoff\"] = pd.to_numeric(data_df[\"cutoff\"])\n",
    "data_df[\"flows\"] = pd.to_numeric(data_df[\"flows\"])\n",
    "data_df[\"significant\"] = pd.to_numeric(data_df[\"significant\"])"
   ]
  },
  {
   "cell_type": "code",
   "execution_count": null,
   "metadata": {},
   "outputs": [],
   "source": [
    "#Inputs: mutation, regulon, regulonDf, network_activity_diff\n",
    "#start timer\n",
    "\n",
    "\n",
    "mut=\"RNASeq_MAF_Call\"\n",
    "m_matrix = translocations.copy()\n",
    "n_iter = 10\n",
    "\n",
    "def causal_significance_test(causal_results,m_matrix,mut,\n",
    "                             regulonDf,eigengenes,expressionData,network_activity_diff,\n",
    "                             n_iter=10):\n",
    "    \n",
    "    import time\n",
    "    from scipy import stats\n",
    "    import pandas as pd\n",
    "    import numpy as np\n",
    "    \n",
    "    t1 = time.time()\n",
    "    causal_results_subset = causal_results[causal_results.Mutation==mut]\n",
    "    regulon_subset = list(causal_results_subset.index)\n",
    "\n",
    "    aligned_results = []\n",
    "    diff_aligned_results = []\n",
    "    for iteration in range(n_iter):\n",
    "        #identify subtypes\n",
    "        mut_pats = miner.getMutations(mut,m_matrix)\n",
    "\n",
    "        #randomize patients\n",
    "        mut_pats = miner.sample(m_matrix.columns,n=len(mut_pats),replace=False)\n",
    "        wt_pats = miner.setdiff(m_matrix.columns,mut_pats)\n",
    "\n",
    "        tmp_aligned_results = []\n",
    "        tmp_diff_aligned_results = []\n",
    "        for reg in regulon_subset:\n",
    "\n",
    "            #get regulator\n",
    "            regulator = regulonDf[regulonDf.Regulon_ID==int(reg)].Regulator.unique()[0]\n",
    "            #get regulons downstream of regulator\n",
    "            downstream_regulons = regulonDf[regulonDf.Regulator==regulator].Regulon_ID.unique().astype(str)\n",
    "\n",
    "            #downstream differential expression\n",
    "            diff_exp_stat = []\n",
    "            diff_exp_p = []\n",
    "            regreg_r = []\n",
    "            regreg_p = []\n",
    "            for dr in downstream_regulons:\n",
    "                #differential expression\n",
    "                s, p = stats.ranksums(eigengenes.loc[dr,mut_pats],\n",
    "                               eigengenes.loc[dr,wt_pats])\n",
    "                diff_exp_stat.append(s)\n",
    "                diff_exp_p.append(p)\n",
    "                #correlation to regulator\n",
    "                if regulator in network_activity_diff.index:\n",
    "                    r, pval = stats.spearmanr(network_activity_diff.loc[regulator,:],\n",
    "                                             eigengenes.loc[dr,:])\n",
    "                else:\n",
    "                    r, pval = stats.spearmanr(expressionData.loc[regulator,:],\n",
    "                                             eigengenes.loc[dr,:])\n",
    "                regreg_r.append(r)\n",
    "                regreg_p.append(pval)\n",
    "\n",
    "            #mutation regulator edge\n",
    "            if regulator in network_activity_diff.index:\n",
    "                mutreg_stat, mutreg_p = stats.ranksums(network_activity_diff.loc[regulator,mut_pats],\n",
    "                                   network_activity_diff.loc[regulator,wt_pats]) \n",
    "            else:\n",
    "                mutreg_stat, mutreg_p = stats.ranksums(expressionData.loc[regulator,mut_pats],\n",
    "                                   expressionData.loc[regulator,wt_pats]) \n",
    "\n",
    "            mutreg_edge = np.sign(mutreg_stat)\n",
    "\n",
    "            #regulator regulon edge\n",
    "            regreg_edge = np.sign(regreg_r)\n",
    "\n",
    "            #mutation-regulator-regulon edge\n",
    "            mut_reg_reg = mutreg_edge*regreg_edge\n",
    "\n",
    "            #alignment mask\n",
    "            aligned = np.array(mut_reg_reg==np.sign(diff_exp_stat))\n",
    "\n",
    "            #diff exp mask\n",
    "            diff_mask = np.array(np.array(diff_exp_p)<0.05)\n",
    "\n",
    "            #diff exp and aligned mask\n",
    "            diff_aligned = aligned*diff_mask\n",
    "\n",
    "            #Fraction differentially expressed and aligned\n",
    "            fraction_diff_aligned = np.mean(diff_aligned)\n",
    "\n",
    "            #Fraction aligned, regardless of differential expression\n",
    "            fraction_aligned = np.mean(aligned)\n",
    "\n",
    "            #append tmp results\n",
    "            tmp_aligned_results.append(fraction_aligned)\n",
    "            tmp_diff_aligned_results.append(fraction_diff_aligned)\n",
    "\n",
    "        #append results\n",
    "        aligned_results.append(tmp_aligned_results)\n",
    "        diff_aligned_results.append(tmp_diff_aligned_results)\n",
    "\n",
    "\n",
    "    aligned_results_df = pd.DataFrame(np.vstack(aligned_results).T)\n",
    "    aligned_results_df.index = regulon_subset\n",
    "    diff_aligned_results_df = pd.DataFrame(np.vstack(diff_aligned_results).T)\n",
    "    diff_aligned_results_df.index = regulon_subset\n",
    "\n",
    "    t2 = time.time()\n",
    "\n",
    "    print((t2-t1)/60.)\n",
    "\n",
    "    #calculate permutation statistics\n",
    "    perm_mean = diff_aligned_results_df.mean(axis=1)\n",
    "    perm_std = diff_aligned_results_df.std(axis=1)\n",
    "    perm_95 = perm_mean+2*perm_std\n",
    "\n",
    "    #collect results\n",
    "    results = pd.concat([perm_mean,perm_std,perm_95,causal_results_subset.Fraction_of_aligned_and_diff_exp_edges],axis=1)\n",
    "    results.columns = [\"mean\",\"std\",\"upper_95\",\"Fraction_of_aligned_and_diff_exp_edges\"]\n",
    "\n",
    "    return results \n",
    "\n",
    "#filter significant calls\n",
    "significant_calls = results[results.Fraction_of_aligned_and_diff_exp_edges>results.upper_95]"
   ]
  },
  {
   "cell_type": "code",
   "execution_count": null,
   "metadata": {},
   "outputs": [],
   "source": [
    "#set aligned edge thresholds\n",
    "cutoffs = [0.0,0.1,0.2,0.3]\n",
    "\n",
    "def make_data_df(results,cutoffs):\n",
    "    #instantiate lists\n",
    "    lbls = []\n",
    "    vals = []\n",
    "    thresh = []\n",
    "    sig = []\n",
    "    flows = []\n",
    "\n",
    "    for cutoff in cutoffs:\n",
    "        #subset results by cutoff\n",
    "        tmp_results = results[results.Fraction_of_aligned_and_diff_exp_edges>cutoff]\n",
    "        tmp_significant_calls = tmp_results[tmp_results.Fraction_of_aligned_and_diff_exp_edges>tmp_results.upper_95]\n",
    "\n",
    "        #retrieve permutation and observed values\n",
    "        tmp_results.upper_95.values\n",
    "        tmp_results.Fraction_of_aligned_and_diff_exp_edges.values\n",
    "\n",
    "        #calculate proportion of significant hits\n",
    "        passed = tmp_significant_calls.shape[0]/tmp_results.shape[0]\n",
    "\n",
    "        #stack labels\n",
    "        kind = np.hstack([[\"Permutation\" for i in range(len(tmp_results.upper_95.values))],\n",
    "                         [\"Observed\" for i in range(len(tmp_results.Fraction_of_aligned_and_diff_exp_edges.values))]])\n",
    "        lbls.extend(kind)\n",
    "\n",
    "        #stack values\n",
    "        values = np.hstack([tmp_results.upper_95.values,\n",
    "                            tmp_results.Fraction_of_aligned_and_diff_exp_edges.values])\n",
    "        vals.extend(values)\n",
    "\n",
    "        #stack cutoff\n",
    "        cut = [cutoff for i in range(len(values))]\n",
    "        thresh.extend(cut)\n",
    "\n",
    "        #stack number of flows\n",
    "        n_flow = tmp_results.shape[0]\n",
    "        num_flows = [n_flow for i in range(len(values))]\n",
    "        flows.extend(num_flows)\n",
    "\n",
    "        #stack fraction passed\n",
    "        sig_fraction = [passed for i in range(len(values))]\n",
    "        sig.extend(sig_fraction)\n",
    "\n",
    "\n",
    "    data_df = pd.DataFrame(np.vstack([vals,lbls,thresh,flows,sig]).T)\n",
    "    data_df.columns = [\"value\",\"type\",\"cutoff\",\"flows\",\"significant\"]\n",
    "    data_df[\"value\"] = pd.to_numeric(data_df[\"value\"])\n",
    "    #data_df[\"cutoff\"] = pd.to_numeric(data_df[\"cutoff\"])\n",
    "    data_df[\"flows\"] = pd.to_numeric(data_df[\"flows\"])\n",
    "    data_df[\"significant\"] = pd.to_numeric(data_df[\"significant\"])\n",
    "    \n",
    "    return data_df"
   ]
  },
  {
   "cell_type": "code",
   "execution_count": null,
   "metadata": {},
   "outputs": [],
   "source": [
    "from importlib import reload\n",
    "reload(miner)"
   ]
  },
  {
   "cell_type": "code",
   "execution_count": null,
   "metadata": {},
   "outputs": [],
   "source": [
    "# compile all causal results\n",
    "causal_directory = os.path.join(resultsDirectory,\"miner_causal\")\n",
    "causal_results = miner.readCausalFiles(causal_directory)\n"
   ]
  },
  {
   "cell_type": "code",
   "execution_count": null,
   "metadata": {},
   "outputs": [],
   "source": [
    "all_muts = causal_results.Mutation.unique()\n",
    "mut_list = miner.intersect(all_muts,common_mutations.index)[0:10]\n",
    "cutoffs = [0.0,0.1,0.2,0.3]\n",
    "for mut in mut_list:\n",
    "    print(mut)\n",
    "    tmp_causal = miner.causal_significance_test(causal_results,common_mutations.copy(),mut,\n",
    "                             regulonDf,eigengenes,expressionData,network_activity_diff,\n",
    "                             n_iter=10)\n",
    "    for cutoff in cutoffs:\n",
    "        tmp_results = tmp_causal[tmp_causal.Fraction_of_aligned_and_diff_exp_edges>cutoff]\n",
    "        tmp_significant_calls = tmp_results[tmp_results.Fraction_of_aligned_and_diff_exp_edges>tmp_results.upper_95]"
   ]
  },
  {
   "cell_type": "code",
   "execution_count": null,
   "metadata": {},
   "outputs": [],
   "source": [
    "all_muts = causal_results.Mutation.unique()"
   ]
  },
  {
   "cell_type": "code",
   "execution_count": null,
   "metadata": {},
   "outputs": [],
   "source": [
    "mut_list = miner.intersect(all_muts,common_mutations.index)[0:10]"
   ]
  },
  {
   "cell_type": "code",
   "execution_count": null,
   "metadata": {},
   "outputs": [],
   "source": [
    "mut = mut_list[1]\n",
    "print(mut)"
   ]
  },
  {
   "cell_type": "markdown",
   "metadata": {},
   "source": [
    "## Causal significance testing for common mutations"
   ]
  },
  {
   "cell_type": "code",
   "execution_count": null,
   "metadata": {},
   "outputs": [],
   "source": [
    "all_muts = causal_results.Mutation.unique()\n",
    "mut_list = miner.intersect(all_muts,common_mutations.index)\n",
    "common_mutations.sum(axis=1)"
   ]
  },
  {
   "cell_type": "code",
   "execution_count": null,
   "metadata": {},
   "outputs": [],
   "source": [
    "t1 = time.time()\n",
    "all_muts = causal_results.Mutation.unique()\n",
    "mut_list = common_mutations.index[0:20]\n",
    "print(len(mut_list),\"mutations\")\n",
    "cutoffs = np.arange(0,0.6,0.1)\n",
    "\n",
    "mut_names = []\n",
    "cutoff_results = []\n",
    "flow_results = []\n",
    "cut_sig_results = []\n",
    "overall_sig_results = []\n",
    "sig_flow_results = []\n",
    "for i in range(len(mut_list)):\n",
    "    mut = mut_list[i]\n",
    "    print(mut)\n",
    "    mut_names.append(mut)\n",
    "    tmp_causal = miner.causal_significance_test(causal_results,common_mutations.copy(),mut,\n",
    "                             regulonDf,eigengenes,expressionData,network_activity_diff,\n",
    "                             n_iter=10)\n",
    "    \n",
    "    #test significance against thresholds\n",
    "    cuts = []\n",
    "    flows = []\n",
    "    cut_sig = []\n",
    "    overall_sig = []\n",
    "    for cutoff in cutoffs:\n",
    "        tmp_results = tmp_causal[tmp_causal.Fraction_of_aligned_and_diff_exp_edges>cutoff]\n",
    "        if tmp_results.shape[0]>0:\n",
    "            tmp_significant_calls = tmp_results[tmp_results.Fraction_of_aligned_and_diff_exp_edges>tmp_results.upper_95]\n",
    "            tmp_num_flows = tmp_significant_calls.shape[0]\n",
    "            tmp_fraction_significant = tmp_num_flows/float(tmp_causal.shape[0])\n",
    "            tmp_fraction_significant_cutoff = tmp_num_flows/float(tmp_results.shape[0])\n",
    "            #append results\n",
    "            cuts.append(cutoff)\n",
    "            flows.append(tmp_num_flows)\n",
    "            overall_sig.append(tmp_fraction_significant)\n",
    "            cut_sig.append(tmp_fraction_significant_cutoff)\n",
    "        else:\n",
    "            cuts.append(cutoff)\n",
    "            flows.append(0)\n",
    "            overall_sig.append(0)\n",
    "            cut_sig.append(0)\n",
    "            \n",
    "    cutoff_results.append(cuts)\n",
    "    flow_results.append(flows)\n",
    "    cut_sig_results.append(cut_sig)\n",
    "    overall_sig_results.append(overall_sig)\n",
    "\n",
    "    if i%10==0:\n",
    "        flows_df = pd.DataFrame(np.vstack(flow_results))\n",
    "        flows_df.index = mut_names\n",
    "        flows_df.to_csv(os.path.join(resultsDirectory,\"filtered_causal_flows.csv\"))\n",
    "\n",
    "        cutsig_df = pd.DataFrame(np.vstack(cut_sig_results))\n",
    "        cutsig_df.index = mut_names\n",
    "        cutsig_df.to_csv(os.path.join(resultsDirectory,\"filtered_causal_significance_cutoff.csv\"))\n",
    "\n",
    "        overallsig_df = pd.DataFrame(np.vstack(overall_sig_results))\n",
    "        overallsig_df.index = mut_names\n",
    "        overallsig_df.to_csv(os.path.join(resultsDirectory,\"filtered_causal_significance_overall.csv\"))\n",
    "\n",
    "flows_df = pd.DataFrame(np.vstack(flow_results))\n",
    "flows_df.index = mut_names\n",
    "flows_df.to_csv(os.path.join(resultsDirectory,\"filtered_causal_flows.csv\"))\n",
    "\n",
    "cutsig_df = pd.DataFrame(np.vstack(cut_sig_results))\n",
    "cutsig_df.index = mut_names\n",
    "cutsig_df.to_csv(os.path.join(resultsDirectory,\"filtered_causal_significance_cutoff.csv\"))\n",
    "\n",
    "overallsig_df = pd.DataFrame(np.vstack(overall_sig_results))\n",
    "overallsig_df.index = mut_names\n",
    "overallsig_df.to_csv(os.path.join(resultsDirectory,\"filtered_causal_significance_overall.csv\"))\n",
    "\n",
    "t2 = time.time()\n",
    "print((t2-t1)/60.0)"
   ]
  },
  {
   "cell_type": "code",
   "execution_count": null,
   "metadata": {},
   "outputs": [],
   "source": [
    "common_mutations.index[70:75]"
   ]
  },
  {
   "cell_type": "code",
   "execution_count": null,
   "metadata": {
    "scrolled": false
   },
   "outputs": [],
   "source": [
    "#optimized threshold\n",
    "cutoff = 0.2\n",
    "\n",
    "#filter causal flows by optimized threshold\n",
    "t1 = time.time()\n",
    "all_muts = causal_results.Mutation.unique()\n",
    "#mut_list = common_mutations.index\n",
    "print(len(mut_list),\"mutations\")\n",
    "\n",
    "#sig_flow_results = []\n",
    "for i in range(len(mut_list)):\n",
    "    mut = mut_list[i]\n",
    "    print(mut)\n",
    "    mut_names.append(mut)\n",
    "    tmp_causal = miner.causal_significance_test(causal_results,common_mutations.copy(),mut,\n",
    "                             regulonDf,eigengenes,expressionData,network_activity_diff,\n",
    "                             n_iter=10)\n",
    "    \n",
    "    #test significance against optimized threshold\n",
    "    tmp_results = tmp_causal[tmp_causal.Fraction_of_aligned_and_diff_exp_edges>cutoff]\n",
    "    if tmp_results.shape[0]>0:\n",
    "        tmp_significant_calls = tmp_results[tmp_results.Fraction_of_aligned_and_diff_exp_edges>tmp_results.upper_95]\n",
    "        #list regulators\n",
    "        regulators = [\n",
    "            regulonDf[regulonDf.Regulon_ID==int(reg)][\"Regulator\"].unique()[0] \n",
    "            for reg in tmp_significant_calls.index\n",
    "        ]\n",
    "        if tmp_significant_calls.shape[0]==0:\n",
    "            continue\n",
    "        #format significant causal flows\n",
    "        tmp_cm_df = pd.DataFrame(list(zip(\n",
    "            [mut for i in range(tmp_significant_calls.shape[0])],\n",
    "            regulators,\n",
    "            tmp_significant_calls.index)))\n",
    "        tmp_cm_df.columns = [\"Mutation\",\"Regulator\",\"Regulon\"]\n",
    "        \n",
    "        #add dataframe to list for concatenation\n",
    "        sig_flow_results.append(tmp_cm_df)\n",
    "\n",
    "    if i%10==0:\n",
    "        if len(sig_flow_results) > 0:\n",
    "            tmp_results = pd.concat(sig_flow_results,axis=0)\n",
    "            tmp_results.to_csv(os.path.join(resultsDirectory,\"sig_causal_flows_remainder.csv\"))\n",
    "\n",
    "final_cm_results = pd.concat(sig_flow_results,axis=0)\n",
    "final_cm_results.to_csv(os.path.join(resultsDirectory,\"sig_causal_flows_remainder.csv\"))\n",
    "    \n",
    "t2 = time.time()\n",
    "print((t2-t1)/60.0)"
   ]
  },
  {
   "cell_type": "code",
   "execution_count": null,
   "metadata": {},
   "outputs": [],
   "source": [
    "final_cm_results.Mutation.unique()"
   ]
  },
  {
   "cell_type": "code",
   "execution_count": null,
   "metadata": {},
   "outputs": [],
   "source": [
    "kras_cm = final_cm_results[final_cm_results.Mutation == \"TP53\"]\n",
    "kras_cm.head() #t(14;16)"
   ]
  },
  {
   "cell_type": "code",
   "execution_count": null,
   "metadata": {},
   "outputs": [],
   "source": [
    "for mut in final_cm_results_translocations.Mutation.unique():\n",
    "    tmp_cm = final_cm_results_translocations[final_cm_results_translocations.Mutation == mut]\n",
    "    tmp = miner.intersect(program_list[72],np.array(tmp_cm.Regulon).astype(str))\n",
    "    if len(tmp) > 0:\n",
    "        print(mut, tmp)"
   ]
  },
  {
   "cell_type": "code",
   "execution_count": null,
   "metadata": {},
   "outputs": [],
   "source": [
    "#Associate mutations to programs - LRP1B mutation is strongly associated with relapse program 134\n",
    "for i in range(len(program_list)):\n",
    "    tmp_cm = final_cm_results_translocations[final_cm_results_translocations.Mutation == \"RNASeq_CCND1_Call\"]\n",
    "    tmp = miner.intersect(program_list[i],np.array(tmp_cm.Regulon).astype(str))\n",
    "    if len(tmp) > 0:\n",
    "        print(i, tmp)"
   ]
  },
  {
   "cell_type": "code",
   "execution_count": null,
   "metadata": {},
   "outputs": [],
   "source": [
    "for mut in overallsig_df.index:\n",
    "    plt.plot(cutoffs,overallsig_df.loc[mut,:])\n",
    "    plt.scatter(cutoffs,overallsig_df.loc[mut,:])\n",
    "    \n"
   ]
  },
  {
   "cell_type": "code",
   "execution_count": null,
   "metadata": {},
   "outputs": [],
   "source": [
    "for mut in cutsig_df.index:\n",
    "    plt.plot(cutoffs,cutsig_df.loc[mut,:])\n",
    "    plt.scatter(cutoffs,cutsig_df.loc[mut,:])\n",
    "    \n"
   ]
  },
  {
   "cell_type": "code",
   "execution_count": null,
   "metadata": {},
   "outputs": [],
   "source": [
    "for mut in flows_df.index:\n",
    "    plt.plot(cutoffs,flows_df.loc[mut,:])\n",
    "    plt.scatter(cutoffs,flows_df.loc[mut,:])\n"
   ]
  },
  {
   "cell_type": "code",
   "execution_count": null,
   "metadata": {},
   "outputs": [],
   "source": [
    "for mut in overallsig_df_translocations.index:\n",
    "    plt.plot(range(overallsig_df_translocations.shape[1]),overallsig_df_translocations.loc[mut,:])\n",
    "    plt.scatter(range(overallsig_df_translocations.shape[1]),overallsig_df_translocations.loc[mut,:])\n",
    "    \n"
   ]
  },
  {
   "cell_type": "code",
   "execution_count": null,
   "metadata": {},
   "outputs": [],
   "source": [
    "for mut in cutsig_df_translocations.index:\n",
    "    plt.plot(range(cutsig_df_translocations.shape[1]),cutsig_df_translocations.loc[mut,:])\n",
    "    plt.scatter(range(cutsig_df_translocations.shape[1]),cutsig_df_translocations.loc[mut,:])\n",
    "    \n"
   ]
  },
  {
   "cell_type": "code",
   "execution_count": null,
   "metadata": {},
   "outputs": [],
   "source": [
    "for mut in flows_df_translocations.index:\n",
    "    plt.plot(range(flows_df_translocations.shape[1]),flows_df_translocations.loc[mut,:])\n",
    "    plt.scatter(range(flows_df_translocations.shape[1]),flows_df_translocations.loc[mut,:])\n"
   ]
  },
  {
   "cell_type": "markdown",
   "metadata": {},
   "source": [
    "## Test significance of cytogenetics causal flows"
   ]
  },
  {
   "cell_type": "code",
   "execution_count": null,
   "metadata": {},
   "outputs": [],
   "source": [
    "significant_causal_cytogenetics_20 = miner.parallel_causal_significance(causal_results,\n",
    "                                 cytogenetics,\n",
    "                                 regulonDf,\n",
    "                                 eigengenes,\n",
    "                                 expressionData,\n",
    "                                 network_activity_diff,\n",
    "                                 n_iter=20,\n",
    "                                 cutoff=0.2,\n",
    "                                 n_cores = 7)"
   ]
  },
  {
   "cell_type": "code",
   "execution_count": null,
   "metadata": {},
   "outputs": [],
   "source": [
    "significant_causal_cytogenetics_20.to_csv(os.path.join(resultsDirectory,\"cytogenetic_flows_20perm.csv\"))\n",
    "significant_causal_cytogenetics_20.shape[0]"
   ]
  },
  {
   "cell_type": "code",
   "execution_count": null,
   "metadata": {},
   "outputs": [],
   "source": [
    "comm_mut = miner.intersect(causal_results.Mutation.unique(),cytogenetics.index)\n",
    "causal_results_unfiltered = causal_results.iloc[[i for i in list(range(causal_results.shape[0])) if causal_results.iloc[i,0] in comm_mut],:]"
   ]
  },
  {
   "cell_type": "code",
   "execution_count": null,
   "metadata": {},
   "outputs": [],
   "source": [
    "significant_causal_cytogenetics_20.shape[0]/causal_results_unfiltered.shape[0]"
   ]
  },
  {
   "cell_type": "code",
   "execution_count": null,
   "metadata": {},
   "outputs": [],
   "source": [
    "len(significant_causal_cytogenetics_20.Mutation.unique())/len(causal_results_unfiltered.Mutation.unique())"
   ]
  },
  {
   "cell_type": "markdown",
   "metadata": {},
   "source": [
    "## Test significance of RNASeq-call translocation causal flows"
   ]
  },
  {
   "cell_type": "code",
   "execution_count": null,
   "metadata": {},
   "outputs": [],
   "source": [
    "significant_causal_translocations_20 = miner.parallel_causal_significance(causal_results,\n",
    "                                 translocations,\n",
    "                                 regulonDf,\n",
    "                                 eigengenes,\n",
    "                                 expressionData,\n",
    "                                 network_activity_diff,\n",
    "                                 n_iter=20,\n",
    "                                 cutoff=0.2,\n",
    "                                 n_cores = 5)"
   ]
  },
  {
   "cell_type": "code",
   "execution_count": null,
   "metadata": {},
   "outputs": [],
   "source": [
    "significant_causal_translocations_20.to_csv(os.path.join(resultsDirectory,\"translocation_flows_20perm.csv\"))\n",
    "significant_causal_translocations_20.shape[0]"
   ]
  },
  {
   "cell_type": "code",
   "execution_count": null,
   "metadata": {},
   "outputs": [],
   "source": [
    "comm_mut = miner.intersect(causal_results.Mutation.unique(),translocations.index)\n",
    "causal_results_unfiltered = causal_results.iloc[[i for i in list(range(causal_results.shape[0])) if causal_results.iloc[i,0] in comm_mut],:]"
   ]
  },
  {
   "cell_type": "code",
   "execution_count": null,
   "metadata": {},
   "outputs": [],
   "source": [
    "significant_causal_translocations_20.shape[0]/causal_results_unfiltered.shape[0]"
   ]
  },
  {
   "cell_type": "code",
   "execution_count": null,
   "metadata": {},
   "outputs": [],
   "source": [
    "len(significant_causal_translocations_20.Mutation.unique())/len(causal_results_unfiltered.Mutation.unique())"
   ]
  },
  {
   "cell_type": "markdown",
   "metadata": {},
   "source": [
    "## Test significance of common mutation causal flows"
   ]
  },
  {
   "cell_type": "code",
   "execution_count": null,
   "metadata": {},
   "outputs": [],
   "source": [
    "reload(miner)\n",
    "significant_causal_mutations_20 = miner.parallel_causal_significance(causal_results,\n",
    "                                 common_mutations,\n",
    "                                 regulonDf,\n",
    "                                 eigengenes,\n",
    "                                 expressionData,\n",
    "                                 network_activity_diff,\n",
    "                                 n_iter=20,\n",
    "                                 cutoff=0.2,\n",
    "                                 n_cores = 7)"
   ]
  },
  {
   "cell_type": "code",
   "execution_count": null,
   "metadata": {},
   "outputs": [],
   "source": [
    "significant_causal_mutations_20.to_csv(os.path.join(resultsDirectory,\"common_mutation_flows_20perm.csv\"))\n",
    "significant_causal_mutations_20.shape[0]"
   ]
  },
  {
   "cell_type": "code",
   "execution_count": null,
   "metadata": {},
   "outputs": [],
   "source": [
    "comm_mut = miner.intersect(causal_results.Mutation.unique(),common_mutations.index)\n",
    "causal_results_unfiltered = causal_results.iloc[[i for i in list(range(causal_results.shape[0])) if causal_results.iloc[i,0] in comm_mut],:]"
   ]
  },
  {
   "cell_type": "code",
   "execution_count": null,
   "metadata": {},
   "outputs": [],
   "source": [
    "significant_causal_mutations_20.shape[0]/causal_results_unfiltered.shape[0]"
   ]
  },
  {
   "cell_type": "code",
   "execution_count": null,
   "metadata": {},
   "outputs": [],
   "source": [
    "len(significant_causal_mutations_20.Mutation.unique())/len(causal_results_unfiltered.Mutation.unique())"
   ]
  },
  {
   "cell_type": "markdown",
   "metadata": {},
   "source": [
    "## combine significant causal results"
   ]
  },
  {
   "cell_type": "code",
   "execution_count": null,
   "metadata": {},
   "outputs": [],
   "source": [
    "significant_causal_cytogenetics_20 = pd.read_csv(os.path.join(resultsDirectory,\"cytogenetic_flows_20perm.csv\"),index_col=0)\n",
    "significant_causal_translocations_20 = pd.read_csv(os.path.join(resultsDirectory,\"translocation_flows_20perm.csv\"),index_col=0)\n",
    "significant_causal_mutations_20 = pd.read_csv(os.path.join(resultsDirectory,\"common_mutation_flows_20perm.csv\"),index_col=0)\n"
   ]
  },
  {
   "cell_type": "code",
   "execution_count": null,
   "metadata": {},
   "outputs": [],
   "source": [
    "significant_causal_results = pd.concat([significant_causal_mutations_20,\n",
    "                                       significant_causal_translocations_20,\n",
    "                                       significant_causal_cytogenetics_20],axis=0)\n",
    "print(significant_causal_results.shape)\n",
    "print(significant_causal_results.shape[0]/float(causal_results.shape[0]))"
   ]
  },
  {
   "cell_type": "code",
   "execution_count": null,
   "metadata": {},
   "outputs": [],
   "source": [
    "#plt.scatter([10,15,20],[17.13,24.58,35.29])\n",
    "plt.scatter([10,15,20],np.array([5266,5303,5340])/float(causal_results_unfiltered.shape[0]))"
   ]
  },
  {
   "cell_type": "code",
   "execution_count": null,
   "metadata": {},
   "outputs": [],
   "source": [
    "causal_results.head()"
   ]
  },
  {
   "cell_type": "code",
   "execution_count": null,
   "metadata": {},
   "outputs": [],
   "source": [
    "significant_causal_results.head()"
   ]
  },
  {
   "cell_type": "code",
   "execution_count": null,
   "metadata": {},
   "outputs": [],
   "source": [
    "significant_causal_results.Regulon.unique()[0]"
   ]
  },
  {
   "cell_type": "code",
   "execution_count": null,
   "metadata": {},
   "outputs": [],
   "source": [
    "causal_results.loc[str(significant_causal_results.Regulon.unique()[0]),:]"
   ]
  },
  {
   "cell_type": "code",
   "execution_count": null,
   "metadata": {},
   "outputs": [],
   "source": [
    "causal_results_directory = os.path.join(resultsDirectory,\"causal_analysis\")\n",
    "causal_subdirectory = \"causal_results_o2\"\n",
    "causal_directory = os.path.join(causal_results_directory,causal_subdirectory)\n",
    "causal_results_states = miner.readCausalFiles(causal_directory)\n",
    "causal_results_states.head()"
   ]
  },
  {
   "cell_type": "code",
   "execution_count": null,
   "metadata": {},
   "outputs": [],
   "source": [
    "causal_results_states_15 = causal_results_states[causal_results_states.Mutation==15]\n",
    "causal_results_states_15 = causal_results_states_15[causal_results_states_15.Fraction_of_aligned_and_diff_exp_edges>0.2]\n",
    "causal_results_states_15.shape"
   ]
  },
  {
   "cell_type": "code",
   "execution_count": null,
   "metadata": {},
   "outputs": [],
   "source": [
    "tmp_causal_slice.Regulator.unique()[0]"
   ]
  },
  {
   "cell_type": "code",
   "execution_count": null,
   "metadata": {},
   "outputs": [],
   "source": [
    "all_rows = []\n",
    "for reg in causal_results_states_15.index.unique():\n",
    "    #Get significant causal mutation info\n",
    "    tmp_causal_slice = significant_causal_results[significant_causal_results.Regulon==int(reg)]\n",
    "    if tmp_causal_slice.shape[0] == 0:\n",
    "        continue\n",
    "    tmp_causal_muts = list(tmp_causal_slice.Mutation.unique())\n",
    "    tmp_causal_reg = tmp_causal_slice.Regulator.unique()[0]\n",
    "\n",
    "    #Get causal state info for regulon\n",
    "    causal_info = causal_results_states_15.loc[reg,:]\n",
    "    state_reg_edge = causal_info[\"Regulon_stratification_t-statistic\"]\n",
    "\n",
    "    #collect causal rows\n",
    "    causal_rows = []\n",
    "    standard_causal_results_tmp = causal_results.loc[reg,:]\n",
    "    all_muts_tmp = list(standard_causal_results_tmp.Mutation)\n",
    "    if type(standard_causal_results_tmp) == pd.core.series.Series:\n",
    "        all_muts_tmp = [standard_causal_results_tmp.Mutation]\n",
    "        \n",
    "    if len(all_muts_tmp) == 0:\n",
    "        continue\n",
    "    for i in range(len(all_muts_tmp)):\n",
    "        tmp_mut = all_muts_tmp[i]\n",
    "        if tmp_mut in tmp_causal_muts:\n",
    "            if type(standard_causal_results_tmp) == pd.core.series.Series:\n",
    "                mut_reg_edge_sig = standard_causal_results_tmp.iloc[3]*standard_causal_results_tmp.iloc[4]\n",
    "                tmp_tf_edge = standard_causal_results_tmp.iloc[5]\n",
    "            else:\n",
    "                mut_reg_edge_sig = standard_causal_results_tmp.iloc[i,3]*standard_causal_results_tmp.iloc[i,4]\n",
    "                tmp_tf_edge = standard_causal_results_tmp.iloc[i,5]\n",
    "            causal_rows.append([tmp_mut,mut_reg_edge_sig,tmp_causal_reg,\n",
    "                   tmp_tf_edge,reg,state_reg_edge,causal_info.Mutation])\n",
    "    \n",
    "    #format as data frame\n",
    "    tmp_results = pd.DataFrame(np.vstack(causal_rows))\n",
    "    tmp_results.columns = [\"Mutation\",\"Mutation_regulator_edge\",\"Regulator\",\"Regulator_regulon_edge\",\n",
    "                          \"Regulon\",\"Regulon_state_edge\",\"State\"]\n",
    "    all_rows.append(tmp_results)\n",
    "    \n",
    "all_results = pd.concat(all_rows,axis=0)\n",
    "all_results['Regulator'] = miner.gene_conversion(list(all_results.Regulator),id_table=id_table,list_symbols=True)\n",
    "all_results['Mutation_regulator_edge'] = all_results['Mutation_regulator_edge'].astype(float)\n",
    "print(all_results.shape)\n",
    "all_results.head()"
   ]
  },
  {
   "cell_type": "code",
   "execution_count": null,
   "metadata": {},
   "outputs": [],
   "source": [
    "all_results.to_csv(os.path.join(resultsDirectory,\"causal_mutations_state_15.csv\"))"
   ]
  },
  {
   "cell_type": "code",
   "execution_count": null,
   "metadata": {},
   "outputs": [],
   "source": [
    "mut_count = Counter(all_results.Mutation).most_common()\n",
    "mut_count_df = pd.DataFrame(np.vstack(mut_count))\n",
    "mut_count_df.columns = [\"Mutation\",\"Frequency\"]\n",
    "mut_count_df.to_csv(os.path.join(resultsDirectory,\"causal_mutation_count_state_15.csv\"))\n",
    "mut_count_df.head()\n"
   ]
  },
  {
   "cell_type": "code",
   "execution_count": null,
   "metadata": {},
   "outputs": [],
   "source": [
    "master_attractors.head()"
   ]
  },
  {
   "cell_type": "code",
   "execution_count": null,
   "metadata": {},
   "outputs": [],
   "source": [
    "all_results.head()"
   ]
  },
  {
   "cell_type": "code",
   "execution_count": null,
   "metadata": {},
   "outputs": [],
   "source": [
    "'ETV4' in master_attractors.index"
   ]
  },
  {
   "cell_type": "code",
   "execution_count": null,
   "metadata": {},
   "outputs": [],
   "source": [
    "##Need to account for alignment between mutation and attractors/repressors of state\n",
    "##create aligned df and anti-aligned df\n",
    "##Make jaccard distance matrix based upon common target alignment\n",
    "##cluster jaccard matrix to identify groups of mutations that tend to target the same TFs\n",
    "##create network plot with clustered mutations in distinct locations outside of the tf network"
   ]
  },
  {
   "cell_type": "markdown",
   "metadata": {},
   "source": [
    "## Identify mutation clusters"
   ]
  },
  {
   "cell_type": "code",
   "execution_count": 7,
   "metadata": {},
   "outputs": [],
   "source": [
    "anchor_id = 15\n",
    "tf_network_directory = os.path.join(resultsDirectory,str(anchor_id),\"tf-epi_network\")\n",
    "all_results = pd.read_csv(os.path.join(resultsDirectory,\"causal_mutations_state_15.csv\"),index_col=0)\n",
    "master_attractors = pd.read_csv(os.path.join(tf_network_directory,\"master_attractors.csv\"),index_col=0)\n",
    "master_repellers = pd.read_csv(os.path.join(tf_network_directory,\"master_repellers.csv\"),index_col=0)\n"
   ]
  },
  {
   "cell_type": "code",
   "execution_count": 8,
   "metadata": {},
   "outputs": [],
   "source": [
    "muts = all_results[\"Mutation\"].unique()\n",
    "tfs = all_results[\"Regulator\"].unique()\n",
    "mut_tf_df = pd.DataFrame(np.zeros((len(muts),len(tfs))))\n",
    "mut_tf_df.index = muts\n",
    "mut_tf_df.columns = tfs\n",
    "\n",
    "for tmp_tf in tfs:\n",
    "    tmp_subset = all_results[all_results.Regulator==tmp_tf]\n",
    "    tmp_muts = tmp_subset[\"Mutation\"].unique()\n",
    "    for mut in tmp_muts:\n",
    "        tmp_info = tmp_subset[tmp_subset.Mutation == mut]\n",
    "        if tmp_info.Mutation_regulator_edge.unique()[0] >0:\n",
    "            mut_tf_df.loc[mut,tmp_tf] = 1\n",
    "        else:\n",
    "            mut_tf_df.loc[mut,tmp_tf] = -1\n",
    "                \n",
    "for tf in mut_tf_df.columns:\n",
    "    if tf in master_repellers.index:\n",
    "        mut_tf_df[tf] = -1*mut_tf_df[tf]\n",
    "\n",
    "mut_tf_df[mut_tf_df<0] = 0"
   ]
  },
  {
   "cell_type": "code",
   "execution_count": 107,
   "metadata": {},
   "outputs": [],
   "source": [
    "common_pats = miner.intersect(miner.intersect(common_mutations.columns,translocations.columns),\n",
    "                cytogenetics.columns)\n",
    "mutation_matrix = pd.concat([common_mutations.loc[:,common_pats],\n",
    "                            translocations.loc[:,common_pats],\n",
    "                            cytogenetics.loc[:,common_pats]],axis=0)\n",
    "\n",
    "mutation_matrix_15 = mutation_matrix.loc[:,miner.intersect(mutation_matrix.columns,states[14])]\n",
    "mut_pat_jaccard = miner.df_to_jaccard(mutation_matrix_15)"
   ]
  },
  {
   "cell_type": "code",
   "execution_count": 109,
   "metadata": {},
   "outputs": [],
   "source": [
    "pat_mut_jaccard = miner.df_to_jaccard(mutation_matrix_15.T)"
   ]
  },
  {
   "cell_type": "code",
   "execution_count": 110,
   "metadata": {},
   "outputs": [
    {
     "data": {
      "text/plain": [
       "<seaborn.matrix.ClusterGrid at 0x13725e2e8>"
      ]
     },
     "execution_count": 110,
     "metadata": {},
     "output_type": "execute_result"
    },
    {
     "data": {
      "image/png": "[encoded data removed]",
      "text/plain": [
       "<Figure size 720x720 with 4 Axes>"
      ]
     },
     "metadata": {
      "needs_background": "light"
     },
     "output_type": "display_data"
    }
   ],
   "source": [
    "import seaborn as sns\n",
    "sns.clustermap(pat_mut_jaccard)"
   ]
  },
  {
   "cell_type": "code",
   "execution_count": 83,
   "metadata": {},
   "outputs": [
    {
     "data": {
      "image/png": "[encoded data removed]",
      "text/plain": [
       "<Figure size 864x864 with 2 Axes>"
      ]
     },
     "metadata": {
      "needs_background": "light"
     },
     "output_type": "display_data"
    }
   ],
   "source": [
    "mut_jaccard_15_tmp = mut_tf_jaccard.copy()\n",
    "mut_jaccard_15_tmp[mut_jaccard_15_tmp<0.15] = 0\n",
    "\n",
    "clustered_index = miner.unmix(mut_jaccard_15_tmp,iterations=25,returnAll=True)\n",
    "tf_causal_muts = miner.merge_cluster_list(clustered_index,mut_tf_jaccard,min_corr = 0.5)\n",
    "#clustered_index = miner.remix(mut_jaccard_15_tmp,clustered_index)\n",
    "plt.figure(figsize=(12,12))\n",
    "plt.imshow(mut_tf_jaccard.loc[np.hstack(tf_causal_muts),np.hstack(tf_causal_muts)],cmap=\"bwr\",vmax=0.25)\n",
    "plt.grid(False)\n",
    "plt.xticks(np.arange(len(np.hstack(tf_causal_muts))),\n",
    "           labels=np.hstack(tf_causal_muts),rotation=90,fontsize=8)\n",
    "plt.yticks(np.arange(len(np.hstack(tf_causal_muts))),\n",
    "           labels=np.hstack(tf_causal_muts),fontsize=8)\n",
    "plt.title(\"Similarity of TF activation\")\n",
    "plt.colorbar(shrink=0.15,label='Jaccard distance',aspect=5,pad=0.025)\n",
    "plt.savefig(os.path.join(resultsDirectory,\"mutation_target_regulator_heatmap.pdf\"),bbox_inches=\"tight\")\n",
    "plt.show()"
   ]
  },
  {
   "cell_type": "code",
   "execution_count": 61,
   "metadata": {},
   "outputs": [
    {
     "data": {
      "image/png": "[encoded data removed]",
      "text/plain": [
       "<Figure size 1152x1152 with 1 Axes>"
      ]
     },
     "metadata": {
      "needs_background": "light"
     },
     "output_type": "display_data"
    }
   ],
   "source": [
    "#create distance matrix\n",
    "tf_mut_jaccard = miner.df_to_jaccard(mut_tf_df.T)\n",
    "\n",
    "#cluster tfs\n",
    "mut_jaccard_15_tmp_T = tf_mut_jaccard.copy()\n",
    "mut_jaccard_15_tmp_T[mut_jaccard_15_tmp_T<0.175] = 0\n",
    "clustered_index_T = miner.unmix(mut_jaccard_15_tmp_T,iterations=25,returnAll=True)\n",
    "tf_causal_targets = miner.merge_cluster_list(clustered_index_T,tf_mut_jaccard,min_corr = 0.5)\n",
    "\n",
    "#plot with merged_clusters\n",
    "plt.figure(figsize=(16,16))\n",
    "plt.imshow(tf_mut_jaccard.loc[np.hstack(tf_causal_targets),np.hstack(tf_causal_targets)],cmap=\"bwr\",vmax=0.25)\n",
    "plt.grid(False)\n",
    "plt.xticks(np.arange(len(np.hstack(tf_causal_targets))),\n",
    "           labels=np.hstack(tf_causal_targets),rotation=90,fontsize=7)\n",
    "plt.yticks(np.arange(len(np.hstack(tf_causal_targets))),\n",
    "           labels=np.hstack(tf_causal_targets),fontsize=7)\n",
    "plt.title(\"Similarity of Mutation impact\")\n",
    "plt.savefig(os.path.join(resultsDirectory,\"tf_tf_causal_similarity_heatmap.pdf\"),bbox_inches=\"tight\")\n",
    "plt.show()"
   ]
  },
  {
   "cell_type": "code",
   "execution_count": 84,
   "metadata": {},
   "outputs": [
    {
     "data": {
      "image/png": "[encoded data removed]",
      "text/plain": [
       "<Figure size 1152x1152 with 1 Axes>"
      ]
     },
     "metadata": {
      "needs_background": "light"
     },
     "output_type": "display_data"
    }
   ],
   "source": [
    "plt.figure(figsize=(16,16))\n",
    "plt.imshow(mut_tf_df.loc[np.hstack(tf_causal_muts),np.hstack(tf_causal_targets)],cmap=\"Blues\",vmax=0.25)\n",
    "plt.grid(False)\n",
    "plt.xticks(np.arange(len(np.hstack(tf_causal_targets))),\n",
    "           labels=np.hstack(tf_causal_targets),rotation=90,fontsize=7)\n",
    "plt.yticks(np.arange(len(np.hstack(tf_causal_muts))),\n",
    "           labels=np.hstack(tf_causal_muts),fontsize=7)\n",
    "plt.title(\"Similarity of Causal impact\")\n",
    "plt.savefig(os.path.join(resultsDirectory,\"mut_tf_causal_similarity_heatmap.pdf\"),bbox_inches=\"tight\")\n",
    "plt.show()"
   ]
  },
  {
   "cell_type": "code",
   "execution_count": 85,
   "metadata": {},
   "outputs": [],
   "source": [
    "#common mutations\n",
    "mean_occurence_muts = common_mutations.loc[miner.intersect(np.hstack(tf_causal_muts),common_mutations.index),\n",
    "                     miner.intersect(common_mutations.columns,states[14])].mean(axis=1)\n",
    "\n",
    "#translocations\n",
    "mean_occurence_translocations = translocations.loc[miner.intersect(np.hstack(tf_causal_muts),translocations.index),\n",
    "                     miner.intersect(translocations.columns,states[14])].mean(axis=1)\n",
    "\n",
    "#cytogenetics\n",
    "mean_occurence_cytogenetics = cytogenetics.loc[miner.intersect(np.hstack(tf_causal_muts),cytogenetics.index),\n",
    "                     miner.intersect(cytogenetics.columns,states[14])].mean(axis=1)"
   ]
  },
  {
   "cell_type": "code",
   "execution_count": 87,
   "metadata": {},
   "outputs": [
    {
     "data": {
      "text/plain": [
       "0.20833333333333334"
      ]
     },
     "execution_count": 87,
     "metadata": {},
     "output_type": "execute_result"
    }
   ],
   "source": [
    "mean_occurence_translocations[\"RNASeq_WHSC1_Call\"]"
   ]
  },
  {
   "cell_type": "code",
   "execution_count": 111,
   "metadata": {},
   "outputs": [],
   "source": [
    "mut_occurrence = pd.concat([mean_occurence_muts,mean_occurence_translocations,mean_occurence_cytogenetics])\n",
    "\n",
    "filter_threshold = 0.1\n",
    "filtered_muts = mut_occurrence[mut_occurrence>filter_threshold].index\n",
    "tmp_mut_list = np.hstack(tf_causal_muts)\n",
    "filtered_mut_list = [mut for mut in tmp_mut_list if mut in filtered_muts]\n"
   ]
  },
  {
   "cell_type": "code",
   "execution_count": 147,
   "metadata": {
    "scrolled": false
   },
   "outputs": [
    {
     "data": {
      "image/png": "[encoded data removed]",
      "text/plain": [
       "<Figure size 1152x576 with 1 Axes>"
      ]
     },
     "metadata": {
      "needs_background": "light"
     },
     "output_type": "display_data"
    }
   ],
   "source": [
    "plt.figure(figsize=(16,8))\n",
    "plt.imshow(mut_tf_df.loc[filtered_mut_list,np.hstack(tf_causal_targets)],cmap=\"Blues\",vmax=0.25,aspect=\"auto\")\n",
    "start = 0\n",
    "for i in range(len(tf_causal_targets)):\n",
    "    start+=len(tf_causal_targets[i])\n",
    "    plt.axvline(start-0.5,0,\n",
    "                len(filtered_mut_list),color=\"k\",linestyle=\"--\")\n",
    "plt.grid(False)\n",
    "plt.xticks(np.arange(len(np.hstack(tf_causal_targets))),\n",
    "           labels=np.hstack(tf_causal_targets),rotation=90,fontsize=7)\n",
    "plt.yticks(np.arange(len(filtered_mut_list)),\n",
    "           labels=filtered_mut_list,fontsize=8)\n",
    "plt.ylabel(\"Mutation\")\n",
    "plt.xlabel(\"Transcription factor\")\n",
    "plt.title(\"Similarity of causal impact in transcriptional state 15\")\n",
    "plt.savefig(os.path.join(resultsDirectory,\"mut_tf_causal_similarity_heatmap_filtered_10pct.pdf\"),bbox_inches=\"tight\")\n",
    "plt.show()"
   ]
  },
  {
   "cell_type": "code",
   "execution_count": 104,
   "metadata": {},
   "outputs": [
    {
     "data": {
      "image/png": "[encoded data removed]",
      "text/plain": [
       "<Figure size 864x864 with 2 Axes>"
      ]
     },
     "metadata": {
      "needs_background": "light"
     },
     "output_type": "display_data"
    }
   ],
   "source": [
    "plt.figure(figsize=(12,12))\n",
    "plt.imshow(mut_tf_jaccard.loc[filtered_mut_list,filtered_mut_list],cmap=\"bwr\",vmax=0.25)\n",
    "plt.grid(False)\n",
    "plt.xticks(np.arange(len(filtered_mut_list)),\n",
    "           labels=filtered_mut_list,rotation=90,fontsize=8)\n",
    "plt.yticks(np.arange(len(filtered_mut_list)),\n",
    "           labels=filtered_mut_list,fontsize=8)\n",
    "plt.title(\"Similarity of TF activation\")\n",
    "plt.colorbar(shrink=0.15,label='Jaccard distance',aspect=5,pad=0.025)\n",
    "plt.show()"
   ]
  },
  {
   "cell_type": "code",
   "execution_count": 149,
   "metadata": {},
   "outputs": [
    {
     "data": {
      "text/plain": [
       "RNASeq_CCND1_Call    0.125000\n",
       "RNASeq_CCND2_Call    0.041667\n",
       "RNASeq_CCND3_Call    0.000000\n",
       "RNASeq_FGFR3_Call    0.083333\n",
       "RNASeq_MAFA_Call     0.041667\n",
       "RNASeq_MAFB_Call     0.083333\n",
       "RNASeq_MAF_Call      0.250000\n",
       "RNASeq_MYC_Call      0.166667\n",
       "RNASeq_WHSC1_Call    0.208333\n",
       "dtype: float64"
      ]
     },
     "execution_count": 149,
     "metadata": {},
     "output_type": "execute_result"
    }
   ],
   "source": [
    "translocations.loc[:,states[14]].mean(axis=1)"
   ]
  },
  {
   "cell_type": "code",
   "execution_count": 153,
   "metadata": {},
   "outputs": [
    {
     "data": {
      "text/plain": [
       "KRAS             0.217391\n",
       "NRAS             0.478261\n",
       "TTN              0.304348\n",
       "DIS3             0.086957\n",
       "FAM46C           0.086957\n",
       "MUC16            0.173913\n",
       "TRAF3            0.043478\n",
       "BRAF             0.000000\n",
       "PCLO             0.130435\n",
       "FAT3             0.173913\n",
       "CSMD3            0.086957\n",
       "TP53             0.260870\n",
       "RYR2             0.130435\n",
       "LRP1B            0.086957\n",
       "FAT4             0.043478\n",
       "FAT1             0.043478\n",
       "RYR1             0.043478\n",
       "FLG              0.173913\n",
       "FSIP2            0.086957\n",
       "DNAH5            0.130435\n",
       "USH2A            0.130435\n",
       "EGR1             0.043478\n",
       "DUSP2            0.086957\n",
       "HIST1H1E         0.000000\n",
       "GPR98            0.130435\n",
       "ATM              0.000000\n",
       "ZFHX4            0.130435\n",
       "HMCN1            0.000000\n",
       "SYNE1            0.086957\n",
       "HUWE1            0.043478\n",
       "                   ...   \n",
       "DNAH11           0.000000\n",
       "KDM3B            0.043478\n",
       "MXRA5            0.086957\n",
       "RP11-1055B8.7    0.000000\n",
       "COL12A1          0.000000\n",
       "SHANK1           0.043478\n",
       "XIRP2            0.043478\n",
       "FCGBP            0.043478\n",
       "ROBO1            0.000000\n",
       "PKHD1L1          0.173913\n",
       "ANK2             0.086957\n",
       "FRAS1            0.043478\n",
       "PRUNE2           0.000000\n",
       "SVIL             0.043478\n",
       "CACNA1H          0.000000\n",
       "ASXL3            0.043478\n",
       "TRIO             0.000000\n",
       "COL6A5           0.000000\n",
       "SLIT2            0.000000\n",
       "MYH4             0.130435\n",
       "DMD              0.086957\n",
       "RELN             0.043478\n",
       "DCHS1            0.000000\n",
       "NEB              0.000000\n",
       "PCDH10           0.086957\n",
       "MAGI1            0.000000\n",
       "KIAA1244         0.000000\n",
       "PTPRT            0.086957\n",
       "PCDH7            0.086957\n",
       "BAI3             0.000000\n",
       "Length: 120, dtype: float64"
      ]
     },
     "execution_count": 153,
     "metadata": {},
     "output_type": "execute_result"
    }
   ],
   "source": [
    "common_mutations.loc[:,states[14]].mean(axis=1)"
   ]
  },
  {
   "cell_type": "code",
   "execution_count": null,
   "metadata": {},
   "outputs": [],
   "source": [
    "mut_tf_tf_network_15 = {}\n",
    "\n",
    "for tmp_tf in tf_network.Target.unique():\n",
    "    tmp_df = pd.DataFrame(np.vstack(Counter(all_results[all_results.Regulator==tmp_tf][\"Mutation\"].to_list()\n",
    "                     ).most_common()))\n",
    "    tmp_df.set_index(0,inplace=True)\n",
    "    tmp_df.columns = [tmp_tf]\n",
    "    tmp_df[tmp_tf] = tmp_df[tmp_tf].astype(float)\n",
    "    mut_tf_tf_network_15[tmp_tf] = tmp_df[tmp_tf]/tmp_df.max()[0]\n"
   ]
  },
  {
   "cell_type": "code",
   "execution_count": null,
   "metadata": {},
   "outputs": [],
   "source": []
  },
  {
   "cell_type": "code",
   "execution_count": null,
   "metadata": {},
   "outputs": [],
   "source": [
    "\n",
    "tmp_muts = all_results[all_results.Regulator==tmp_tf][\"Mutation\"].unique()\n",
    "for mut in tmp_muts:\n",
    "    "
   ]
  },
  {
   "cell_type": "code",
   "execution_count": null,
   "metadata": {},
   "outputs": [],
   "source": [
    "tmp_mut = \"AHNAK2\"\n",
    "tf_hits = []\n",
    "for tmp_tf in mut_tf_tf_network_15.keys():\n",
    "    if tmp_mut in mut_tf_tf_network_15[tmp_tf].index:\n",
    "        tf_hits.append(tmp_tf)\n",
    "print(len(tf_hits))\n",
    "tf_hits"
   ]
  },
  {
   "cell_type": "code",
   "execution_count": null,
   "metadata": {},
   "outputs": [],
   "source": [
    "pd.DataFrame(np.vstack(Counter(all_results[all_results.Regulator==\"ETV4\"][\"Mutation\"].to_list()\n",
    "                 ).most_common()))"
   ]
  },
  {
   "cell_type": "code",
   "execution_count": null,
   "metadata": {},
   "outputs": [],
   "source": []
  },
  {
   "cell_type": "code",
   "execution_count": null,
   "metadata": {},
   "outputs": [],
   "source": []
  },
  {
   "cell_type": "code",
   "execution_count": null,
   "metadata": {},
   "outputs": [],
   "source": []
  },
  {
   "cell_type": "code",
   "execution_count": null,
   "metadata": {},
   "outputs": [],
   "source": [
    "common_mut_pats = miner.intersect(common_mutations.columns,states[14])\n",
    "common_muts_15 = common_mutations.loc[:,common_mut_pats].sum(axis=1)/len(common_mut_pats)\n",
    "common_muts_15.sort_values(inplace=True,ascending=False)\n",
    "common_muts_15 = common_muts_15[common_muts_15>0]\n",
    "\n",
    "translocations_pats = miner.intersect(translocations.columns,states[14])\n",
    "translocations_15 = translocations.loc[:,translocations_pats].sum(axis=1)/len(translocations_pats)\n",
    "translocations_15.sort_values(inplace=True,ascending=False)\n",
    "translocations_15 = translocations_15[translocations_15>0]\n",
    "\n",
    "cytogenetics_pats = miner.intersect(cytogenetics.columns,states[14])\n",
    "cytogenetics_15 = cytogenetics.loc[:,cytogenetics_pats].sum(axis=1)/len(cytogenetics_pats)\n",
    "cytogenetics_15.sort_values(inplace=True,ascending=False)\n",
    "cytogenetics_15 = cytogenetics_15[cytogenetics_15>0]\n",
    "\n",
    "\n",
    "mut_occurrence_15 = pd.concat([pd.DataFrame(translocations_15),\n",
    "                               pd.DataFrame(common_muts_15),\n",
    "                               pd.DataFrame(cytogenetics_15)],axis=0)\n",
    "mut_occurrence_15.columns = [\"Frequency\"]\n",
    "mut_occurrence_15.sort_values(by=\"Frequency\",inplace=True,ascending=False)\n",
    "mut_occurrence_15.to_csv(os.path.join(resultsDirectory,\"causal_mutation_frequency_15.csv\"))\n",
    "mut_occurrence_15.head(10)"
   ]
  },
  {
   "cell_type": "code",
   "execution_count": null,
   "metadata": {},
   "outputs": [],
   "source": [
    "#distributions outside of state\n",
    "common_muts_pats = miner.setdiff(common_mutations.columns,states[14])\n",
    "common_muts_15_other = common_mutations.loc[:,common_muts_pats].sum(axis=1)/len(common_muts_pats)\n",
    "common_muts_15_other.sort_values(inplace=True,ascending=False)\n",
    "common_muts_15_other = common_muts_15_other[common_muts_15_other>0]\n",
    "\n",
    "translocations_pats = miner.setdiff(translocations.columns,states[14])\n",
    "translocations_other = translocations.loc[:,translocations_pats].sum(axis=1)/len(translocations_pats)\n",
    "translocations_other.sort_values(inplace=True,ascending=False)\n",
    "translocations_other = translocations_other[translocations_other>0]\n",
    "\n",
    "cytogenetics_pats = miner.setdiff(cytogenetics.columns,states[14])\n",
    "cytogenetics_other = cytogenetics.loc[:,cytogenetics_pats].sum(axis=1)/len(cytogenetics_pats)\n",
    "cytogenetics_other.sort_values(inplace=True,ascending=False)\n",
    "cytogenetics_other = cytogenetics_other[cytogenetics_other>0]\n",
    "\n",
    "\n",
    "mut_occurrence_other = pd.concat([pd.DataFrame(translocations_other),\n",
    "                               pd.DataFrame(common_muts_15_other),\n",
    "                               pd.DataFrame(cytogenetics_other)],axis=0)\n",
    "mut_occurrence_other.columns = [\"Background\"]\n",
    "mut_occurrence_other.sort_values(by=\"Background\",inplace=True,ascending=False)\n",
    "mut_occurrence_other.to_csv(os.path.join(resultsDirectory,\"causal_mutation_frequency_15_other.csv\"))\n",
    "mut_occurrence_other"
   ]
  },
  {
   "cell_type": "code",
   "execution_count": null,
   "metadata": {},
   "outputs": [],
   "source": [
    "order = np.argsort(-1*np.array(mutation_frequency_state_15[\"Frequency\"]-\n",
    "                            mutation_frequency_state_15[\"Background\"]))"
   ]
  },
  {
   "cell_type": "code",
   "execution_count": null,
   "metadata": {},
   "outputs": [],
   "source": [
    "mutation_frequency_state_15 = pd.concat([mut_occurrence_15,mut_occurrence_other.loc[mut_occurrence_15.index,:]],axis=1)\n",
    "order = np.argsort(-1*np.array(mutation_frequency_state_15[\"Frequency\"]-\n",
    "                            mutation_frequency_state_15[\"Background\"]))\n",
    "mutation_frequency_state_15.iloc[order,:]"
   ]
  },
  {
   "cell_type": "code",
   "execution_count": null,
   "metadata": {},
   "outputs": [],
   "source": [
    "from importlib import reload\n",
    "reload(miner)\n",
    "mut_jaccard_all = miner.df_to_jaccard(mutation_matrix)\n",
    "mut_jaccard_15_muts = miner.df_to_jaccard(mutation_matrix.loc[:,miner.intersect(mutation_matrix.columns,states[14])])"
   ]
  },
  {
   "cell_type": "code",
   "execution_count": null,
   "metadata": {},
   "outputs": [],
   "source": [
    "mut_jaccard_15_tmp = mut_jaccard_15_muts.copy()\n",
    "mut_jaccard_15_tmp[mut_jaccard_15_tmp<0.25] = 0\n",
    "\n",
    "clustered_index_muts = miner.unmix(mut_jaccard_15_tmp,iterations=25,returnAll=True)\n",
    "#clustered_index_muts = miner.remix(mut_jaccard_15_tmp,clustered_index)\n",
    "plt.figure(figsize=(16,16))\n",
    "plt.imshow(mut_jaccard_15_muts.loc[np.hstack(clustered_index_muts),np.hstack(clustered_index_muts)],cmap=\"bwr\")\n",
    "plt.grid(False)\n",
    "plt.xticks(np.arange(len(np.hstack(clustered_index_muts))),\n",
    "           labels=np.hstack(clustered_index_muts),rotation=90,fontsize=8)\n",
    "plt.yticks(np.arange(len(np.hstack(clustered_index_muts))),\n",
    "           labels=np.hstack(clustered_index_muts),fontsize=8)\n",
    "plt.title(\"Likelihood of co-occuring mutations\")\n",
    "plt.colorbar(shrink=0.15,label='Jaccard distance',aspect=5,pad=0.025)\n",
    "plt.savefig(os.path.join(resultsDirectory,\"co_occuring_mutation_heatmap.pdf\"),bbox_inches=\"tight\")\n",
    "plt.show()\n"
   ]
  },
  {
   "cell_type": "code",
   "execution_count": null,
   "metadata": {},
   "outputs": [],
   "source": [
    "mean_similarity = []\n",
    "for i in range(len(clustered_index)):\n",
    "    if len(clustered_index[i])<2:\n",
    "        continue\n",
    "    mean_similarity.append(mut_jaccard_15.loc[clustered_index[i],clustered_index[i]].mean().mean())\n",
    "    \n",
    "print(np.mean(mean_similarity))"
   ]
  },
  {
   "cell_type": "code",
   "execution_count": null,
   "metadata": {},
   "outputs": [],
   "source": [
    "mutation_matrix.loc[clustered_index[-5],miner.intersect(mutation_matrix.columns,states[14])].sum(axis=0)"
   ]
  },
  {
   "cell_type": "code",
   "execution_count": null,
   "metadata": {},
   "outputs": [],
   "source": []
  },
  {
   "cell_type": "markdown",
   "metadata": {},
   "source": [
    "## Causal significance testing for translocations"
   ]
  },
  {
   "cell_type": "code",
   "execution_count": null,
   "metadata": {},
   "outputs": [],
   "source": [
    "all_muts = causal_results.Mutation.unique()\n",
    "mut_list = miner.intersect(all_muts,translocations.index)\n",
    "print(len(mut_list),\"mutations\")\n",
    "cutoffs = np.arange(0,0.6,0.1)\n",
    "\n",
    "mut_names = []\n",
    "cutoff_results = []\n",
    "flow_results = []\n",
    "cut_sig_results = []\n",
    "overall_sig_results = []\n",
    "for i in range(len(mut_list)):\n",
    "    mut = mut_list[i]\n",
    "    print(mut)\n",
    "    mut_names.append(mut)\n",
    "    tmp_causal = miner.causal_significance_test(causal_results,translocations.copy(),mut,\n",
    "                             regulonDf,eigengenes,expressionData,network_activity_diff,\n",
    "                             n_iter=10)\n",
    "    \n",
    "    #test significance against thresholds\n",
    "    cuts = []\n",
    "    flows = []\n",
    "    cut_sig = []\n",
    "    overall_sig = []\n",
    "    for cutoff in cutoffs:\n",
    "        tmp_results = tmp_causal[tmp_causal.Fraction_of_aligned_and_diff_exp_edges>cutoff]\n",
    "        if tmp_results.shape[0]>0:\n",
    "            tmp_significant_calls = tmp_results[tmp_results.Fraction_of_aligned_and_diff_exp_edges>tmp_results.upper_95]\n",
    "            tmp_num_flows = tmp_significant_calls.shape[0]\n",
    "            tmp_fraction_significant = tmp_num_flows/float(tmp_causal.shape[0])\n",
    "            tmp_fraction_significant_cutoff = tmp_num_flows/float(tmp_results.shape[0])\n",
    "            #append results\n",
    "            cuts.append(cutoff)\n",
    "            flows.append(tmp_num_flows)\n",
    "            overall_sig.append(tmp_fraction_significant)\n",
    "            cut_sig.append(tmp_fraction_significant_cutoff)\n",
    "        else:\n",
    "            cuts.append(cutoff)\n",
    "            flows.append(0)\n",
    "            overall_sig.append(0)\n",
    "            cut_sig.append(0)\n",
    "            \n",
    "    cutoff_results.append(cuts)\n",
    "    flow_results.append(flows)\n",
    "    cut_sig_results.append(cut_sig)\n",
    "    overall_sig_results.append(overall_sig)\n",
    "\n",
    "    if i%10==0:\n",
    "        flows_df_translocations = pd.DataFrame(np.vstack(flow_results))\n",
    "        flows_df_translocations.index = mut_names\n",
    "        flows_df_translocations.to_csv(os.path.join(resultsDirectory,\"filtered_causal_flows_translocations.csv\"))\n",
    "\n",
    "        cutsig_df_translocations = pd.DataFrame(np.vstack(cut_sig_results))\n",
    "        cutsig_df_translocations.index = mut_names\n",
    "        cutsig_df_translocations.to_csv(os.path.join(resultsDirectory,\"filtered_causal_significance_cutoff_translocations.csv\"))\n",
    "\n",
    "        overallsig_df_translocations = pd.DataFrame(np.vstack(overall_sig_results))\n",
    "        overallsig_df_translocations.index = mut_names\n",
    "        overallsig_df_translocations.to_csv(os.path.join(resultsDirectory,\"filtered_causal_significance_overall_translocations.csv\"))\n",
    "\n",
    "flows_df_translocations = pd.DataFrame(np.vstack(flow_results))\n",
    "flows_df_translocations.index = mut_names\n",
    "flows_df_translocations.to_csv(os.path.join(resultsDirectory,\"filtered_causal_flows_translocations.csv\"))\n",
    "\n",
    "cutsig_df_translocations = pd.DataFrame(np.vstack(cut_sig_results))\n",
    "cutsig_df_translocations.index = mut_names\n",
    "cutsig_df_translocations.to_csv(os.path.join(resultsDirectory,\"filtered_causal_significance_cutoff_translocations.csv\"))\n",
    "\n",
    "overallsig_df_translocations = pd.DataFrame(np.vstack(overall_sig_results))\n",
    "overallsig_df_translocations.index = mut_names\n",
    "overallsig_df_translocations.to_csv(os.path.join(resultsDirectory,\"filtered_causal_significance_overall_translocations.csv\"))"
   ]
  },
  {
   "cell_type": "code",
   "execution_count": null,
   "metadata": {},
   "outputs": [],
   "source": [
    "for mut in overallsig_df_translocations.index:\n",
    "    plt.plot(range(overallsig_df_translocations.shape[1]),overallsig_df_translocations.loc[mut,:])\n",
    "    plt.scatter(range(overallsig_df_translocations.shape[1]),overallsig_df_translocations.loc[mut,:])\n",
    "    \n"
   ]
  },
  {
   "cell_type": "code",
   "execution_count": null,
   "metadata": {},
   "outputs": [],
   "source": [
    "for mut in cutsig_df_translocations.index:\n",
    "    plt.plot(range(cutsig_df_translocations.shape[1]),cutsig_df_translocations.loc[mut,:])\n",
    "    plt.scatter(range(cutsig_df_translocations.shape[1]),cutsig_df_translocations.loc[mut,:])\n",
    "    \n"
   ]
  },
  {
   "cell_type": "code",
   "execution_count": null,
   "metadata": {},
   "outputs": [],
   "source": [
    "for mut in flows_df_translocations.index:\n",
    "    plt.plot(range(flows_df_translocations.shape[1]),flows_df_translocations.loc[mut,:])\n",
    "    plt.scatter(range(flows_df_translocations.shape[1]),flows_df_translocations.loc[mut,:])\n"
   ]
  },
  {
   "cell_type": "code",
   "execution_count": null,
   "metadata": {},
   "outputs": [],
   "source": [
    "#optimized threshold\n",
    "cutoff = 0.2\n",
    "\n",
    "#filter causal flows by optimized threshold\n",
    "t1 = time.time()\n",
    "all_muts = causal_results.Mutation.unique()\n",
    "mut_list = miner.intersect(all_muts,translocations.index)\n",
    "print(len(mut_list),\"mutations\")\n",
    "\n",
    "sig_flow_results_translocations = []\n",
    "for i in range(len(mut_list)):\n",
    "    mut = mut_list[i]\n",
    "    print(mut)\n",
    "    mut_names.append(mut)\n",
    "    tmp_causal = miner.causal_significance_test(causal_results,translocations.copy(),mut,\n",
    "                             regulonDf,eigengenes,expressionData,network_activity_diff,\n",
    "                             n_iter=10)\n",
    "    \n",
    "    #test significance against optimized threshold\n",
    "    tmp_results = tmp_causal[tmp_causal.Fraction_of_aligned_and_diff_exp_edges>cutoff]\n",
    "    if tmp_results.shape[0]>0:\n",
    "        tmp_significant_calls = tmp_results[tmp_results.Fraction_of_aligned_and_diff_exp_edges>tmp_results.upper_95]\n",
    "        #list regulators\n",
    "        regulators = [\n",
    "            regulonDf[regulonDf.Regulon_ID==int(reg)][\"Regulator\"].unique()[0] \n",
    "            for reg in tmp_significant_calls.index\n",
    "        ]\n",
    "        #format significant causal flows\n",
    "        tmp_cm_df = pd.DataFrame(list(zip(\n",
    "            [mut for i in range(tmp_significant_calls.shape[0])],\n",
    "            regulators,\n",
    "            tmp_significant_calls.index)))\n",
    "        tmp_cm_df.columns = [\"Mutation\",\"Regulator\",\"Regulon\"]\n",
    "        \n",
    "        #add dataframe to list for concatenation\n",
    "        sig_flow_results_translocations.append(tmp_cm_df)\n",
    "\n",
    "    if i%10==0:\n",
    "        tmp_results = pd.concat(sig_flow_results_translocations,axis=0)\n",
    "        tmp_results.to_csv(os.path.join(resultsDirectory,\"sig_causal_flows_translocations.csv\"))\n",
    "\n",
    "final_cm_results_translocations = pd.concat(sig_flow_results_translocations,axis=0)\n",
    "final_cm_results_translocations.to_csv(os.path.join(resultsDirectory,\"sig_causal_flows_translocations.csv\"))\n",
    "    \n",
    "t2 = time.time()\n",
    "print((t2-t1)/60.0)"
   ]
  },
  {
   "cell_type": "code",
   "execution_count": null,
   "metadata": {},
   "outputs": [],
   "source": [
    "final_cm_results_translocations.shape"
   ]
  },
  {
   "cell_type": "code",
   "execution_count": null,
   "metadata": {},
   "outputs": [],
   "source": [
    "### save every file while sampling first 20\n",
    "### save only files that pass the cutoff for the rest\n",
    "### concatenate all results at the end"
   ]
  },
  {
   "cell_type": "code",
   "execution_count": null,
   "metadata": {},
   "outputs": [],
   "source": [
    "prdm1_causal = causal_significance_test(causal_results,common_mutations.copy(),\"PRDM1\",\n",
    "                             regulonDf,eigengenes,expressionData,network_activity_diff,\n",
    "                             n_iter=10)"
   ]
  },
  {
   "cell_type": "code",
   "execution_count": null,
   "metadata": {},
   "outputs": [],
   "source": [
    "dis3_causal = causal_significance_test(causal_results,common_mutations.copy(),\"DIS3\",\n",
    "                             regulonDf,eigengenes,expressionData,network_activity_diff,\n",
    "                             n_iter=10)\n"
   ]
  },
  {
   "cell_type": "code",
   "execution_count": null,
   "metadata": {},
   "outputs": [],
   "source": [
    "data_df_prdm1 =  make_data_df(prdm1_causal,cutoffs)\n",
    "data_df_dis3 =  make_data_df(dis3_causal,cutoffs)"
   ]
  },
  {
   "cell_type": "code",
   "execution_count": null,
   "metadata": {},
   "outputs": [],
   "source": [
    "\n",
    "#Plot 3 representative results\n",
    "freq = data_df.groupby(\"cutoff\").mean()[\"flows\"].to_list()\n",
    "number_gp = len(cutoffs)\n",
    "\n",
    "# freq = the percentage for each age group, and there’re 7 age groups.\n",
    "def ax_settings(ax, var_name, x_min, x_max):\n",
    "    ax.set_xlim(x_min,x_max)\n",
    "    ax.set_yticks([])\n",
    "    \n",
    "    ax.spines['left'].set_visible(False)\n",
    "    ax.spines['right'].set_visible(False)\n",
    "    ax.spines['top'].set_visible(False)\n",
    "    \n",
    "    ax.spines['bottom'].set_edgecolor('#444444')\n",
    "    ax.spines['bottom'].set_linewidth(2)\n",
    "    \n",
    "    ax.text(-0.1, 0.05, var_name, fontsize=14, fontweight=\"bold\", transform = ax.transAxes) \n",
    "    return None\n",
    "\n",
    "# Manipulate each axes object in the left. Try to tune some parameters and you'll know how each command works.\n",
    "import matplotlib.gridspec as gridspec\n",
    "import seaborn as sns\n",
    "sns.set(style=\"white\",font_scale=1.4)\n",
    "\n",
    "#instantiate figure\n",
    "fig = plt.figure(figsize=(12,6))\n",
    "gs = gridspec.GridSpec(nrows=number_gp, \n",
    "                       ncols=3, \n",
    "                       figure=fig, \n",
    "                       width_ratios= [1, 1, 1],\n",
    "                       height_ratios= [1]*number_gp,\n",
    "                       wspace=0.2, hspace=0.05\n",
    "                      )\n",
    "#instantiate axes\n",
    "ax = [None]*(number_gp*3)\n",
    "\n",
    "#collect groupby features (i.e., cutoffs)\n",
    "features = data_df.groupby(\"cutoff\").mean()[\"flows\"].index.to_list()\n",
    "\n",
    "# Create the left panel \n",
    "for i in range(number_gp):\n",
    "    ax[i] = fig.add_subplot(gs[i, 0])\n",
    "    \n",
    "    ax_settings(ax[i], str(features[i]), -0.2, 1.2)    \n",
    "    \n",
    "    sns.kdeplot(data=data_df_prdm1[(data_df_prdm1.type == 'Permutation') & (data_df_prdm1.cutoff == features[i])].value, \n",
    "            ax=ax[i], shade=True, color=\"blue\", legend=False)\n",
    "    sns.kdeplot(data=data_df_prdm1[(data_df_prdm1.type == 'Observed') & (data_df_prdm1.cutoff == features[i])].value, \n",
    "            ax=ax[i], shade=True, color=\"red\", legend=False)\n",
    "    \n",
    "    if i < (number_gp - 1): \n",
    "        ax[i].set_xticks([])\n",
    "              \n",
    "#Set legend\n",
    "ax[0].legend(['Perm. 95%', 'PRDM1'], facecolor='w',fontsize=12)\n",
    "ax[number_gp-1].set_xlabel('Causal metric',fontsize=14)\n",
    "\n",
    "# Create the middle panel \n",
    "for i in range(number_gp):\n",
    "    ax[i+number_gp] = fig.add_subplot(gs[i, 1])\n",
    "    \n",
    "    ax_settings(ax[i+number_gp], str(features[i]), -0.2, 1.2)    \n",
    "    \n",
    "    sns.kdeplot(data=data_df_dis3[(data_df_dis3.type == 'Permutation') & (data_df_dis3.cutoff == features[i])].value, \n",
    "            ax=ax[i+number_gp], shade=True, color=\"blue\", legend=False)\n",
    "    sns.kdeplot(data=data_df_dis3[(data_df_dis3.type == 'Observed') & (data_df_dis3.cutoff == features[i])].value, \n",
    "            ax=ax[i+number_gp], shade=True, color=\"red\", legend=False)\n",
    "    \n",
    "    if i < (number_gp - 1): \n",
    "        ax[i+number_gp].set_xticks([])\n",
    "              \n",
    "#Set legend\n",
    "ax[number_gp].legend(['Perm. 95%', 'DIS3'], facecolor='w',fontsize=12)\n",
    "ax[2*number_gp-1].set_xlabel('Causal metric',fontsize=14)\n",
    "\n",
    "# Create the right panel \n",
    "for i in range(number_gp):\n",
    "    ax[i+2*number_gp] = fig.add_subplot(gs[i, 2])\n",
    "    \n",
    "    ax_settings(ax[i+2*number_gp], str(features[i]), -0.2, 1.2)    \n",
    "    \n",
    "    sns.kdeplot(data=data_df[(data_df.type == 'Permutation') & (data_df.cutoff == features[i])].value, \n",
    "            ax=ax[i+2*number_gp], shade=True, color=\"blue\", legend=False)\n",
    "    sns.kdeplot(data=data_df[(data_df.type == 'Observed') & (data_df.cutoff == features[i])].value, \n",
    "            ax=ax[i+2*number_gp], shade=True, color=\"red\", legend=False)\n",
    "    \n",
    "    if i < (number_gp - 1): \n",
    "        ax[i+2*number_gp].set_xticks([])\n",
    "              \n",
    "#Set legend\n",
    "ax[2*number_gp].legend(['Perm. 95%', 't(14;16)'], facecolor='w',fontsize=12)\n",
    "ax[3*number_gp-1].set_xlabel('Causal metric',fontsize=14)\n",
    "\n",
    "plt.savefig(os.path.join(resultsDirectory,\"causal_joyplot.pdf\"),bbox_inches=\"tight\")\n",
    "plt.show()"
   ]
  },
  {
   "cell_type": "code",
   "execution_count": null,
   "metadata": {},
   "outputs": [],
   "source": [
    "len(miner.getMutations(\"KRAS\",common_mutations))"
   ]
  },
  {
   "cell_type": "markdown",
   "metadata": {},
   "source": [
    "## other work"
   ]
  },
  {
   "cell_type": "code",
   "execution_count": null,
   "metadata": {},
   "outputs": [],
   "source": [
    "nsd2 = \"ENSG00000109685\"\n",
    "ccnd1 = \"ENSG00000110092\"\n",
    "myc = \"ENSG00000136997\""
   ]
  },
  {
   "cell_type": "code",
   "execution_count": null,
   "metadata": {},
   "outputs": [],
   "source": [
    "min_state_size = 2\n",
    "bplots = np.array([list(expressionData.loc[nsd2,states[i]]) \n",
    "                   for i in range(len(states)) if len(states[i])>min_state_size],dtype=object)\n",
    "names = [i+1 for i in range(len(states)) if len(states[i])>min_state_size]\n",
    "plt.figure(figsize=(12,3))\n",
    "plt.boxplot(bplots,labels=names)\n",
    "plt.ylabel(\"NSD2 expression\",fontsize=14)\n",
    "plt.xlabel(\"State\",fontsize=14)\n",
    "plt.show()"
   ]
  },
  {
   "cell_type": "code",
   "execution_count": null,
   "metadata": {},
   "outputs": [],
   "source": [
    "min_state_size = 2\n",
    "bplots = np.array([list(expressionData.loc[ccnd1,states[i]]) \n",
    "                   for i in range(len(states)) if len(states[i])>min_state_size],dtype=object)\n",
    "names = [i+1 for i in range(len(states)) if len(states[i])>min_state_size]\n",
    "plt.figure(figsize=(12,3))\n",
    "plt.boxplot(bplots,labels=names)\n",
    "plt.ylabel(\"CCND1 expression\",fontsize=14)\n",
    "plt.xlabel(\"State\",fontsize=14)\n",
    "plt.ylim(-2.5,2.5)\n",
    "plt.show()"
   ]
  },
  {
   "cell_type": "code",
   "execution_count": null,
   "metadata": {},
   "outputs": [],
   "source": [
    "min_state_size = 2\n",
    "bplots = np.array([list(expressionData.loc[myc,states[i]]) \n",
    "                   for i in range(len(states)) if len(states[i])>min_state_size],dtype=object)\n",
    "names = [i+1 for i in range(len(states)) if len(states[i])>min_state_size]\n",
    "plt.figure(figsize=(12,3))\n",
    "plt.boxplot(bplots,labels=names)\n",
    "plt.ylabel(\"MYC expression\",fontsize=14)\n",
    "plt.xlabel(\"State\",fontsize=14)\n",
    "plt.ylim(-4.5,2.5)\n",
    "plt.show()"
   ]
  },
  {
   "cell_type": "code",
   "execution_count": null,
   "metadata": {},
   "outputs": [],
   "source": []
  },
  {
   "cell_type": "code",
   "execution_count": null,
   "metadata": {},
   "outputs": [],
   "source": [
    "# select reference dictionary for downstream analysis (revisedClusters, coexpressionModules, or regulonModules)\n",
    "referenceDictionary = regulonModules\n",
    "# create a background matrix used for statistical hypothesis testing\n",
    "bkgd = miner.backgroundDf(expressionData)\n",
    "# for each cluster, give samples that show high coherent cluster activity\n",
    "overExpressedMembers = miner.biclusterMembershipDictionary(referenceDictionary,bkgd,label=2,p=0.05)\n",
    "# for each clus|ter, give samples that show low coherent cluster activity\n",
    "underExpressedMembers = miner.biclusterMembershipDictionary(referenceDictionary,bkgd,label=0,p=0.05)\n",
    "\n",
    "# write membership matrices to .csv file\n",
    "overExpressedMembersMatrix = miner.membershipToIncidence(overExpressedMembers,expressionData)\n",
    "#overExpressedMembersMatrix.to_csv(os.path.join(resultsDirectory,\"overExpressedMembers.csv\"))\n",
    "underExpressedMembersMatrix = miner.membershipToIncidence(underExpressedMembers,expressionData)\n"
   ]
  },
  {
   "cell_type": "code",
   "execution_count": null,
   "metadata": {},
   "outputs": [],
   "source": [
    "referenceMatrix = eigengenes.copy()\n",
    "primaryMatrix = overExpressedMembersMatrix\n",
    "secondaryMatrix = underExpressedMembersMatrix\n",
    "primaryDictionary = overExpressedMembers\n",
    "secondaryDictionary = underExpressedMembers\n",
    "minClusterSize=5\n",
    "restricted_index=None    \n",
    "    \n",
    "\n",
    "t1 = time.time()\n",
    "\n",
    "print('Beginning subtype inference')\n",
    "if restricted_index is not None:\n",
    "    referenceMatrix = referenceMatrix.loc[restricted_index,:]\n",
    "    primaryMatrix = primaryMatrix.loc[restricted_index,:]\n",
    "    secondaryMatrix = secondaryMatrix.loc[restricted_index,:]\n",
    "\n",
    "# perform initial subtype clustering\n",
    "similarityClusters = miner.f1Decomposition(primaryDictionary,thresholdSFM=0.1)\n",
    "similarityClusters = [list(set(cluster)&set(referenceMatrix.columns)) for cluster in similarityClusters]\n",
    "initialClasses = [i for i in similarityClusters if len(i)>4]\n",
    "if len(initialClasses)==0:\n",
    "    print('No subtypes were detected')\n",
    "\n",
    "# expand initial subtype clusters\n",
    "centroidClusters, centroidMatrix = miner.centroidExpansion(initialClasses,primaryMatrix,f1Threshold = 0.1,returnCentroids=True) #0.3\n",
    "\n",
    "subcentroidClusters = []\n",
    "for c in range(len(centroidClusters)):\n",
    "    tmp_cluster = centroidClusters[c]\n",
    "    if len(tmp_cluster) < 2*minClusterSize:\n",
    "        if len(tmp_cluster)>0:\n",
    "            subcentroidClusters.append(tmp_cluster)\n",
    "        continue\n",
    "\n",
    "    sampleDictionary = {key:list(set(tmp_cluster)&set(secondaryDictionary[key])) for key in secondaryDictionary}\n",
    "    sampleMatrix = secondaryMatrix.loc[:,tmp_cluster]\n",
    "\n",
    "    # perform initial subtype clustering\n",
    "    similarityClusters = miner.f1Decomposition(sampleDictionary,thresholdSFM=0.1)\n",
    "    initialClasses = [i for i in similarityClusters if len(i)>4]\n",
    "    if len(initialClasses)==0:\n",
    "        subcentroidClusters.append(tmp_cluster)\n",
    "        continue\n",
    "\n",
    "    # expand initial subtype clusters\n",
    "    tmp_centroidClusters, tmp_centroidMatrix = miner.centroidExpansion(initialClasses,sampleMatrix,f1Threshold = 0.1,returnCentroids=True) #0.3\n",
    "    tmp_centroidClusters.sort(key=len,reverse=True)\n",
    "\n",
    "    if len(tmp_centroidClusters) <= 1:\n",
    "        subcentroidClusters.append(tmp_cluster)\n",
    "        continue\n",
    "\n",
    "    for cc in range(len(tmp_centroidClusters)):            \n",
    "        new_cluster = tmp_centroidClusters[cc]\n",
    "        if len(new_cluster)==0:\n",
    "            continue\n",
    "        if len(new_cluster) < minClusterSize: \n",
    "            if cc == 0:\n",
    "                other_clusters = []\n",
    "                other_clusters.append(np.hstack(tmp_centroidClusters))\n",
    "                tmp_centroidClusters = other_clusters\n",
    "                break\n",
    "            other_clusters = tmp_centroidClusters[0:cc]\n",
    "            new_centroids = miner.getCentroids(other_clusters,referenceMatrix)\n",
    "            unlabeled = list(set(np.hstack(tmp_centroidClusters))-set(np.hstack(other_clusters)))\n",
    "            for sample in unlabeled:\n",
    "                pearson = miner.pearson_array(np.array(new_centroids).T,np.array(referenceMatrix.loc[:,sample]))\n",
    "                top_hit = np.argsort(pearson)[-1]\n",
    "                other_clusters[top_hit].append(sample)\n",
    "            tmp_centroidClusters = other_clusters\n",
    "            break\n",
    "\n",
    "        elif len(new_cluster) >= minClusterSize:\n",
    "            continue\n",
    "\n",
    "    for ccc in range(len(tmp_centroidClusters)):\n",
    "        if len(tmp_centroidClusters[ccc]) == 0:\n",
    "            continue\n",
    "        subcentroidClusters.append(tmp_centroidClusters[ccc])\n",
    "\n",
    "t2 = time.time()\n",
    "print(\"completed subtype inference in {:.2f} minutes\".format((t2-t1)/60.))\n"
   ]
  },
  {
   "cell_type": "code",
   "execution_count": null,
   "metadata": {},
   "outputs": [],
   "source": []
  },
  {
   "cell_type": "code",
   "execution_count": null,
   "metadata": {},
   "outputs": [],
   "source": [
    "#Append significant mutations to causal states data\n"
   ]
  }
 ],
 "metadata": {
  "kernelspec": {
   "display_name": "Python 3",
   "language": "python",
   "name": "python3"
  },
  "language_info": {
   "codemirror_mode": {
    "name": "ipython",
    "version": 3
   },
   "file_extension": ".py",
   "mimetype": "text/x-python",
   "name": "python",
   "nbconvert_exporter": "python",
   "pygments_lexer": "ipython3",
   "version": "3.7.3"
  }
 },
 "nbformat": 4,
 "nbformat_minor": 2
}
