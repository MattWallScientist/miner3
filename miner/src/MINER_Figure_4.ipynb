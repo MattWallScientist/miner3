{
 "cells": [
  {
   "cell_type": "markdown",
   "metadata": {},
   "source": [
    "## Import libraries"
   ]
  },
  {
   "cell_type": "code",
   "execution_count": 1,
   "metadata": {},
   "outputs": [],
   "source": [
    "import numpy as np\n",
    "import pandas as pd\n",
    "from scipy import stats\n",
    "from numpy import random as rd\n",
    "import os\n",
    "import json\n",
    "from sklearn.decomposition import PCA\n",
    "import multiprocessing, multiprocessing.pool\n",
    "import matplotlib.pyplot as plt\n",
    "import seaborn as sns\n",
    "import time\n",
    "from collections import Counter\n",
    "from sklearn.manifold import TSNE\n",
    "import pickle\n",
    "import numpy as np\n",
    "import pandas as pd\n",
    "from sklearn.model_selection import train_test_split\n",
    "from sklearn.tree import DecisionTreeClassifier\n",
    "from sklearn.ensemble import RandomForestClassifier\n",
    "from sklearn.metrics import accuracy_score\n",
    "from sklearn.metrics import f1_score\n",
    "from sklearn.metrics import roc_auc_score\n",
    "from sklearn import metrics\n",
    "from sklearn import tree\n",
    "import miner_py3 as miner\n",
    "%matplotlib inline\n",
    "plt.style.use('ggplot')"
   ]
  },
  {
   "cell_type": "markdown",
   "metadata": {},
   "source": [
    "## Create directory to save output files"
   ]
  },
  {
   "cell_type": "code",
   "execution_count": 113,
   "metadata": {},
   "outputs": [],
   "source": [
    "# Path to the miner directory\n",
    "input_path = os.path.join(os.path.expanduser('~'),'Desktop','GitHub','miner','miner')\n",
    "\n",
    "# create name for results folder where output files will be saved\n",
    "resultsFolder = \"results_miner3_stabilized\"\n",
    "\n",
    "# name of the folder containing the miner network\n",
    "networkFolder = \"miner_network_results\"\n",
    "#networkFolder = \"results_minCorrelation_0o2_50_allFiles\"\n",
    "\n",
    "# create results directory\n",
    "resultsDirectory = os.path.join(os.path.split(os.getcwd())[0],resultsFolder)\n",
    "if not os.path.isdir(resultsDirectory):\n",
    "    os.mkdir(resultsDirectory)"
   ]
  },
  {
   "cell_type": "markdown",
   "metadata": {},
   "source": [
    "## Load primary data"
   ]
  },
  {
   "cell_type": "code",
   "execution_count": 114,
   "metadata": {},
   "outputs": [],
   "source": [
    "# Load expression Data\n",
    "expressionFile = os.path.join(input_path,\"data\",\"expression\",\"IA12Zscore.csv\")\n",
    "#expressionData = pd.read_csv(expressionFile,index_col=0,header=0)\n",
    "expressionData, conversionTable = miner.preprocess(expressionFile)\n",
    "\n",
    "# Load mutations\n",
    "common_mutations = pd.read_csv(os.path.join(input_path,'data','mutations','commonMutations.csv'),index_col=0,header=0)\n",
    "translocations = pd.read_csv(os.path.join(input_path,'data','mutations','translocationsIA12.csv'),index_col=0,header=0)\n",
    "cytogenetics = pd.read_csv(os.path.join(input_path,'data','mutations','cytogenetics.csv'),index_col=0,header=0)\n",
    "cytogenetics = cytogenetics.loc[:,list(set(cytogenetics.columns)&set(expressionData.columns))]\n",
    "common_patients_mutations_translocations = list(set(translocations.columns)&set(common_mutations.columns))\n",
    "mutation_matrix = pd.concat([common_mutations.loc[:,common_patients_mutations_translocations],translocations.loc[:,common_patients_mutations_translocations]],axis=0)\n",
    "\n",
    "#If previous results exist, use miner.read_json to load them\n",
    "revisedClusters = miner.read_json(os.path.join(input_path,networkFolder,\"coexpressionDictionary.json\"))\n",
    "coexpressionModules = miner.read_json(os.path.join(input_path,networkFolder,\"coexpressionModules.json\"))\n",
    "regulonModules = miner.read_json(os.path.join(input_path,networkFolder,\"regulons.json\"))\n",
    "mechanisticOutput = miner.read_json(os.path.join(input_path,networkFolder,\"mechanisticOutput.json\"))\n",
    "regulonDf = pd.read_csv(os.path.join(input_path,networkFolder,\"regulonDf.csv\"),index_col=0,header=0)\n",
    "overExpressedMembersMatrix = pd.read_csv(os.path.join(input_path,networkFolder,\"overExpressedMembers.csv\"),index_col=0,header=0)\n",
    "overExpressedMembersMatrix.index = np.array(overExpressedMembersMatrix.index).astype(str)\n",
    "underExpressedMembersMatrix = pd.read_csv(os.path.join(input_path,networkFolder,\"underExpressedMembers.csv\"),index_col=0,header=0)\n",
    "underExpressedMembersMatrix.index = np.array(underExpressedMembersMatrix.index).astype(str)\n",
    "eigengenes = pd.read_csv(os.path.join(input_path,networkFolder,\"eigengenes.csv\"),index_col=0,header=0)\n",
    "eigengenes.index = np.array(underExpressedMembersMatrix.index).astype(str)"
   ]
  },
  {
   "cell_type": "markdown",
   "metadata": {},
   "source": [
    "## Load network"
   ]
  },
  {
   "cell_type": "code",
   "execution_count": 115,
   "metadata": {},
   "outputs": [],
   "source": [
    "# Load Causal Mechanistic Network\n",
    "filtered_causal_results = pd.read_csv(os.path.join(input_path,networkFolder,\"filteredCausalResults.csv\"),index_col=0,header=0)"
   ]
  },
  {
   "cell_type": "code",
   "execution_count": 116,
   "metadata": {},
   "outputs": [],
   "source": [
    "# Load transcriptional programs\n",
    "transcriptional_programs = miner.read_json(os.path.join(input_path,networkFolder,'transcriptional_programs.json'))\n",
    "program_list = [transcriptional_programs[str(key)] for key in range(len(transcriptional_programs.keys()))]"
   ]
  },
  {
   "cell_type": "code",
   "execution_count": 117,
   "metadata": {},
   "outputs": [],
   "source": [
    "# Load transcriptional states\n",
    "transcriptional_states = miner.read_json(os.path.join(input_path,networkFolder,'transcriptional_states.json'))\n",
    "states_list = [transcriptional_states[str(key)] for key in range(len(transcriptional_states.keys()))]\n",
    "final_state = list(set(expressionData.columns)-set(np.hstack(states_list)))\n",
    "states_list.append(final_state)\n",
    "states = states_list.copy()\n",
    "diff_matrix_MMRF = overExpressedMembersMatrix-underExpressedMembersMatrix"
   ]
  },
  {
   "cell_type": "markdown",
   "metadata": {},
   "source": [
    "## Load primary survival data"
   ]
  },
  {
   "cell_type": "code",
   "execution_count": 118,
   "metadata": {},
   "outputs": [],
   "source": [
    "# load primary survival data (i.e., corresponding to expression data training set)\n",
    "survivalMMRF = pd.read_csv(os.path.join(input_path,\"data\",\"survival\",\"survivalIA12.csv\"),index_col=0,header=0)\n",
    "survivalDfMMRF = survivalMMRF.iloc[:,0:2]\n",
    "survivalDfMMRF.columns = [\"duration\",\"observed\"]\n",
    "overExpressedMembersMatrixMMRF = overExpressedMembersMatrix\n",
    "kmDfMMRF = miner.kmAnalysis(survivalDf=survivalDfMMRF,durationCol=\"duration\",statusCol=\"observed\")\n",
    "guanSurvivalDfMMRF= miner.guanRank(kmSurvival=kmDfMMRF)"
   ]
  },
  {
   "cell_type": "markdown",
   "metadata": {},
   "source": [
    "## Define patient populations"
   ]
  },
  {
   "cell_type": "code",
   "execution_count": 119,
   "metadata": {},
   "outputs": [
    {
     "name": "stdout",
     "output_type": "stream",
     "text": [
      "Baseline: 779 First relapse: 56 \n",
      "Any relapse: 102\n"
     ]
    }
   ],
   "source": [
    "baseline_patients = [name for name in expressionData.columns if name.split(\"_\")[2]=='1']\n",
    "relapse_patients = [name for name in expressionData.columns if name.split(\"_\")[2]=='2']\n",
    "all_relapse_patients = [name for name in expressionData.columns if name.split(\"_\")[2]!='1']\n",
    "print('Baseline:',len(baseline_patients),'First relapse:',len(relapse_patients),'\\nAny relapse:',len(all_relapse_patients))"
   ]
  },
  {
   "cell_type": "code",
   "execution_count": 120,
   "metadata": {},
   "outputs": [],
   "source": [
    "import importlib\n",
    "importlib.reload(miner)\n",
    "subtypes_translocations = [\n",
    "    \"RNASeq_CCND1_Call\",\n",
    "    \"RNASeq_WHSC1_Call\",\n",
    "    \"RNASeq_MAF_Call\",\n",
    "    \"RNASeq_MYC_Call\"\n",
    "]\n",
    "\n",
    "subtypes_cytogenetics = [\n",
    "    \"del17\",\n",
    "    \"amp1q\"\n",
    "]\n",
    "\n",
    "patients_by_subtype = []\n",
    "for subtype in subtypes_cytogenetics:\n",
    "    subtype_patients = miner.getMutations(subtype,cytogenetics)\n",
    "    subtype_patients = [name for name in guanSurvivalDfMMRF.index if name in subtype_patients]\n",
    "    subtype_patients.reverse()\n",
    "    patients_by_subtype.append(subtype_patients)\n",
    "\n",
    "for subtype in subtypes_translocations:\n",
    "    subtype_patients = miner.getMutations(subtype,translocations)\n",
    "    subtype_patients = [name for name in guanSurvivalDfMMRF.index if name in subtype_patients]\n",
    "    subtype_patients.reverse()\n",
    "    patients_by_subtype.append(subtype_patients)\n",
    "    \n",
    "remainder = [name for name in guanSurvivalDfMMRF.index if name not in np.hstack(patients_by_subtype)]\n",
    "remainder.reverse()\n",
    "\n",
    "sorted_by_subtype = np.hstack([remainder,np.hstack(patients_by_subtype),relapse_patients])"
   ]
  },
  {
   "cell_type": "markdown",
   "metadata": {},
   "source": [
    "## Infer nework-constrained gene activity"
   ]
  },
  {
   "cell_type": "code",
   "execution_count": 121,
   "metadata": {
    "scrolled": false
   },
   "outputs": [
    {
     "name": "stdout",
     "output_type": "stream",
     "text": [
      "completed transformation in 0.49 minutes\n",
      "completed transformation in 0.53 minutes\n",
      "completed transformation in 0.47 minutes\n"
     ]
    }
   ],
   "source": [
    "network_activity_overexpressed = miner.networkActivity(regulon_matrix=regulonDf.copy(),\n",
    "                                                 reference_matrix=overExpressedMembersMatrix.copy(),\n",
    "                                                 minRegulons = 2)\n",
    "network_activity_underexpressed = miner.networkActivity(regulon_matrix=regulonDf.copy(),\n",
    "                                                 reference_matrix=underExpressedMembersMatrix.copy(),\n",
    "                                                 minRegulons = 2)\n",
    "network_activity_diff = miner.networkActivity(regulon_matrix=regulonDf.copy(),\n",
    "                                                 reference_matrix=diff_matrix_MMRF.copy(),\n",
    "                                                 minRegulons = 2)"
   ]
  },
  {
   "cell_type": "markdown",
   "metadata": {},
   "source": [
    "## Load genes of interest"
   ]
  },
  {
   "cell_type": "code",
   "execution_count": 122,
   "metadata": {},
   "outputs": [],
   "source": [
    "arid1a = \"ENSG00000117713\"\n",
    "myc = \"ENSG00000136997\"\n",
    "nfkb1 = \"ENSG00000109320\"\n",
    "cflar = \"ENSG00000003402\"\n",
    "tnfsf9 = \"ENSG00000125657\"\n",
    "birc2 = \"ENSG00000110330\"\n",
    "birc3 = \"ENSG00000023445\"\n",
    "kif11 = \"ENSG00000138160\"\n",
    "\n",
    "ilkap = \"ENSG00000132323\"\n",
    "bmp2k = \"ENSG00000138756\"\n",
    "dedd2 = \"ENSG00000160570\"\n",
    "bbc3 = \"ENSG00000105327\"\n",
    "apobec3g = \"ENSG00000239713\"\n",
    "braf = \"ENSG00000157764\"\n",
    "adam17 = \"ENSG00000151694\"\n",
    "ddb1 = \"ENSG00000167986\"\n",
    "btla = \"ENSG00000186265\"\n",
    "bcl2 = \"ENSG00000171791\"\n",
    "bax = \"ENSG00000087088\"\n",
    "bbc3 = \"ENSG00000105327\"\n",
    "mcl1 = \"ENSG00000143384\"\n",
    "bcl2a1 = \"ENSG00000140379\"\n",
    "nr3c1 = \"ENSG00000113580\"\n",
    "aurka = \"ENSG00000087586\"\n",
    "aurkb = \"ENSG00000178999\"\n",
    "il6r = \"ENSG00000160712\"\n",
    "aph1a = \"ENSG00000117362\"\n",
    "ago1 = \"ENSG00000092847\"\n",
    "\n",
    "ccnd1 = \"ENSG00000110092\"\n",
    "ccnd2 = \"ENSG00000118971\"\n",
    "ccndbp = \"ENSG00000166946\"\n",
    "parp1 = \"ENSG00000143799\"\n",
    "parpbp = \"ENSG00000185480\"\n",
    "cdk4 = \"ENSG00000135446\"\n",
    "brca1 = \"ENSG00000012048\"\n",
    "rad51 = \"ENSG00000051180\"\n",
    "phf19 = \"ENSG00000119403\"\n",
    "her2 = \"ENSG00000141736\"\n",
    "egfr = \"ENSG00000146648\"\n",
    "fgfr3 = \"ENSG00000068078\"\n",
    "mdm2 = \"ENSG00000135679\"\n",
    "xpo1 = \"ENSG00000082898\"\n",
    "hras = \"ENSG00000174775\"\n",
    "nras = \"ENSG00000213281\"\n",
    "kras = \"ENSG00000133703\"\n",
    "\n",
    "lsm1 = \"ENSG00000175324\"\n",
    "tcf3 = \"ENSG00000071564\"\n",
    "psmb5 = \"ENSG00000100804\"\n",
    "psma3 = \"ENSG00000100567\"\n",
    "maf = \"ENSG00000178573\"\n",
    "nsd2 = \"ENSG00000109685\"\n",
    "tp53 = \"ENSG00000141510\"\n",
    "mdm2 = \"ENSG00000135679\"\n",
    "e2f1 = \"ENSG00000101412\"\n",
    "rb1 = \"ENSG00000139687\"\n",
    "foxm1 = \"ENSG00000111206\"\n",
    "\n",
    "hdac1 = \"ENSG00000116478\"\n",
    "hdac2 = \"ENSG00000196591\"\n",
    "hdac6 = \"ENSG00000094631\"\n",
    "hdac7 = \"ENSG00000061273\"\n",
    "hdac9 = \"ENSG00000048052\"\n",
    "\n",
    "crbn = \"ENSG00000113851\"\n",
    "ikzf1 = \"ENSG00000185811\"\n",
    "ikzf3 = \"ENSG00000161405\"\n",
    "\n",
    "\n",
    "PSMA2 = \"ENSG00000106588\"\n",
    "PSMA3 = \"ENSG00000100567\"\n",
    "PSMB5 = \"ENSG00000100804\"\n",
    "PSMB7 = \"ENSG00000136930\"\n",
    "PSMC1 = \"ENSG00000100764\"\n",
    "PSMC5 = \"ENSG00000087191\"\n",
    "PSMC6 = \"ENSG00000100519\"\n",
    "PSMC3IP = \"ENSG00000131470\"\n",
    "PSMD1 = \"ENSG00000173692\"\n",
    "PSMD3 = \"ENSG00000108344\"\n",
    "PSMD4 = \"ENSG00000159352\"\n",
    "PSMD5 = \"ENSG00000095261\"\n",
    "PSMD7 = \"ENSG00000103035\"\n",
    "PSMD8 = \"ENSG00000099341\"\n",
    "PSMD12 = \"ENSG00000197170\"\n",
    "PSME4 = \"ENSG00000068878\"\n",
    "PSMG4 = \"ENSG00000180822\"\n",
    "\n",
    "ctla = \"ENSG00000163599\"\n",
    "cd47 = \"ENSG00000196776\"\n",
    "il1b = \"ENSG00000125538\"\n",
    "abcc5 = \"ENSG00000114770\"\n",
    "il18 = \"ENSG00000150782\"\n",
    "micb = \"ENSG00000204516\"\n",
    "adamst10 = \"ENSG00000142303\"\n",
    "\n",
    "romo1 = \"ENSG00000125995\"\n",
    "cks1b = \"ENSG00000173207\"\n",
    "actn4 = \"ENSG00000130402\"\n",
    "ranbp1 = \"ENSG00000099901\"\n",
    "\n",
    "fgfr3 = \"ENSG00000068078\"\n",
    "gsk3b = \"ENSG00000082701\"\n",
    "creb1 = \"ENSG00000118260\"\n",
    "bad = \"ENSG00000002330\"\n",
    "dapk1 = \"ENSG00000196730\"\n",
    "usp7 = \"ENSG00000187555\"\n",
    "usp14 = \"ENSG00000101557\"\n",
    "brd4 = \"ENSG00000141867\"\n",
    "iap1 = \"ENSG00000110330\"\n",
    "iap2 = \"ENSG00000023445\"\n",
    "xiap = \"ENSG00000101966\"\n",
    "\n",
    "mek = \"ENSG00000169032\"\n",
    "akt1 = \"ENSG00000142208\"\n",
    "pik3ca = \"ENSG00000121879\"\n",
    "mtor = \"ENSG00000198793\"\n",
    "cdk6 = \"ENSG00000105810\"\n",
    "btk = \"ENSG00000010671\"\n",
    "bcl6 = \"ENSG00000113916\"\n",
    "rps6ka1 = \"ENSG00000281877\"\n",
    "notch1 = \"ENSG00000148400\"\n",
    "\n",
    "nlrp3 = \"ENSG00000162711\"\n",
    "nek7 = \"ENSG00000151414\"\n",
    "casp9 = \"ENSG00000132906\"\n",
    "nlrp1 = \"ENSG00000091592\"\n",
    "nlrp2 = \"ENSG00000022556\"\n",
    "mical1 = \"ENSG00000135596\"\n",
    "fgr = \"ENSG00000000938\"\n",
    "il1r1 = \"ENSG00000115594\"\n",
    "il1r2 = \"ENSG00000115590\"\n",
    "s100a8 = \"ENSG00000143546\"\n",
    "s100a9 = \"ENSG00000163220\"\n",
    "il18rap = \"ENSG00000115607\"\n",
    "hdac4 = \"ENSG00000068024\"\n",
    "csf1 = \"ENSG00000184371\"\n",
    "csf3r = \"ENSG00000119535\"\n",
    "irak3 = \"ENSG00000090376\"\n",
    "mmp9 = \"ENSG00000100985\"\n",
    "fap = \"ENSG00000078098\"\n",
    "tsen15 = \"ENSG00000198860\"\n",
    "dis3 = \"ENSG00000083520\"\n",
    "anp32e = \"ENSG00000143401\"\n",
    "usp1 = \"ENSG00000162607\"\n",
    "bub1 = \"ENSG00000169679\"\n",
    "\n",
    "lair1 = \"ENSG00000278154\"\n",
    "lcp1 = \"ENSG00000136167\"\n",
    "cflip = \"ENSG00000003402\" #cflar\n",
    "bid = \"ENSG00000015475\"\n",
    "bax = \"ENSG00000087088\"\n",
    "bclxl = \"ENSG00000171552\" #bcl2l1\n",
    "diablo = \"ENSG00000184047\" #smac\n",
    "casp3 = \"ENSG00000164305\"\n",
    "casp8 = \"ENSG00000064012\"\n",
    "fadd = \"ENSG00000168040\"\n",
    "tradd = \"ENSG00000102871\"\n",
    "tnfr1 = \"ENSG00000067182\"\n",
    "tnfr2 = \"ENSG00000028137\"\n",
    "tnf = \"ENSG00000232810\"\n",
    "\n",
    "nasp = \"ENSG00000132780\"\n",
    "dnajc9 = \"ENSG00000213551\"\n",
    "atf6 = \"ENSG00000118217\"\n",
    "anpep = \"ENSG00000166825\"\n",
    "\n",
    "puma = \"ENSG00000105327\"\n",
    "bim = \"ENSG00000153094\"\n",
    "noxa = \"ENSG00000141682\"\n",
    "bak = \"ENSG00000030110\"\n",
    "bcl2a1 = \"ENSG00000140379\"\n",
    "bcl2 = \"ENSG00000171791\"\n",
    "mcl1 = \"ENSG00000143384\"\n",
    "\n",
    "\n",
    "baseline_targets = [\n",
    "    crbn,\n",
    "    ikzf1,\n",
    "    ikzf3,\n",
    "    nr3c1,\n",
    "    psmb5\n",
    "]\n",
    "\n",
    "pipeline_targets = [\n",
    "    hdac6,\n",
    "    aph1a,\n",
    "    parp1,\n",
    "    kif11,\n",
    "    gsk3b,\n",
    "    aurka,\n",
    "    aurkb,\n",
    "    hdac2,\n",
    "    anpep,\n",
    "]\n",
    "\n",
    "novel_targets = [\n",
    "    ranbp1,\n",
    "    parpbp,\n",
    "    ago1,\n",
    "    atf6,\n",
    "    tsen15,\n",
    "    nek7,\n",
    "    birc3,\n",
    "    lair1,\n",
    "    lcp1,\n",
    "    dnajc9,\n",
    "    nasp,\n",
    "    romo1,\n",
    "    lsm1,\n",
    "    bcl6\n",
    "]\n",
    "\n",
    "anti_apoptotic_genes = [\n",
    "    bcl2,\n",
    "    mcl1,\n",
    "    bcl2a1\n",
    "]\n",
    "\n",
    "pro_apoptotic_genes = [\n",
    "    puma,\n",
    "    bim,\n",
    "    noxa,\n",
    "    bak\n",
    "]\n",
    "\n",
    "apoptosis_genes = np.concatenate([pro_apoptotic_genes,anti_apoptotic_genes])\n"
   ]
  },
  {
   "cell_type": "markdown",
   "metadata": {},
   "source": [
    "## Baseline targets"
   ]
  },
  {
   "cell_type": "code",
   "execution_count": 123,
   "metadata": {},
   "outputs": [],
   "source": [
    "features = baseline_targets\n",
    "data_df = network_activity_overexpressed.copy()\n",
    "sort_df = guanSurvivalDfMMRF.copy()\n",
    "sort_column = \"GuanScore\"\n",
    "breaks = 10\n",
    "\n",
    "subtype = \"del17\"\n",
    "samples = miner.getMutations(subtype,cytogenetics) \n",
    "del17_subsets = miner.sortedHeatmap(features,samples,data_df,sort_df,sort_column,num_breaks=breaks)\n",
    "\n",
    "subtype = \"amp1q\"\n",
    "samples = miner.getMutations(subtype,cytogenetics) \n",
    "amp1q_subsets = miner.sortedHeatmap(features,samples,data_df,sort_df,sort_column,num_breaks=breaks)\n",
    "\n",
    "subtype = \"RNASeq_CCND1_Call\"\n",
    "samples = miner.getMutations(subtype,translocations) \n",
    "ccnd1_subsets = miner.sortedHeatmap(features,samples,data_df,sort_df,sort_column,num_breaks=breaks)\n",
    "\n",
    "subtype = \"RNASeq_WHSC1_Call\"\n",
    "samples = miner.getMutations(subtype,translocations) \n",
    "nsd2_subsets = miner.sortedHeatmap(features,samples,data_df,sort_df,sort_column,num_breaks=breaks)\n",
    "\n",
    "subtype = \"RNASeq_MAF_Call\"\n",
    "samples = miner.getMutations(subtype,translocations) \n",
    "maf_subsets = miner.sortedHeatmap(features,samples,data_df,sort_df,sort_column,num_breaks=breaks)\n",
    "\n",
    "subtype = \"RNASeq_MYC_Call\"\n",
    "samples = miner.getMutations(subtype,translocations) \n",
    "myc_subsets = miner.sortedHeatmap(features,samples,data_df,sort_df,sort_column,num_breaks=breaks)\n",
    "\n",
    "samples = remainder \n",
    "remainder_subsets = miner.sortedHeatmap(features,samples,data_df,sort_df,sort_column,num_breaks=breaks)\n",
    "\n",
    "samples = relapse_patients \n",
    "relapse_subsets = miner.sortedHeatmap(features,samples,data_df,sort_df,sort_column,num_breaks=breaks,override=True)\n",
    "\n",
    "heatmap_list = [remainder_subsets,\n",
    "                del17_subsets,\n",
    "                amp1q_subsets,\n",
    "                ccnd1_subsets,\n",
    "                nsd2_subsets,\n",
    "                maf_subsets,\n",
    "                myc_subsets,\n",
    "                relapse_subsets\n",
    "               ]\n",
    "\n",
    "\n",
    "stitched_map = miner.stitchHeatmaps(heatmap_list,plot=False)\n"
   ]
  },
  {
   "cell_type": "code",
   "execution_count": 124,
   "metadata": {},
   "outputs": [
    {
     "name": "stdout",
     "output_type": "stream",
     "text": [
      "querying 1-5...done.\n",
      "Finished.\n"
     ]
    },
    {
     "data": {
      "image/png": "[encoded data removed]",
      "text/plain": [
       "<Figure size 1152x180 with 2 Axes>"
      ]
     },
     "metadata": {
      "needs_background": "light"
     },
     "output_type": "display_data"
    }
   ],
   "source": [
    "plt.figure(figsize=(16,2.5))\n",
    "automatic_labels = miner.gene_conversion(stitched_map.index,list_symbols=True)\n",
    "ax = sns.heatmap(stitched_map,cmap = \"Blues\",square=False,\n",
    "            yticklabels=automatic_labels, xticklabels=\"\",vmin=0,vmax=1)\n",
    "ax.tick_params(axis='both', which='both', length=0)\n",
    "\n",
    "#plt.savefig(os.path.join(resultsDirectory,\"Baseline_targets_heatmap.pdf\"),bbox_inches=\"tight\")"
   ]
  },
  {
   "cell_type": "markdown",
   "metadata": {},
   "source": [
    "## Pipeline targets"
   ]
  },
  {
   "cell_type": "code",
   "execution_count": 125,
   "metadata": {},
   "outputs": [],
   "source": [
    "features = pipeline_targets\n",
    "data_df = network_activity_overexpressed.copy()\n",
    "sort_df = guanSurvivalDfMMRF.copy()\n",
    "sort_column = \"GuanScore\"\n",
    "breaks = 10\n",
    "\n",
    "subtype = \"del17\"\n",
    "samples = miner.getMutations(subtype,cytogenetics) \n",
    "del17_subsets = miner.sortedHeatmap(features,samples,data_df,sort_df,sort_column,num_breaks=breaks)\n",
    "\n",
    "subtype = \"amp1q\"\n",
    "samples = miner.getMutations(subtype,cytogenetics) \n",
    "amp1q_subsets = miner.sortedHeatmap(features,samples,data_df,sort_df,sort_column,num_breaks=breaks)\n",
    "\n",
    "subtype = \"RNASeq_CCND1_Call\"\n",
    "samples = miner.getMutations(subtype,translocations) \n",
    "ccnd1_subsets = miner.sortedHeatmap(features,samples,data_df,sort_df,sort_column,num_breaks=breaks)\n",
    "\n",
    "subtype = \"RNASeq_WHSC1_Call\"\n",
    "samples = miner.getMutations(subtype,translocations) \n",
    "nsd2_subsets = miner.sortedHeatmap(features,samples,data_df,sort_df,sort_column,num_breaks=breaks)\n",
    "\n",
    "subtype = \"RNASeq_MAF_Call\"\n",
    "samples = miner.getMutations(subtype,translocations) \n",
    "maf_subsets = miner.sortedHeatmap(features,samples,data_df,sort_df,sort_column,num_breaks=breaks)\n",
    "\n",
    "subtype = \"RNASeq_MYC_Call\"\n",
    "samples = miner.getMutations(subtype,translocations) \n",
    "myc_subsets = miner.sortedHeatmap(features,samples,data_df,sort_df,sort_column,num_breaks=breaks)\n",
    "\n",
    "samples = remainder \n",
    "remainder_subsets = miner.sortedHeatmap(features,samples,data_df,sort_df,sort_column,num_breaks=breaks)\n",
    "\n",
    "samples = relapse_patients \n",
    "relapse_subsets = miner.sortedHeatmap(features,samples,data_df,sort_df,sort_column,num_breaks=breaks,override=True)\n",
    "\n",
    "heatmap_list = [remainder_subsets,\n",
    "                del17_subsets,\n",
    "                amp1q_subsets,\n",
    "                ccnd1_subsets,\n",
    "                nsd2_subsets,\n",
    "                maf_subsets,\n",
    "                myc_subsets,\n",
    "                relapse_subsets\n",
    "               ]\n",
    "\n",
    "\n",
    "stitched_map = miner.stitchHeatmaps(heatmap_list,plot=False)\n"
   ]
  },
  {
   "cell_type": "code",
   "execution_count": 126,
   "metadata": {
    "scrolled": true
   },
   "outputs": [
    {
     "name": "stdout",
     "output_type": "stream",
     "text": [
      "querying 1-9...done.\n",
      "Finished.\n"
     ]
    },
    {
     "data": {
      "image/png": "[encoded data removed]",
      "text/plain": [
       "<Figure size 1152x180 with 2 Axes>"
      ]
     },
     "metadata": {
      "needs_background": "light"
     },
     "output_type": "display_data"
    }
   ],
   "source": [
    "plt.figure(figsize=(16,2.5))\n",
    "automatic_labels = miner.gene_conversion(stitched_map.index,list_symbols=True)\n",
    "ax = sns.heatmap(stitched_map,cmap = \"Purples\",square=False,\n",
    "            yticklabels=automatic_labels, xticklabels=\"\",vmin=0,vmax=1)\n",
    "ax.tick_params(axis='both', which='both', length=0)\n",
    "\n",
    "#plt.savefig(os.path.join(resultsDirectory,\"Pipeline_targets_heatmap.pdf\"),bbox_inches=\"tight\")"
   ]
  },
  {
   "cell_type": "markdown",
   "metadata": {},
   "source": [
    "## Novel targets"
   ]
  },
  {
   "cell_type": "code",
   "execution_count": 134,
   "metadata": {},
   "outputs": [],
   "source": [
    "features = novel_targets\n",
    "data_df = network_activity_overexpressed.copy()\n",
    "sort_df = guanSurvivalDfMMRF.copy()\n",
    "sort_column = \"GuanScore\"\n",
    "breaks = 10\n",
    "\n",
    "subtype = \"del17\"\n",
    "samples = miner.getMutations(subtype,cytogenetics) \n",
    "del17_subsets = miner.sortedHeatmap(features,samples,data_df,sort_df,sort_column,num_breaks=breaks)\n",
    "\n",
    "subtype = \"amp1q\"\n",
    "samples = miner.getMutations(subtype,cytogenetics) \n",
    "amp1q_subsets = miner.sortedHeatmap(features,samples,data_df,sort_df,sort_column,num_breaks=breaks)\n",
    "\n",
    "subtype = \"RNASeq_CCND1_Call\"\n",
    "samples = miner.getMutations(subtype,translocations) \n",
    "ccnd1_subsets = miner.sortedHeatmap(features,samples,data_df,sort_df,sort_column,num_breaks=breaks)\n",
    "\n",
    "subtype = \"RNASeq_WHSC1_Call\"\n",
    "samples = miner.getMutations(subtype,translocations) \n",
    "nsd2_subsets = miner.sortedHeatmap(features,samples,data_df,sort_df,sort_column,num_breaks=breaks)\n",
    "\n",
    "subtype = \"RNASeq_MAF_Call\"\n",
    "samples = miner.getMutations(subtype,translocations) \n",
    "maf_subsets = miner.sortedHeatmap(features,samples,data_df,sort_df,sort_column,num_breaks=breaks)\n",
    "\n",
    "subtype = \"RNASeq_MYC_Call\"\n",
    "samples = miner.getMutations(subtype,translocations) \n",
    "myc_subsets = miner.sortedHeatmap(features,samples,data_df,sort_df,sort_column,num_breaks=breaks)\n",
    "\n",
    "samples = remainder \n",
    "remainder_subsets = miner.sortedHeatmap(features,samples,data_df,sort_df,sort_column,num_breaks=breaks)\n",
    "\n",
    "samples = relapse_patients \n",
    "relapse_subsets = miner.sortedHeatmap(features,samples,data_df,sort_df,sort_column,num_breaks=breaks,override=True)\n",
    "\n",
    "heatmap_list = [remainder_subsets,\n",
    "                del17_subsets,\n",
    "                amp1q_subsets,\n",
    "                ccnd1_subsets,\n",
    "                nsd2_subsets,\n",
    "                maf_subsets,\n",
    "                myc_subsets,\n",
    "                relapse_subsets\n",
    "               ]\n",
    "\n",
    "\n",
    "stitched_map = miner.stitchHeatmaps(heatmap_list,plot=False)\n"
   ]
  },
  {
   "cell_type": "code",
   "execution_count": 135,
   "metadata": {},
   "outputs": [
    {
     "name": "stdout",
     "output_type": "stream",
     "text": [
      "querying 1-14...done.\n",
      "Finished.\n"
     ]
    },
    {
     "data": {
      "image/png": "[encoded data removed]",
      "text/plain": [
       "<Figure size 1152x180 with 2 Axes>"
      ]
     },
     "metadata": {
      "needs_background": "light"
     },
     "output_type": "display_data"
    }
   ],
   "source": [
    "plt.figure(figsize=(16,2.5))\n",
    "automatic_labels = miner.gene_conversion(stitched_map.index,list_symbols=True)\n",
    "ax = sns.heatmap(stitched_map,cmap = \"Oranges\",square=False,\n",
    "                 yticklabels=automatic_labels, xticklabels=\"\",vmin=0,vmax=1)\n",
    "ax.tick_params(axis='both', which='both', length=0)\n",
    "\n",
    "#plt.savefig(os.path.join(resultsDirectory,\"Novel_targets_heatmap.pdf\"),bbox_inches=\"tight\")"
   ]
  },
  {
   "cell_type": "markdown",
   "metadata": {},
   "source": [
    "## Apoptosis targets (BCL2 inhibitors)"
   ]
  },
  {
   "cell_type": "code",
   "execution_count": 129,
   "metadata": {},
   "outputs": [],
   "source": [
    "features = apoptosis_genes\n",
    "data_df = network_activity_overexpressed.copy()\n",
    "sort_df = guanSurvivalDfMMRF.copy()\n",
    "sort_column = \"GuanScore\"\n",
    "breaks = 10\n",
    "\n",
    "subtype = \"del17\"\n",
    "del17_mut = miner.getMutations(subtype,cytogenetics) \n",
    "del17_subsets = miner.sortedHeatmap(features,del17_mut,data_df,sort_df,sort_column,num_breaks=breaks)\n",
    "\n",
    "subtype = \"amp1q\"\n",
    "amp1q_mut = miner.getMutations(subtype,cytogenetics) \n",
    "amp1q_subsets = miner.sortedHeatmap(features,amp1q_mut,data_df,sort_df,sort_column,num_breaks=breaks)\n",
    "\n",
    "subtype = \"RNASeq_CCND1_Call\"\n",
    "t1114_mut = miner.getMutations(subtype,translocations) \n",
    "ccnd1_subsets = miner.sortedHeatmap(features,t1114_mut,data_df,sort_df,sort_column,num_breaks=breaks)\n",
    "\n",
    "subtype = \"RNASeq_WHSC1_Call\"\n",
    "t414_mut = miner.getMutations(subtype,translocations) \n",
    "nsd2_subsets = miner.sortedHeatmap(features,t414_mut,data_df,sort_df,sort_column,num_breaks=breaks)\n",
    "\n",
    "subtype = \"RNASeq_MAF_Call\"\n",
    "t1416_mut = miner.getMutations(subtype,translocations) \n",
    "maf_subsets = miner.sortedHeatmap(features,t1416_mut,data_df,sort_df,sort_column,num_breaks=breaks)\n",
    "\n",
    "subtype = \"RNASeq_MYC_Call\"\n",
    "myc_mut = miner.getMutations(subtype,translocations) \n",
    "myc_subsets = miner.sortedHeatmap(features,myc_mut,data_df,sort_df,sort_column,num_breaks=breaks)\n",
    "\n",
    "samples = remainder \n",
    "remainder_subsets = miner.sortedHeatmap(features,samples,data_df,sort_df,sort_column,num_breaks=breaks)\n",
    "\n",
    "samples = relapse_patients \n",
    "relapse_subsets = miner.sortedHeatmap(features,samples,data_df,sort_df,sort_column,num_breaks=breaks,override=True)\n",
    "\n",
    "heatmap_list = [remainder_subsets,\n",
    "                del17_subsets,\n",
    "                amp1q_subsets,\n",
    "                ccnd1_subsets,\n",
    "                nsd2_subsets,\n",
    "                maf_subsets,\n",
    "                myc_subsets,\n",
    "                relapse_subsets\n",
    "               ]\n",
    "\n",
    "\n",
    "stitched_map = miner.stitchHeatmaps(heatmap_list,plot=False)\n"
   ]
  },
  {
   "cell_type": "code",
   "execution_count": 130,
   "metadata": {
    "scrolled": true
   },
   "outputs": [
    {
     "name": "stdout",
     "output_type": "stream",
     "text": [
      "querying 1-7...done.\n",
      "Finished.\n"
     ]
    },
    {
     "data": {
      "image/png": "[encoded data removed]",
      "text/plain": [
       "<Figure size 1152x180 with 2 Axes>"
      ]
     },
     "metadata": {
      "needs_background": "light"
     },
     "output_type": "display_data"
    }
   ],
   "source": [
    "plt.figure(figsize=(16,2.5))\n",
    "automatic_labels = miner.gene_conversion(stitched_map.index,list_symbols=True)\n",
    "ax = sns.heatmap(stitched_map,cmap = \"Reds\",square=False,\n",
    "                 yticklabels=automatic_labels, xticklabels=\"\",vmin=0,vmax=1)\n",
    "ax.tick_params(axis='both', which='both', length=0)\n",
    "\n",
    "#plt.savefig(os.path.join(resultsDirectory,\"Apoptosis_genes_heatmap.pdf\"),bbox_inches=\"tight\")"
   ]
  },
  {
   "cell_type": "markdown",
   "metadata": {},
   "source": [
    "## Analyze apoptosis genes for t(11;14) signature"
   ]
  },
  {
   "cell_type": "code",
   "execution_count": 136,
   "metadata": {},
   "outputs": [
    {
     "data": {
      "text/html": [
       "<div>\n",
       "<style scoped>\n",
       "    .dataframe tbody tr th:only-of-type {\n",
       "        vertical-align: middle;\n",
       "    }\n",
       "\n",
       "    .dataframe tbody tr th {\n",
       "        vertical-align: top;\n",
       "    }\n",
       "\n",
       "    .dataframe thead th {\n",
       "        text-align: right;\n",
       "    }\n",
       "</style>\n",
       "<table border=\"1\" class=\"dataframe\">\n",
       "  <thead>\n",
       "    <tr style=\"text-align: right;\">\n",
       "      <th></th>\n",
       "      <th>CCND1</th>\n",
       "      <th>NOXA</th>\n",
       "      <th>BAK</th>\n",
       "      <th>NOXA/BAK</th>\n",
       "    </tr>\n",
       "  </thead>\n",
       "  <tbody>\n",
       "    <tr>\n",
       "      <th>MMRF_1270_1_BM</th>\n",
       "      <td>0.285714</td>\n",
       "      <td>0.0</td>\n",
       "      <td>0.0</td>\n",
       "      <td>0.0</td>\n",
       "    </tr>\n",
       "    <tr>\n",
       "      <th>MMRF_1037_1_BM</th>\n",
       "      <td>0.000000</td>\n",
       "      <td>0.0</td>\n",
       "      <td>0.0</td>\n",
       "      <td>0.0</td>\n",
       "    </tr>\n",
       "    <tr>\n",
       "      <th>MMRF_2644_1_BM</th>\n",
       "      <td>0.142857</td>\n",
       "      <td>1.0</td>\n",
       "      <td>0.0</td>\n",
       "      <td>1.0</td>\n",
       "    </tr>\n",
       "    <tr>\n",
       "      <th>MMRF_1235_1_BM</th>\n",
       "      <td>-0.714286</td>\n",
       "      <td>-1.0</td>\n",
       "      <td>1.0</td>\n",
       "      <td>-2.0</td>\n",
       "    </tr>\n",
       "    <tr>\n",
       "      <th>MMRF_1621_1_BM</th>\n",
       "      <td>0.071429</td>\n",
       "      <td>0.0</td>\n",
       "      <td>0.0</td>\n",
       "      <td>0.0</td>\n",
       "    </tr>\n",
       "  </tbody>\n",
       "</table>\n",
       "</div>"
      ],
      "text/plain": [
       "                   CCND1  NOXA  BAK  NOXA/BAK\n",
       "MMRF_1270_1_BM  0.285714   0.0  0.0       0.0\n",
       "MMRF_1037_1_BM  0.000000   0.0  0.0       0.0\n",
       "MMRF_2644_1_BM  0.142857   1.0  0.0       1.0\n",
       "MMRF_1235_1_BM -0.714286  -1.0  1.0      -2.0\n",
       "MMRF_1621_1_BM  0.071429   0.0  0.0       0.0"
      ]
     },
     "execution_count": 136,
     "metadata": {},
     "output_type": "execute_result"
    }
   ],
   "source": [
    "network_activity = network_activity_diff.copy()\n",
    "noxa_over_bak = {'CCND1':np.array(network_activity.loc[ccnd1,:]),\n",
    "                 'NOXA':np.array(network_activity.loc[noxa,:]),\n",
    "                 'BAK':np.array(network_activity.loc[bak,:]),\n",
    "                 'NOXA/BAK':np.array(network_activity.loc[noxa,:])-np.array(network_activity.loc[bak,:]),                 \n",
    "                }\n",
    "noxa_over_bak = pd.DataFrame(noxa_over_bak)\n",
    "noxa_over_bak.index = network_activity.columns\n",
    "noxa_over_bak.head()"
   ]
  },
  {
   "cell_type": "code",
   "execution_count": 137,
   "metadata": {},
   "outputs": [
    {
     "data": {
      "image/png": "[encoded data removed]",
      "text/plain": [
       "<Figure size 1152x180 with 2 Axes>"
      ]
     },
     "metadata": {
      "needs_background": "light"
     },
     "output_type": "display_data"
    }
   ],
   "source": [
    "subtype_pats = np.hstack([remainder,\n",
    "                         del17_mut,\n",
    "                         amp1q_mut,\n",
    "                         t1114_mut,\n",
    "                         t414_mut,\n",
    "                         t1416_mut,\n",
    "                         myc_mut])\n",
    "\n",
    "plt.figure(figsize=(16,2.5))\n",
    "venetoclax_markers = noxa_over_bak.loc[subtype_pats,:]\n",
    "venetoclax_markers = venetoclax_markers.T\n",
    "hmap = sns.heatmap(venetoclax_markers,cmap = \"Oranges\",square=False)\n",
    "hmap.set_yticklabels(labels = venetoclax_markers.index,rotation=0)\n",
    "hmap.set_xticklabels(labels=\"\",FontSize=0)\n",
    "hmap.tick_params(axis='both', which='both', length=0)"
   ]
  },
  {
   "cell_type": "code",
   "execution_count": 138,
   "metadata": {},
   "outputs": [
    {
     "data": {
      "image/png": "[encoded data removed]",
      "text/plain": [
       "<Figure size 432x288 with 1 Axes>"
      ]
     },
     "metadata": {
      "needs_background": "light"
     },
     "output_type": "display_data"
    }
   ],
   "source": [
    "#Boxplots of NOXA:BAK ratio by subtype\n",
    "miner.boxplot([noxa_over_bak.loc[del17_mut,'NOXA/BAK'],\n",
    "              noxa_over_bak.loc[amp1q_mut,'NOXA/BAK'],\n",
    "              noxa_over_bak.loc[t1114_mut,'NOXA/BAK'],\n",
    "              noxa_over_bak.loc[t414_mut,'NOXA/BAK'],\n",
    "              noxa_over_bak.loc[t1416_mut,'NOXA/BAK'],\n",
    "              noxa_over_bak.loc[myc_mut,'NOXA/BAK'],\n",
    "              ])"
   ]
  },
  {
   "cell_type": "code",
   "execution_count": null,
   "metadata": {},
   "outputs": [],
   "source": []
  }
 ],
 "metadata": {
  "kernelspec": {
   "display_name": "Python 3",
   "language": "python",
   "name": "python3"
  },
  "language_info": {
   "codemirror_mode": {
    "name": "ipython",
    "version": 3
   },
   "file_extension": ".py",
   "mimetype": "text/x-python",
   "name": "python",
   "nbconvert_exporter": "python",
   "pygments_lexer": "ipython3",
   "version": "3.7.3"
  }
 },
 "nbformat": 4,
 "nbformat_minor": 2
}
